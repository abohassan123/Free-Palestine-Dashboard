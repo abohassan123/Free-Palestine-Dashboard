{
 "cells": [
  {
   "cell_type": "code",
   "execution_count": 5,
   "metadata": {},
   "outputs": [],
   "source": [
    "import pandas as pd \n",
    "import numpy as np \n"
   ]
  },
  {
   "cell_type": "code",
   "execution_count": 8,
   "metadata": {},
   "outputs": [],
   "source": [
    "df=pd.read_csv(r\"D:\\extrnal hard\\ITI\\Data visual\\data_visual_project\\data\\raw_data\\House Demolitions in Palestine.csv\")"
   ]
  },
  {
   "cell_type": "code",
   "execution_count": 9,
   "metadata": {},
   "outputs": [
    {
     "data": {
      "text/html": [
       "<div>\n",
       "<style scoped>\n",
       "    .dataframe tbody tr th:only-of-type {\n",
       "        vertical-align: middle;\n",
       "    }\n",
       "\n",
       "    .dataframe tbody tr th {\n",
       "        vertical-align: top;\n",
       "    }\n",
       "\n",
       "    .dataframe thead th {\n",
       "        text-align: right;\n",
       "    }\n",
       "</style>\n",
       "<table border=\"1\" class=\"dataframe\">\n",
       "  <thead>\n",
       "    <tr style=\"text-align: right;\">\n",
       "      <th></th>\n",
       "      <th>Year</th>\n",
       "      <th>Housing Units</th>\n",
       "      <th>People Left Homeless</th>\n",
       "      <th>Minors Left Homeless</th>\n",
       "      <th>Area</th>\n",
       "      <th>Type of Structure</th>\n",
       "      <th>Demolish Scope</th>\n",
       "      <th>District</th>\n",
       "      <th>Demolition Reason</th>\n",
       "      <th>Demolition carried out by</th>\n",
       "    </tr>\n",
       "  </thead>\n",
       "  <tbody>\n",
       "    <tr>\n",
       "      <th>0</th>\n",
       "      <td>2021.0</td>\n",
       "      <td>8</td>\n",
       "      <td>31</td>\n",
       "      <td>14</td>\n",
       "      <td>The West Bank (Excluding East Jerusalem)</td>\n",
       "      <td>Residential Structure</td>\n",
       "      <td>NaN</td>\n",
       "      <td>Al-Quds</td>\n",
       "      <td>Demolition on the pretext of unlawful construc...</td>\n",
       "      <td>NaN</td>\n",
       "    </tr>\n",
       "    <tr>\n",
       "      <th>1</th>\n",
       "      <td>2021.0</td>\n",
       "      <td>3</td>\n",
       "      <td>5</td>\n",
       "      <td>1</td>\n",
       "      <td>The West Bank (Excluding East Jerusalem)</td>\n",
       "      <td>Residential Structure</td>\n",
       "      <td>NaN</td>\n",
       "      <td>Bethlehem</td>\n",
       "      <td>Demolition on the pretext of unlawful construc...</td>\n",
       "      <td>NaN</td>\n",
       "    </tr>\n",
       "    <tr>\n",
       "      <th>2</th>\n",
       "      <td>2021.0</td>\n",
       "      <td>7</td>\n",
       "      <td>18</td>\n",
       "      <td>12</td>\n",
       "      <td>The West Bank (Excluding East Jerusalem)</td>\n",
       "      <td>Residential Structure</td>\n",
       "      <td>NaN</td>\n",
       "      <td>Hebron</td>\n",
       "      <td>Demolition on the pretext of unlawful construc...</td>\n",
       "      <td>NaN</td>\n",
       "    </tr>\n",
       "    <tr>\n",
       "      <th>3</th>\n",
       "      <td>2021.0</td>\n",
       "      <td>1</td>\n",
       "      <td>0</td>\n",
       "      <td>0</td>\n",
       "      <td>The West Bank (Excluding East Jerusalem)</td>\n",
       "      <td>Residential Structure</td>\n",
       "      <td>NaN</td>\n",
       "      <td>Jenin</td>\n",
       "      <td>Demolition on the pretext of unlawful construc...</td>\n",
       "      <td>NaN</td>\n",
       "    </tr>\n",
       "    <tr>\n",
       "      <th>4</th>\n",
       "      <td>2021.0</td>\n",
       "      <td>16</td>\n",
       "      <td>78</td>\n",
       "      <td>33</td>\n",
       "      <td>The West Bank (Excluding East Jerusalem)</td>\n",
       "      <td>Residential Structure</td>\n",
       "      <td>NaN</td>\n",
       "      <td>Jericho</td>\n",
       "      <td>Demolition on the pretext of unlawful construc...</td>\n",
       "      <td>NaN</td>\n",
       "    </tr>\n",
       "  </tbody>\n",
       "</table>\n",
       "</div>"
      ],
      "text/plain": [
       "     Year Housing Units People Left Homeless Minors Left Homeless  \\\n",
       "0  2021.0             8                   31                   14   \n",
       "1  2021.0             3                    5                    1   \n",
       "2  2021.0             7                   18                   12   \n",
       "3  2021.0             1                    0                    0   \n",
       "4  2021.0            16                   78                   33   \n",
       "\n",
       "                                       Area      Type of Structure  \\\n",
       "0  The West Bank (Excluding East Jerusalem)  Residential Structure   \n",
       "1  The West Bank (Excluding East Jerusalem)  Residential Structure   \n",
       "2  The West Bank (Excluding East Jerusalem)  Residential Structure   \n",
       "3  The West Bank (Excluding East Jerusalem)  Residential Structure   \n",
       "4  The West Bank (Excluding East Jerusalem)  Residential Structure   \n",
       "\n",
       "  Demolish Scope   District  \\\n",
       "0            NaN    Al-Quds   \n",
       "1            NaN  Bethlehem   \n",
       "2            NaN     Hebron   \n",
       "3            NaN      Jenin   \n",
       "4            NaN    Jericho   \n",
       "\n",
       "                                   Demolition Reason Demolition carried out by  \n",
       "0  Demolition on the pretext of unlawful construc...                       NaN  \n",
       "1  Demolition on the pretext of unlawful construc...                       NaN  \n",
       "2  Demolition on the pretext of unlawful construc...                       NaN  \n",
       "3  Demolition on the pretext of unlawful construc...                       NaN  \n",
       "4  Demolition on the pretext of unlawful construc...                       NaN  "
      ]
     },
     "execution_count": 9,
     "metadata": {},
     "output_type": "execute_result"
    }
   ],
   "source": [
    "df.head(5)"
   ]
  },
  {
   "cell_type": "markdown",
   "metadata": {},
   "source": [
    "### ` Dealing with nulls`"
   ]
  },
  {
   "cell_type": "code",
   "execution_count": 10,
   "metadata": {},
   "outputs": [
    {
     "data": {
      "text/plain": [
       "Year                           3\n",
       "Housing Units                  2\n",
       "People Left Homeless           2\n",
       "Minors Left Homeless           3\n",
       "Area                           3\n",
       "Type of Structure              3\n",
       "Demolish Scope               175\n",
       "District                       3\n",
       "Demolition Reason              3\n",
       "Demolition carried out by    220\n",
       "dtype: int64"
      ]
     },
     "execution_count": 10,
     "metadata": {},
     "output_type": "execute_result"
    }
   ],
   "source": [
    "df.isna().sum()"
   ]
  },
  {
   "cell_type": "code",
   "execution_count": 11,
   "metadata": {},
   "outputs": [
    {
     "data": {
      "text/plain": [
       "(272, 10)"
      ]
     },
     "execution_count": 11,
     "metadata": {},
     "output_type": "execute_result"
    }
   ],
   "source": [
    "df.shape"
   ]
  },
  {
   "cell_type": "code",
   "execution_count": 12,
   "metadata": {},
   "outputs": [],
   "source": [
    "df=df.drop(columns=['Demolish Scope','Demolition carried out by'])"
   ]
  },
  {
   "cell_type": "code",
   "execution_count": 13,
   "metadata": {},
   "outputs": [
    {
     "data": {
      "text/html": [
       "<div>\n",
       "<style scoped>\n",
       "    .dataframe tbody tr th:only-of-type {\n",
       "        vertical-align: middle;\n",
       "    }\n",
       "\n",
       "    .dataframe tbody tr th {\n",
       "        vertical-align: top;\n",
       "    }\n",
       "\n",
       "    .dataframe thead th {\n",
       "        text-align: right;\n",
       "    }\n",
       "</style>\n",
       "<table border=\"1\" class=\"dataframe\">\n",
       "  <thead>\n",
       "    <tr style=\"text-align: right;\">\n",
       "      <th></th>\n",
       "      <th>Year</th>\n",
       "      <th>Housing Units</th>\n",
       "      <th>People Left Homeless</th>\n",
       "      <th>Minors Left Homeless</th>\n",
       "      <th>Area</th>\n",
       "      <th>Type of Structure</th>\n",
       "      <th>District</th>\n",
       "      <th>Demolition Reason</th>\n",
       "    </tr>\n",
       "  </thead>\n",
       "  <tbody>\n",
       "    <tr>\n",
       "      <th>0</th>\n",
       "      <td>2021.0</td>\n",
       "      <td>8</td>\n",
       "      <td>31</td>\n",
       "      <td>14</td>\n",
       "      <td>The West Bank (Excluding East Jerusalem)</td>\n",
       "      <td>Residential Structure</td>\n",
       "      <td>Al-Quds</td>\n",
       "      <td>Demolition on the pretext of unlawful construc...</td>\n",
       "    </tr>\n",
       "    <tr>\n",
       "      <th>1</th>\n",
       "      <td>2021.0</td>\n",
       "      <td>3</td>\n",
       "      <td>5</td>\n",
       "      <td>1</td>\n",
       "      <td>The West Bank (Excluding East Jerusalem)</td>\n",
       "      <td>Residential Structure</td>\n",
       "      <td>Bethlehem</td>\n",
       "      <td>Demolition on the pretext of unlawful construc...</td>\n",
       "    </tr>\n",
       "    <tr>\n",
       "      <th>2</th>\n",
       "      <td>2021.0</td>\n",
       "      <td>7</td>\n",
       "      <td>18</td>\n",
       "      <td>12</td>\n",
       "      <td>The West Bank (Excluding East Jerusalem)</td>\n",
       "      <td>Residential Structure</td>\n",
       "      <td>Hebron</td>\n",
       "      <td>Demolition on the pretext of unlawful construc...</td>\n",
       "    </tr>\n",
       "    <tr>\n",
       "      <th>3</th>\n",
       "      <td>2021.0</td>\n",
       "      <td>1</td>\n",
       "      <td>0</td>\n",
       "      <td>0</td>\n",
       "      <td>The West Bank (Excluding East Jerusalem)</td>\n",
       "      <td>Residential Structure</td>\n",
       "      <td>Jenin</td>\n",
       "      <td>Demolition on the pretext of unlawful construc...</td>\n",
       "    </tr>\n",
       "    <tr>\n",
       "      <th>4</th>\n",
       "      <td>2021.0</td>\n",
       "      <td>16</td>\n",
       "      <td>78</td>\n",
       "      <td>33</td>\n",
       "      <td>The West Bank (Excluding East Jerusalem)</td>\n",
       "      <td>Residential Structure</td>\n",
       "      <td>Jericho</td>\n",
       "      <td>Demolition on the pretext of unlawful construc...</td>\n",
       "    </tr>\n",
       "    <tr>\n",
       "      <th>...</th>\n",
       "      <td>...</td>\n",
       "      <td>...</td>\n",
       "      <td>...</td>\n",
       "      <td>...</td>\n",
       "      <td>...</td>\n",
       "      <td>...</td>\n",
       "      <td>...</td>\n",
       "      <td>...</td>\n",
       "    </tr>\n",
       "    <tr>\n",
       "      <th>267</th>\n",
       "      <td>2004.0</td>\n",
       "      <td>4</td>\n",
       "      <td>20</td>\n",
       "      <td>0</td>\n",
       "      <td>Gaza Strip</td>\n",
       "      <td>Residential Structure</td>\n",
       "      <td>Noth Gaza</td>\n",
       "      <td>Demolition of houses as punishment</td>\n",
       "    </tr>\n",
       "    <tr>\n",
       "      <th>268</th>\n",
       "      <td>2004.0</td>\n",
       "      <td>8</td>\n",
       "      <td>66</td>\n",
       "      <td>0</td>\n",
       "      <td>Gaza Strip</td>\n",
       "      <td>Residential Structure</td>\n",
       "      <td>Rafah</td>\n",
       "      <td>Demolition of houses as punishment</td>\n",
       "    </tr>\n",
       "    <tr>\n",
       "      <th>269</th>\n",
       "      <td>NaN</td>\n",
       "      <td>NaN</td>\n",
       "      <td>NaN</td>\n",
       "      <td>NaN</td>\n",
       "      <td>NaN</td>\n",
       "      <td>NaN</td>\n",
       "      <td>NaN</td>\n",
       "      <td>NaN</td>\n",
       "    </tr>\n",
       "    <tr>\n",
       "      <th>270</th>\n",
       "      <td>NaN</td>\n",
       "      <td>NaN</td>\n",
       "      <td>NaN</td>\n",
       "      <td>NaN</td>\n",
       "      <td>NaN</td>\n",
       "      <td>NaN</td>\n",
       "      <td>NaN</td>\n",
       "      <td>NaN</td>\n",
       "    </tr>\n",
       "    <tr>\n",
       "      <th>271</th>\n",
       "      <td>NaN</td>\n",
       "      <td>5,498</td>\n",
       "      <td>25,730</td>\n",
       "      <td>5,998</td>\n",
       "      <td>NaN</td>\n",
       "      <td>NaN</td>\n",
       "      <td>NaN</td>\n",
       "      <td>NaN</td>\n",
       "    </tr>\n",
       "  </tbody>\n",
       "</table>\n",
       "<p>272 rows × 8 columns</p>\n",
       "</div>"
      ],
      "text/plain": [
       "       Year Housing Units People Left Homeless Minors Left Homeless  \\\n",
       "0    2021.0             8                   31                   14   \n",
       "1    2021.0             3                    5                    1   \n",
       "2    2021.0             7                   18                   12   \n",
       "3    2021.0             1                    0                    0   \n",
       "4    2021.0            16                   78                   33   \n",
       "..      ...           ...                  ...                  ...   \n",
       "267  2004.0             4                   20                    0   \n",
       "268  2004.0             8                   66                    0   \n",
       "269     NaN           NaN                  NaN                  NaN   \n",
       "270     NaN           NaN                  NaN                  NaN   \n",
       "271     NaN         5,498               25,730                5,998   \n",
       "\n",
       "                                         Area      Type of Structure  \\\n",
       "0    The West Bank (Excluding East Jerusalem)  Residential Structure   \n",
       "1    The West Bank (Excluding East Jerusalem)  Residential Structure   \n",
       "2    The West Bank (Excluding East Jerusalem)  Residential Structure   \n",
       "3    The West Bank (Excluding East Jerusalem)  Residential Structure   \n",
       "4    The West Bank (Excluding East Jerusalem)  Residential Structure   \n",
       "..                                        ...                    ...   \n",
       "267                                Gaza Strip  Residential Structure   \n",
       "268                                Gaza Strip  Residential Structure   \n",
       "269                                       NaN                    NaN   \n",
       "270                                       NaN                    NaN   \n",
       "271                                       NaN                    NaN   \n",
       "\n",
       "      District                                  Demolition Reason  \n",
       "0      Al-Quds  Demolition on the pretext of unlawful construc...  \n",
       "1    Bethlehem  Demolition on the pretext of unlawful construc...  \n",
       "2       Hebron  Demolition on the pretext of unlawful construc...  \n",
       "3        Jenin  Demolition on the pretext of unlawful construc...  \n",
       "4      Jericho  Demolition on the pretext of unlawful construc...  \n",
       "..         ...                                                ...  \n",
       "267  Noth Gaza                 Demolition of houses as punishment  \n",
       "268      Rafah                 Demolition of houses as punishment  \n",
       "269        NaN                                                NaN  \n",
       "270        NaN                                                NaN  \n",
       "271        NaN                                                NaN  \n",
       "\n",
       "[272 rows x 8 columns]"
      ]
     },
     "execution_count": 13,
     "metadata": {},
     "output_type": "execute_result"
    }
   ],
   "source": [
    "df"
   ]
  },
  {
   "cell_type": "code",
   "execution_count": 14,
   "metadata": {},
   "outputs": [
    {
     "data": {
      "text/plain": [
       "Housing Units    5498\n",
       "dtype: int64"
      ]
     },
     "execution_count": 14,
     "metadata": {},
     "output_type": "execute_result"
    }
   ],
   "source": [
    "df[[\"Housing Units\"]].iloc[0:269].astype(int).sum()"
   ]
  },
  {
   "cell_type": "code",
   "execution_count": 15,
   "metadata": {},
   "outputs": [],
   "source": [
    "idx=[269,270,271]"
   ]
  },
  {
   "cell_type": "code",
   "execution_count": 16,
   "metadata": {},
   "outputs": [],
   "source": [
    "df.drop(idx,axis=0,inplace=True)"
   ]
  },
  {
   "cell_type": "code",
   "execution_count": 17,
   "metadata": {},
   "outputs": [
    {
     "data": {
      "text/plain": [
       "Year                    0\n",
       "Housing Units           0\n",
       "People Left Homeless    0\n",
       "Minors Left Homeless    1\n",
       "Area                    0\n",
       "Type of Structure       0\n",
       "District                0\n",
       "Demolition Reason       0\n",
       "dtype: int64"
      ]
     },
     "execution_count": 17,
     "metadata": {},
     "output_type": "execute_result"
    }
   ],
   "source": [
    "df.isna().sum()"
   ]
  },
  {
   "cell_type": "code",
   "execution_count": 18,
   "metadata": {},
   "outputs": [],
   "source": [
    "df=df.fillna(0)"
   ]
  },
  {
   "cell_type": "code",
   "execution_count": 19,
   "metadata": {},
   "outputs": [
    {
     "data": {
      "text/plain": [
       "Year                    0\n",
       "Housing Units           0\n",
       "People Left Homeless    0\n",
       "Minors Left Homeless    0\n",
       "Area                    0\n",
       "Type of Structure       0\n",
       "District                0\n",
       "Demolition Reason       0\n",
       "dtype: int64"
      ]
     },
     "execution_count": 19,
     "metadata": {},
     "output_type": "execute_result"
    }
   ],
   "source": [
    "df.isna().sum()"
   ]
  },
  {
   "cell_type": "markdown",
   "metadata": {},
   "source": [
    "### `Dealing with types`"
   ]
  },
  {
   "cell_type": "code",
   "execution_count": 20,
   "metadata": {},
   "outputs": [
    {
     "name": "stdout",
     "output_type": "stream",
     "text": [
      "<class 'pandas.core.frame.DataFrame'>\n",
      "Int64Index: 269 entries, 0 to 268\n",
      "Data columns (total 8 columns):\n",
      " #   Column                Non-Null Count  Dtype  \n",
      "---  ------                --------------  -----  \n",
      " 0   Year                  269 non-null    float64\n",
      " 1   Housing Units         269 non-null    object \n",
      " 2   People Left Homeless  269 non-null    object \n",
      " 3   Minors Left Homeless  269 non-null    object \n",
      " 4   Area                  269 non-null    object \n",
      " 5   Type of Structure     269 non-null    object \n",
      " 6   District              269 non-null    object \n",
      " 7   Demolition Reason     269 non-null    object \n",
      "dtypes: float64(1), object(7)\n",
      "memory usage: 18.9+ KB\n"
     ]
    }
   ],
   "source": [
    "df.info()"
   ]
  },
  {
   "cell_type": "code",
   "execution_count": 21,
   "metadata": {},
   "outputs": [],
   "source": [
    "num_cols=['Housing Units','People Left Homeless','Minors Left Homeless']"
   ]
  },
  {
   "cell_type": "code",
   "execution_count": 22,
   "metadata": {},
   "outputs": [],
   "source": [
    "for col in num_cols :\n",
    "    df[col]=df[col].astype(str)"
   ]
  },
  {
   "cell_type": "code",
   "execution_count": 23,
   "metadata": {},
   "outputs": [],
   "source": [
    "for col in num_cols :\n",
    "    df[col]=df[col].apply(lambda x:x.replace(',',''))"
   ]
  },
  {
   "cell_type": "code",
   "execution_count": 24,
   "metadata": {},
   "outputs": [],
   "source": [
    "num_cols=['Housing Units','People Left Homeless','Minors Left Homeless','Year']"
   ]
  },
  {
   "cell_type": "code",
   "execution_count": 25,
   "metadata": {},
   "outputs": [],
   "source": [
    "for col in num_cols :\n",
    "    df[col]=df[col].astype(int)"
   ]
  },
  {
   "cell_type": "code",
   "execution_count": 26,
   "metadata": {},
   "outputs": [
    {
     "name": "stdout",
     "output_type": "stream",
     "text": [
      "<class 'pandas.core.frame.DataFrame'>\n",
      "Int64Index: 269 entries, 0 to 268\n",
      "Data columns (total 8 columns):\n",
      " #   Column                Non-Null Count  Dtype \n",
      "---  ------                --------------  ----- \n",
      " 0   Year                  269 non-null    int32 \n",
      " 1   Housing Units         269 non-null    int32 \n",
      " 2   People Left Homeless  269 non-null    int32 \n",
      " 3   Minors Left Homeless  269 non-null    int32 \n",
      " 4   Area                  269 non-null    object\n",
      " 5   Type of Structure     269 non-null    object\n",
      " 6   District              269 non-null    object\n",
      " 7   Demolition Reason     269 non-null    object\n",
      "dtypes: int32(4), object(4)\n",
      "memory usage: 14.7+ KB\n"
     ]
    }
   ],
   "source": [
    "df.info()"
   ]
  },
  {
   "cell_type": "code",
   "execution_count": 27,
   "metadata": {},
   "outputs": [
    {
     "data": {
      "text/html": [
       "<div>\n",
       "<style scoped>\n",
       "    .dataframe tbody tr th:only-of-type {\n",
       "        vertical-align: middle;\n",
       "    }\n",
       "\n",
       "    .dataframe tbody tr th {\n",
       "        vertical-align: top;\n",
       "    }\n",
       "\n",
       "    .dataframe thead th {\n",
       "        text-align: right;\n",
       "    }\n",
       "</style>\n",
       "<table border=\"1\" class=\"dataframe\">\n",
       "  <thead>\n",
       "    <tr style=\"text-align: right;\">\n",
       "      <th></th>\n",
       "      <th>Year</th>\n",
       "      <th>Housing Units</th>\n",
       "      <th>People Left Homeless</th>\n",
       "      <th>Minors Left Homeless</th>\n",
       "      <th>Area</th>\n",
       "      <th>Type of Structure</th>\n",
       "      <th>District</th>\n",
       "      <th>Demolition Reason</th>\n",
       "    </tr>\n",
       "  </thead>\n",
       "  <tbody>\n",
       "    <tr>\n",
       "      <th>0</th>\n",
       "      <td>2021</td>\n",
       "      <td>8</td>\n",
       "      <td>31</td>\n",
       "      <td>14</td>\n",
       "      <td>The West Bank (Excluding East Jerusalem)</td>\n",
       "      <td>Residential Structure</td>\n",
       "      <td>Al-Quds</td>\n",
       "      <td>Demolition on the pretext of unlawful construc...</td>\n",
       "    </tr>\n",
       "    <tr>\n",
       "      <th>1</th>\n",
       "      <td>2021</td>\n",
       "      <td>3</td>\n",
       "      <td>5</td>\n",
       "      <td>1</td>\n",
       "      <td>The West Bank (Excluding East Jerusalem)</td>\n",
       "      <td>Residential Structure</td>\n",
       "      <td>Bethlehem</td>\n",
       "      <td>Demolition on the pretext of unlawful construc...</td>\n",
       "    </tr>\n",
       "    <tr>\n",
       "      <th>2</th>\n",
       "      <td>2021</td>\n",
       "      <td>7</td>\n",
       "      <td>18</td>\n",
       "      <td>12</td>\n",
       "      <td>The West Bank (Excluding East Jerusalem)</td>\n",
       "      <td>Residential Structure</td>\n",
       "      <td>Hebron</td>\n",
       "      <td>Demolition on the pretext of unlawful construc...</td>\n",
       "    </tr>\n",
       "    <tr>\n",
       "      <th>3</th>\n",
       "      <td>2021</td>\n",
       "      <td>1</td>\n",
       "      <td>0</td>\n",
       "      <td>0</td>\n",
       "      <td>The West Bank (Excluding East Jerusalem)</td>\n",
       "      <td>Residential Structure</td>\n",
       "      <td>Jenin</td>\n",
       "      <td>Demolition on the pretext of unlawful construc...</td>\n",
       "    </tr>\n",
       "    <tr>\n",
       "      <th>4</th>\n",
       "      <td>2021</td>\n",
       "      <td>16</td>\n",
       "      <td>78</td>\n",
       "      <td>33</td>\n",
       "      <td>The West Bank (Excluding East Jerusalem)</td>\n",
       "      <td>Residential Structure</td>\n",
       "      <td>Jericho</td>\n",
       "      <td>Demolition on the pretext of unlawful construc...</td>\n",
       "    </tr>\n",
       "    <tr>\n",
       "      <th>...</th>\n",
       "      <td>...</td>\n",
       "      <td>...</td>\n",
       "      <td>...</td>\n",
       "      <td>...</td>\n",
       "      <td>...</td>\n",
       "      <td>...</td>\n",
       "      <td>...</td>\n",
       "      <td>...</td>\n",
       "    </tr>\n",
       "    <tr>\n",
       "      <th>264</th>\n",
       "      <td>2004</td>\n",
       "      <td>4</td>\n",
       "      <td>24</td>\n",
       "      <td>0</td>\n",
       "      <td>Gaza Strip</td>\n",
       "      <td>Residential Structure</td>\n",
       "      <td>Deir al-Balah</td>\n",
       "      <td>Demolition of houses as punishment</td>\n",
       "    </tr>\n",
       "    <tr>\n",
       "      <th>265</th>\n",
       "      <td>2004</td>\n",
       "      <td>6</td>\n",
       "      <td>50</td>\n",
       "      <td>0</td>\n",
       "      <td>Gaza Strip</td>\n",
       "      <td>Residential Structure</td>\n",
       "      <td>Gaza</td>\n",
       "      <td>Demolition of houses as punishment</td>\n",
       "    </tr>\n",
       "    <tr>\n",
       "      <th>266</th>\n",
       "      <td>2004</td>\n",
       "      <td>2</td>\n",
       "      <td>10</td>\n",
       "      <td>0</td>\n",
       "      <td>Gaza Strip</td>\n",
       "      <td>Residential Structure</td>\n",
       "      <td>Khan Yunis</td>\n",
       "      <td>Demolition of houses as punishment</td>\n",
       "    </tr>\n",
       "    <tr>\n",
       "      <th>267</th>\n",
       "      <td>2004</td>\n",
       "      <td>4</td>\n",
       "      <td>20</td>\n",
       "      <td>0</td>\n",
       "      <td>Gaza Strip</td>\n",
       "      <td>Residential Structure</td>\n",
       "      <td>Noth Gaza</td>\n",
       "      <td>Demolition of houses as punishment</td>\n",
       "    </tr>\n",
       "    <tr>\n",
       "      <th>268</th>\n",
       "      <td>2004</td>\n",
       "      <td>8</td>\n",
       "      <td>66</td>\n",
       "      <td>0</td>\n",
       "      <td>Gaza Strip</td>\n",
       "      <td>Residential Structure</td>\n",
       "      <td>Rafah</td>\n",
       "      <td>Demolition of houses as punishment</td>\n",
       "    </tr>\n",
       "  </tbody>\n",
       "</table>\n",
       "<p>269 rows × 8 columns</p>\n",
       "</div>"
      ],
      "text/plain": [
       "     Year  Housing Units  People Left Homeless  Minors Left Homeless  \\\n",
       "0    2021              8                    31                    14   \n",
       "1    2021              3                     5                     1   \n",
       "2    2021              7                    18                    12   \n",
       "3    2021              1                     0                     0   \n",
       "4    2021             16                    78                    33   \n",
       "..    ...            ...                   ...                   ...   \n",
       "264  2004              4                    24                     0   \n",
       "265  2004              6                    50                     0   \n",
       "266  2004              2                    10                     0   \n",
       "267  2004              4                    20                     0   \n",
       "268  2004              8                    66                     0   \n",
       "\n",
       "                                         Area      Type of Structure  \\\n",
       "0    The West Bank (Excluding East Jerusalem)  Residential Structure   \n",
       "1    The West Bank (Excluding East Jerusalem)  Residential Structure   \n",
       "2    The West Bank (Excluding East Jerusalem)  Residential Structure   \n",
       "3    The West Bank (Excluding East Jerusalem)  Residential Structure   \n",
       "4    The West Bank (Excluding East Jerusalem)  Residential Structure   \n",
       "..                                        ...                    ...   \n",
       "264                                Gaza Strip  Residential Structure   \n",
       "265                                Gaza Strip  Residential Structure   \n",
       "266                                Gaza Strip  Residential Structure   \n",
       "267                                Gaza Strip  Residential Structure   \n",
       "268                                Gaza Strip  Residential Structure   \n",
       "\n",
       "          District                                  Demolition Reason  \n",
       "0          Al-Quds  Demolition on the pretext of unlawful construc...  \n",
       "1        Bethlehem  Demolition on the pretext of unlawful construc...  \n",
       "2           Hebron  Demolition on the pretext of unlawful construc...  \n",
       "3            Jenin  Demolition on the pretext of unlawful construc...  \n",
       "4          Jericho  Demolition on the pretext of unlawful construc...  \n",
       "..             ...                                                ...  \n",
       "264  Deir al-Balah                 Demolition of houses as punishment  \n",
       "265           Gaza                 Demolition of houses as punishment  \n",
       "266     Khan Yunis                 Demolition of houses as punishment  \n",
       "267      Noth Gaza                 Demolition of houses as punishment  \n",
       "268          Rafah                 Demolition of houses as punishment  \n",
       "\n",
       "[269 rows x 8 columns]"
      ]
     },
     "execution_count": 27,
     "metadata": {},
     "output_type": "execute_result"
    }
   ],
   "source": [
    "df"
   ]
  },
  {
   "cell_type": "markdown",
   "metadata": {},
   "source": [
    "### ` New features `"
   ]
  },
  {
   "cell_type": "code",
   "execution_count": 28,
   "metadata": {},
   "outputs": [],
   "source": [
    "df[\"total_Homeless\"]=df['People Left Homeless']+df['Minors Left Homeless']"
   ]
  },
  {
   "cell_type": "code",
   "execution_count": 29,
   "metadata": {},
   "outputs": [
    {
     "data": {
      "text/html": [
       "<div>\n",
       "<style scoped>\n",
       "    .dataframe tbody tr th:only-of-type {\n",
       "        vertical-align: middle;\n",
       "    }\n",
       "\n",
       "    .dataframe tbody tr th {\n",
       "        vertical-align: top;\n",
       "    }\n",
       "\n",
       "    .dataframe thead th {\n",
       "        text-align: right;\n",
       "    }\n",
       "</style>\n",
       "<table border=\"1\" class=\"dataframe\">\n",
       "  <thead>\n",
       "    <tr style=\"text-align: right;\">\n",
       "      <th></th>\n",
       "      <th>Year</th>\n",
       "      <th>Housing Units</th>\n",
       "      <th>People Left Homeless</th>\n",
       "      <th>Minors Left Homeless</th>\n",
       "      <th>Area</th>\n",
       "      <th>Type of Structure</th>\n",
       "      <th>District</th>\n",
       "      <th>Demolition Reason</th>\n",
       "      <th>total_Homeless</th>\n",
       "    </tr>\n",
       "  </thead>\n",
       "  <tbody>\n",
       "    <tr>\n",
       "      <th>0</th>\n",
       "      <td>2021</td>\n",
       "      <td>8</td>\n",
       "      <td>31</td>\n",
       "      <td>14</td>\n",
       "      <td>The West Bank (Excluding East Jerusalem)</td>\n",
       "      <td>Residential Structure</td>\n",
       "      <td>Al-Quds</td>\n",
       "      <td>Demolition on the pretext of unlawful construc...</td>\n",
       "      <td>45</td>\n",
       "    </tr>\n",
       "    <tr>\n",
       "      <th>1</th>\n",
       "      <td>2021</td>\n",
       "      <td>3</td>\n",
       "      <td>5</td>\n",
       "      <td>1</td>\n",
       "      <td>The West Bank (Excluding East Jerusalem)</td>\n",
       "      <td>Residential Structure</td>\n",
       "      <td>Bethlehem</td>\n",
       "      <td>Demolition on the pretext of unlawful construc...</td>\n",
       "      <td>6</td>\n",
       "    </tr>\n",
       "    <tr>\n",
       "      <th>2</th>\n",
       "      <td>2021</td>\n",
       "      <td>7</td>\n",
       "      <td>18</td>\n",
       "      <td>12</td>\n",
       "      <td>The West Bank (Excluding East Jerusalem)</td>\n",
       "      <td>Residential Structure</td>\n",
       "      <td>Hebron</td>\n",
       "      <td>Demolition on the pretext of unlawful construc...</td>\n",
       "      <td>30</td>\n",
       "    </tr>\n",
       "    <tr>\n",
       "      <th>3</th>\n",
       "      <td>2021</td>\n",
       "      <td>1</td>\n",
       "      <td>0</td>\n",
       "      <td>0</td>\n",
       "      <td>The West Bank (Excluding East Jerusalem)</td>\n",
       "      <td>Residential Structure</td>\n",
       "      <td>Jenin</td>\n",
       "      <td>Demolition on the pretext of unlawful construc...</td>\n",
       "      <td>0</td>\n",
       "    </tr>\n",
       "    <tr>\n",
       "      <th>4</th>\n",
       "      <td>2021</td>\n",
       "      <td>16</td>\n",
       "      <td>78</td>\n",
       "      <td>33</td>\n",
       "      <td>The West Bank (Excluding East Jerusalem)</td>\n",
       "      <td>Residential Structure</td>\n",
       "      <td>Jericho</td>\n",
       "      <td>Demolition on the pretext of unlawful construc...</td>\n",
       "      <td>111</td>\n",
       "    </tr>\n",
       "    <tr>\n",
       "      <th>...</th>\n",
       "      <td>...</td>\n",
       "      <td>...</td>\n",
       "      <td>...</td>\n",
       "      <td>...</td>\n",
       "      <td>...</td>\n",
       "      <td>...</td>\n",
       "      <td>...</td>\n",
       "      <td>...</td>\n",
       "      <td>...</td>\n",
       "    </tr>\n",
       "    <tr>\n",
       "      <th>264</th>\n",
       "      <td>2004</td>\n",
       "      <td>4</td>\n",
       "      <td>24</td>\n",
       "      <td>0</td>\n",
       "      <td>Gaza Strip</td>\n",
       "      <td>Residential Structure</td>\n",
       "      <td>Deir al-Balah</td>\n",
       "      <td>Demolition of houses as punishment</td>\n",
       "      <td>24</td>\n",
       "    </tr>\n",
       "    <tr>\n",
       "      <th>265</th>\n",
       "      <td>2004</td>\n",
       "      <td>6</td>\n",
       "      <td>50</td>\n",
       "      <td>0</td>\n",
       "      <td>Gaza Strip</td>\n",
       "      <td>Residential Structure</td>\n",
       "      <td>Gaza</td>\n",
       "      <td>Demolition of houses as punishment</td>\n",
       "      <td>50</td>\n",
       "    </tr>\n",
       "    <tr>\n",
       "      <th>266</th>\n",
       "      <td>2004</td>\n",
       "      <td>2</td>\n",
       "      <td>10</td>\n",
       "      <td>0</td>\n",
       "      <td>Gaza Strip</td>\n",
       "      <td>Residential Structure</td>\n",
       "      <td>Khan Yunis</td>\n",
       "      <td>Demolition of houses as punishment</td>\n",
       "      <td>10</td>\n",
       "    </tr>\n",
       "    <tr>\n",
       "      <th>267</th>\n",
       "      <td>2004</td>\n",
       "      <td>4</td>\n",
       "      <td>20</td>\n",
       "      <td>0</td>\n",
       "      <td>Gaza Strip</td>\n",
       "      <td>Residential Structure</td>\n",
       "      <td>Noth Gaza</td>\n",
       "      <td>Demolition of houses as punishment</td>\n",
       "      <td>20</td>\n",
       "    </tr>\n",
       "    <tr>\n",
       "      <th>268</th>\n",
       "      <td>2004</td>\n",
       "      <td>8</td>\n",
       "      <td>66</td>\n",
       "      <td>0</td>\n",
       "      <td>Gaza Strip</td>\n",
       "      <td>Residential Structure</td>\n",
       "      <td>Rafah</td>\n",
       "      <td>Demolition of houses as punishment</td>\n",
       "      <td>66</td>\n",
       "    </tr>\n",
       "  </tbody>\n",
       "</table>\n",
       "<p>269 rows × 9 columns</p>\n",
       "</div>"
      ],
      "text/plain": [
       "     Year  Housing Units  People Left Homeless  Minors Left Homeless  \\\n",
       "0    2021              8                    31                    14   \n",
       "1    2021              3                     5                     1   \n",
       "2    2021              7                    18                    12   \n",
       "3    2021              1                     0                     0   \n",
       "4    2021             16                    78                    33   \n",
       "..    ...            ...                   ...                   ...   \n",
       "264  2004              4                    24                     0   \n",
       "265  2004              6                    50                     0   \n",
       "266  2004              2                    10                     0   \n",
       "267  2004              4                    20                     0   \n",
       "268  2004              8                    66                     0   \n",
       "\n",
       "                                         Area      Type of Structure  \\\n",
       "0    The West Bank (Excluding East Jerusalem)  Residential Structure   \n",
       "1    The West Bank (Excluding East Jerusalem)  Residential Structure   \n",
       "2    The West Bank (Excluding East Jerusalem)  Residential Structure   \n",
       "3    The West Bank (Excluding East Jerusalem)  Residential Structure   \n",
       "4    The West Bank (Excluding East Jerusalem)  Residential Structure   \n",
       "..                                        ...                    ...   \n",
       "264                                Gaza Strip  Residential Structure   \n",
       "265                                Gaza Strip  Residential Structure   \n",
       "266                                Gaza Strip  Residential Structure   \n",
       "267                                Gaza Strip  Residential Structure   \n",
       "268                                Gaza Strip  Residential Structure   \n",
       "\n",
       "          District                                  Demolition Reason  \\\n",
       "0          Al-Quds  Demolition on the pretext of unlawful construc...   \n",
       "1        Bethlehem  Demolition on the pretext of unlawful construc...   \n",
       "2           Hebron  Demolition on the pretext of unlawful construc...   \n",
       "3            Jenin  Demolition on the pretext of unlawful construc...   \n",
       "4          Jericho  Demolition on the pretext of unlawful construc...   \n",
       "..             ...                                                ...   \n",
       "264  Deir al-Balah                 Demolition of houses as punishment   \n",
       "265           Gaza                 Demolition of houses as punishment   \n",
       "266     Khan Yunis                 Demolition of houses as punishment   \n",
       "267      Noth Gaza                 Demolition of houses as punishment   \n",
       "268          Rafah                 Demolition of houses as punishment   \n",
       "\n",
       "     total_Homeless  \n",
       "0                45  \n",
       "1                 6  \n",
       "2                30  \n",
       "3                 0  \n",
       "4               111  \n",
       "..              ...  \n",
       "264              24  \n",
       "265              50  \n",
       "266              10  \n",
       "267              20  \n",
       "268              66  \n",
       "\n",
       "[269 rows x 9 columns]"
      ]
     },
     "execution_count": 29,
     "metadata": {},
     "output_type": "execute_result"
    }
   ],
   "source": [
    "df"
   ]
  },
  {
   "cell_type": "code",
   "execution_count": 30,
   "metadata": {},
   "outputs": [
    {
     "data": {
      "text/plain": [
       "130"
      ]
     },
     "execution_count": 30,
     "metadata": {},
     "output_type": "execute_result"
    }
   ],
   "source": [
    "df[df[\"Year\"]==2021]['Housing Units'].sum()"
   ]
  },
  {
   "cell_type": "markdown",
   "metadata": {},
   "source": [
    "### `additions tables`"
   ]
  },
  {
   "cell_type": "code",
   "execution_count": 32,
   "metadata": {},
   "outputs": [],
   "source": [
    "df2=pd.read_excel(r'D:\\extrnal hard\\ITI\\Data visual\\data_visual_project\\data\\raw_data\\new1.xlsx')"
   ]
  },
  {
   "cell_type": "code",
   "execution_count": 33,
   "metadata": {},
   "outputs": [
    {
     "data": {
      "text/html": [
       "<div>\n",
       "<style scoped>\n",
       "    .dataframe tbody tr th:only-of-type {\n",
       "        vertical-align: middle;\n",
       "    }\n",
       "\n",
       "    .dataframe tbody tr th {\n",
       "        vertical-align: top;\n",
       "    }\n",
       "\n",
       "    .dataframe thead th {\n",
       "        text-align: right;\n",
       "    }\n",
       "</style>\n",
       "<table border=\"1\" class=\"dataframe\">\n",
       "  <thead>\n",
       "    <tr style=\"text-align: right;\">\n",
       "      <th></th>\n",
       "      <th>Date of Demolition</th>\n",
       "      <th>Locality</th>\n",
       "      <th>District</th>\n",
       "      <th>Area</th>\n",
       "      <th>Housing Units</th>\n",
       "      <th>People left Homeless</th>\n",
       "      <th>Minors left Homeless</th>\n",
       "      <th>Type Of Sturcture</th>\n",
       "    </tr>\n",
       "  </thead>\n",
       "  <tbody>\n",
       "    <tr>\n",
       "      <th>0</th>\n",
       "      <td>2022-04-13</td>\n",
       "      <td>al-Mughayir</td>\n",
       "      <td>Ramallah and al-Bira</td>\n",
       "      <td>west-bank</td>\n",
       "      <td>1</td>\n",
       "      <td>0</td>\n",
       "      <td>0</td>\n",
       "      <td>Non Resedential</td>\n",
       "    </tr>\n",
       "    <tr>\n",
       "      <th>1</th>\n",
       "      <td>2022-04-13</td>\n",
       "      <td>al-Mughayir</td>\n",
       "      <td>Ramallah and al-Bira</td>\n",
       "      <td>west-bank</td>\n",
       "      <td>1</td>\n",
       "      <td>0</td>\n",
       "      <td>0</td>\n",
       "      <td>Non Resedential</td>\n",
       "    </tr>\n",
       "    <tr>\n",
       "      <th>2</th>\n",
       "      <td>2022-04-12</td>\n",
       "      <td>'Ein Samia</td>\n",
       "      <td>Ramallah and al-Bira</td>\n",
       "      <td>west-bank</td>\n",
       "      <td>1</td>\n",
       "      <td>0</td>\n",
       "      <td>0</td>\n",
       "      <td>Non Resedential</td>\n",
       "    </tr>\n",
       "    <tr>\n",
       "      <th>3</th>\n",
       "      <td>2022-03-23</td>\n",
       "      <td>al-Mughayir</td>\n",
       "      <td>Ramallah and al-Bira</td>\n",
       "      <td>west-bank</td>\n",
       "      <td>1</td>\n",
       "      <td>0</td>\n",
       "      <td>0</td>\n",
       "      <td>Non Resedential</td>\n",
       "    </tr>\n",
       "    <tr>\n",
       "      <th>4</th>\n",
       "      <td>2022-03-23</td>\n",
       "      <td>al-Mughayir</td>\n",
       "      <td>Ramallah and al-Bira</td>\n",
       "      <td>west-bank</td>\n",
       "      <td>1</td>\n",
       "      <td>0</td>\n",
       "      <td>0</td>\n",
       "      <td>Non Resedential</td>\n",
       "    </tr>\n",
       "    <tr>\n",
       "      <th>...</th>\n",
       "      <td>...</td>\n",
       "      <td>...</td>\n",
       "      <td>...</td>\n",
       "      <td>...</td>\n",
       "      <td>...</td>\n",
       "      <td>...</td>\n",
       "      <td>...</td>\n",
       "      <td>...</td>\n",
       "    </tr>\n",
       "    <tr>\n",
       "      <th>3235</th>\n",
       "      <td>2006-01-17</td>\n",
       "      <td>Bethlehem</td>\n",
       "      <td>Bethlehem</td>\n",
       "      <td>west-bank</td>\n",
       "      <td>1</td>\n",
       "      <td>10</td>\n",
       "      <td>7</td>\n",
       "      <td>Residental</td>\n",
       "    </tr>\n",
       "    <tr>\n",
       "      <th>3236</th>\n",
       "      <td>2006-01-17</td>\n",
       "      <td>Bethlehem</td>\n",
       "      <td>Bethlehem</td>\n",
       "      <td>west-bank</td>\n",
       "      <td>1</td>\n",
       "      <td>7</td>\n",
       "      <td>5</td>\n",
       "      <td>Residental</td>\n",
       "    </tr>\n",
       "    <tr>\n",
       "      <th>3237</th>\n",
       "      <td>2006-01-17</td>\n",
       "      <td>Beit Ta'mar</td>\n",
       "      <td>Bethlehem</td>\n",
       "      <td>west-bank</td>\n",
       "      <td>1</td>\n",
       "      <td>5</td>\n",
       "      <td>3</td>\n",
       "      <td>Residental</td>\n",
       "    </tr>\n",
       "    <tr>\n",
       "      <th>3238</th>\n",
       "      <td>2006-01-17</td>\n",
       "      <td>Bethlehem</td>\n",
       "      <td>Bethlehem</td>\n",
       "      <td>west-bank</td>\n",
       "      <td>1</td>\n",
       "      <td>10</td>\n",
       "      <td>7</td>\n",
       "      <td>Residental</td>\n",
       "    </tr>\n",
       "    <tr>\n",
       "      <th>3239</th>\n",
       "      <td>2006-01-04</td>\n",
       "      <td>al-Walajah</td>\n",
       "      <td>Bethlehem</td>\n",
       "      <td>west-bank</td>\n",
       "      <td>1</td>\n",
       "      <td>0</td>\n",
       "      <td>0</td>\n",
       "      <td>Residental</td>\n",
       "    </tr>\n",
       "  </tbody>\n",
       "</table>\n",
       "<p>3240 rows × 8 columns</p>\n",
       "</div>"
      ],
      "text/plain": [
       "     Date of Demolition     Locality              District       Area  \\\n",
       "0            2022-04-13  al-Mughayir  Ramallah and al-Bira  west-bank   \n",
       "1            2022-04-13  al-Mughayir  Ramallah and al-Bira  west-bank   \n",
       "2            2022-04-12   'Ein Samia  Ramallah and al-Bira  west-bank   \n",
       "3            2022-03-23  al-Mughayir  Ramallah and al-Bira  west-bank   \n",
       "4            2022-03-23  al-Mughayir  Ramallah and al-Bira  west-bank   \n",
       "...                 ...          ...                   ...        ...   \n",
       "3235         2006-01-17    Bethlehem             Bethlehem  west-bank   \n",
       "3236         2006-01-17    Bethlehem             Bethlehem  west-bank   \n",
       "3237         2006-01-17  Beit Ta'mar             Bethlehem  west-bank   \n",
       "3238         2006-01-17    Bethlehem             Bethlehem  west-bank   \n",
       "3239         2006-01-04   al-Walajah             Bethlehem  west-bank   \n",
       "\n",
       "      Housing Units  People left Homeless  Minors left Homeless  \\\n",
       "0                 1                     0                     0   \n",
       "1                 1                     0                     0   \n",
       "2                 1                     0                     0   \n",
       "3                 1                     0                     0   \n",
       "4                 1                     0                     0   \n",
       "...             ...                   ...                   ...   \n",
       "3235              1                    10                     7   \n",
       "3236              1                     7                     5   \n",
       "3237              1                     5                     3   \n",
       "3238              1                    10                     7   \n",
       "3239              1                     0                     0   \n",
       "\n",
       "     Type Of Sturcture  \n",
       "0      Non Resedential  \n",
       "1      Non Resedential  \n",
       "2      Non Resedential  \n",
       "3      Non Resedential  \n",
       "4      Non Resedential  \n",
       "...                ...  \n",
       "3235        Residental  \n",
       "3236        Residental  \n",
       "3237        Residental  \n",
       "3238        Residental  \n",
       "3239        Residental  \n",
       "\n",
       "[3240 rows x 8 columns]"
      ]
     },
     "execution_count": 33,
     "metadata": {},
     "output_type": "execute_result"
    }
   ],
   "source": [
    "df2"
   ]
  },
  {
   "cell_type": "code",
   "execution_count": 34,
   "metadata": {},
   "outputs": [
    {
     "data": {
      "text/plain": [
       "Date of Demolition      0\n",
       "Locality                2\n",
       "District                2\n",
       "Area                    0\n",
       "Housing Units           0\n",
       "People left Homeless    0\n",
       "Minors left Homeless    0\n",
       "Type Of Sturcture       0\n",
       "dtype: int64"
      ]
     },
     "execution_count": 34,
     "metadata": {},
     "output_type": "execute_result"
    }
   ],
   "source": [
    "df2.isna().sum()"
   ]
  },
  {
   "cell_type": "code",
   "execution_count": 35,
   "metadata": {},
   "outputs": [
    {
     "name": "stdout",
     "output_type": "stream",
     "text": [
      "<class 'pandas.core.frame.DataFrame'>\n",
      "RangeIndex: 3240 entries, 0 to 3239\n",
      "Data columns (total 8 columns):\n",
      " #   Column                Non-Null Count  Dtype         \n",
      "---  ------                --------------  -----         \n",
      " 0   Date of Demolition    3240 non-null   datetime64[ns]\n",
      " 1   Locality              3238 non-null   object        \n",
      " 2   District              3238 non-null   object        \n",
      " 3   Area                  3240 non-null   object        \n",
      " 4   Housing Units         3240 non-null   int64         \n",
      " 5   People left Homeless  3240 non-null   int64         \n",
      " 6   Minors left Homeless  3240 non-null   int64         \n",
      " 7   Type Of Sturcture     3240 non-null   object        \n",
      "dtypes: datetime64[ns](1), int64(3), object(4)\n",
      "memory usage: 202.6+ KB\n"
     ]
    }
   ],
   "source": [
    "df2.info()"
   ]
  },
  {
   "cell_type": "code",
   "execution_count": 36,
   "metadata": {},
   "outputs": [],
   "source": [
    "df2['Year'] = pd.to_datetime(df2['Date of Demolition']).dt.year\n",
    "df2['Month'] = pd.to_datetime(df2['Date of Demolition']).dt.month\n",
    "df2['Day'] = pd.to_datetime(df2['Date of Demolition']).dt.day\n"
   ]
  },
  {
   "cell_type": "code",
   "execution_count": 37,
   "metadata": {},
   "outputs": [
    {
     "data": {
      "text/html": [
       "<div>\n",
       "<style scoped>\n",
       "    .dataframe tbody tr th:only-of-type {\n",
       "        vertical-align: middle;\n",
       "    }\n",
       "\n",
       "    .dataframe tbody tr th {\n",
       "        vertical-align: top;\n",
       "    }\n",
       "\n",
       "    .dataframe thead th {\n",
       "        text-align: right;\n",
       "    }\n",
       "</style>\n",
       "<table border=\"1\" class=\"dataframe\">\n",
       "  <thead>\n",
       "    <tr style=\"text-align: right;\">\n",
       "      <th></th>\n",
       "      <th>Date of Demolition</th>\n",
       "      <th>Locality</th>\n",
       "      <th>District</th>\n",
       "      <th>Area</th>\n",
       "      <th>Housing Units</th>\n",
       "      <th>People left Homeless</th>\n",
       "      <th>Minors left Homeless</th>\n",
       "      <th>Type Of Sturcture</th>\n",
       "      <th>Year</th>\n",
       "      <th>Month</th>\n",
       "      <th>Day</th>\n",
       "    </tr>\n",
       "  </thead>\n",
       "  <tbody>\n",
       "    <tr>\n",
       "      <th>0</th>\n",
       "      <td>2022-04-13</td>\n",
       "      <td>al-Mughayir</td>\n",
       "      <td>Ramallah and al-Bira</td>\n",
       "      <td>west-bank</td>\n",
       "      <td>1</td>\n",
       "      <td>0</td>\n",
       "      <td>0</td>\n",
       "      <td>Non Resedential</td>\n",
       "      <td>2022</td>\n",
       "      <td>4</td>\n",
       "      <td>13</td>\n",
       "    </tr>\n",
       "    <tr>\n",
       "      <th>1</th>\n",
       "      <td>2022-04-13</td>\n",
       "      <td>al-Mughayir</td>\n",
       "      <td>Ramallah and al-Bira</td>\n",
       "      <td>west-bank</td>\n",
       "      <td>1</td>\n",
       "      <td>0</td>\n",
       "      <td>0</td>\n",
       "      <td>Non Resedential</td>\n",
       "      <td>2022</td>\n",
       "      <td>4</td>\n",
       "      <td>13</td>\n",
       "    </tr>\n",
       "    <tr>\n",
       "      <th>2</th>\n",
       "      <td>2022-04-12</td>\n",
       "      <td>'Ein Samia</td>\n",
       "      <td>Ramallah and al-Bira</td>\n",
       "      <td>west-bank</td>\n",
       "      <td>1</td>\n",
       "      <td>0</td>\n",
       "      <td>0</td>\n",
       "      <td>Non Resedential</td>\n",
       "      <td>2022</td>\n",
       "      <td>4</td>\n",
       "      <td>12</td>\n",
       "    </tr>\n",
       "    <tr>\n",
       "      <th>3</th>\n",
       "      <td>2022-03-23</td>\n",
       "      <td>al-Mughayir</td>\n",
       "      <td>Ramallah and al-Bira</td>\n",
       "      <td>west-bank</td>\n",
       "      <td>1</td>\n",
       "      <td>0</td>\n",
       "      <td>0</td>\n",
       "      <td>Non Resedential</td>\n",
       "      <td>2022</td>\n",
       "      <td>3</td>\n",
       "      <td>23</td>\n",
       "    </tr>\n",
       "    <tr>\n",
       "      <th>4</th>\n",
       "      <td>2022-03-23</td>\n",
       "      <td>al-Mughayir</td>\n",
       "      <td>Ramallah and al-Bira</td>\n",
       "      <td>west-bank</td>\n",
       "      <td>1</td>\n",
       "      <td>0</td>\n",
       "      <td>0</td>\n",
       "      <td>Non Resedential</td>\n",
       "      <td>2022</td>\n",
       "      <td>3</td>\n",
       "      <td>23</td>\n",
       "    </tr>\n",
       "    <tr>\n",
       "      <th>...</th>\n",
       "      <td>...</td>\n",
       "      <td>...</td>\n",
       "      <td>...</td>\n",
       "      <td>...</td>\n",
       "      <td>...</td>\n",
       "      <td>...</td>\n",
       "      <td>...</td>\n",
       "      <td>...</td>\n",
       "      <td>...</td>\n",
       "      <td>...</td>\n",
       "      <td>...</td>\n",
       "    </tr>\n",
       "    <tr>\n",
       "      <th>3235</th>\n",
       "      <td>2006-01-17</td>\n",
       "      <td>Bethlehem</td>\n",
       "      <td>Bethlehem</td>\n",
       "      <td>west-bank</td>\n",
       "      <td>1</td>\n",
       "      <td>10</td>\n",
       "      <td>7</td>\n",
       "      <td>Residental</td>\n",
       "      <td>2006</td>\n",
       "      <td>1</td>\n",
       "      <td>17</td>\n",
       "    </tr>\n",
       "    <tr>\n",
       "      <th>3236</th>\n",
       "      <td>2006-01-17</td>\n",
       "      <td>Bethlehem</td>\n",
       "      <td>Bethlehem</td>\n",
       "      <td>west-bank</td>\n",
       "      <td>1</td>\n",
       "      <td>7</td>\n",
       "      <td>5</td>\n",
       "      <td>Residental</td>\n",
       "      <td>2006</td>\n",
       "      <td>1</td>\n",
       "      <td>17</td>\n",
       "    </tr>\n",
       "    <tr>\n",
       "      <th>3237</th>\n",
       "      <td>2006-01-17</td>\n",
       "      <td>Beit Ta'mar</td>\n",
       "      <td>Bethlehem</td>\n",
       "      <td>west-bank</td>\n",
       "      <td>1</td>\n",
       "      <td>5</td>\n",
       "      <td>3</td>\n",
       "      <td>Residental</td>\n",
       "      <td>2006</td>\n",
       "      <td>1</td>\n",
       "      <td>17</td>\n",
       "    </tr>\n",
       "    <tr>\n",
       "      <th>3238</th>\n",
       "      <td>2006-01-17</td>\n",
       "      <td>Bethlehem</td>\n",
       "      <td>Bethlehem</td>\n",
       "      <td>west-bank</td>\n",
       "      <td>1</td>\n",
       "      <td>10</td>\n",
       "      <td>7</td>\n",
       "      <td>Residental</td>\n",
       "      <td>2006</td>\n",
       "      <td>1</td>\n",
       "      <td>17</td>\n",
       "    </tr>\n",
       "    <tr>\n",
       "      <th>3239</th>\n",
       "      <td>2006-01-04</td>\n",
       "      <td>al-Walajah</td>\n",
       "      <td>Bethlehem</td>\n",
       "      <td>west-bank</td>\n",
       "      <td>1</td>\n",
       "      <td>0</td>\n",
       "      <td>0</td>\n",
       "      <td>Residental</td>\n",
       "      <td>2006</td>\n",
       "      <td>1</td>\n",
       "      <td>4</td>\n",
       "    </tr>\n",
       "  </tbody>\n",
       "</table>\n",
       "<p>3240 rows × 11 columns</p>\n",
       "</div>"
      ],
      "text/plain": [
       "     Date of Demolition     Locality              District       Area  \\\n",
       "0            2022-04-13  al-Mughayir  Ramallah and al-Bira  west-bank   \n",
       "1            2022-04-13  al-Mughayir  Ramallah and al-Bira  west-bank   \n",
       "2            2022-04-12   'Ein Samia  Ramallah and al-Bira  west-bank   \n",
       "3            2022-03-23  al-Mughayir  Ramallah and al-Bira  west-bank   \n",
       "4            2022-03-23  al-Mughayir  Ramallah and al-Bira  west-bank   \n",
       "...                 ...          ...                   ...        ...   \n",
       "3235         2006-01-17    Bethlehem             Bethlehem  west-bank   \n",
       "3236         2006-01-17    Bethlehem             Bethlehem  west-bank   \n",
       "3237         2006-01-17  Beit Ta'mar             Bethlehem  west-bank   \n",
       "3238         2006-01-17    Bethlehem             Bethlehem  west-bank   \n",
       "3239         2006-01-04   al-Walajah             Bethlehem  west-bank   \n",
       "\n",
       "      Housing Units  People left Homeless  Minors left Homeless  \\\n",
       "0                 1                     0                     0   \n",
       "1                 1                     0                     0   \n",
       "2                 1                     0                     0   \n",
       "3                 1                     0                     0   \n",
       "4                 1                     0                     0   \n",
       "...             ...                   ...                   ...   \n",
       "3235              1                    10                     7   \n",
       "3236              1                     7                     5   \n",
       "3237              1                     5                     3   \n",
       "3238              1                    10                     7   \n",
       "3239              1                     0                     0   \n",
       "\n",
       "     Type Of Sturcture  Year  Month  Day  \n",
       "0      Non Resedential  2022      4   13  \n",
       "1      Non Resedential  2022      4   13  \n",
       "2      Non Resedential  2022      4   12  \n",
       "3      Non Resedential  2022      3   23  \n",
       "4      Non Resedential  2022      3   23  \n",
       "...                ...   ...    ...  ...  \n",
       "3235        Residental  2006      1   17  \n",
       "3236        Residental  2006      1   17  \n",
       "3237        Residental  2006      1   17  \n",
       "3238        Residental  2006      1   17  \n",
       "3239        Residental  2006      1    4  \n",
       "\n",
       "[3240 rows x 11 columns]"
      ]
     },
     "execution_count": 37,
     "metadata": {},
     "output_type": "execute_result"
    }
   ],
   "source": [
    "df2"
   ]
  },
  {
   "cell_type": "code",
   "execution_count": 38,
   "metadata": {},
   "outputs": [],
   "source": [
    "df2[\"Demolition Reason\"]=\"Demolition on the pretext of unlawful construction\""
   ]
  },
  {
   "cell_type": "code",
   "execution_count": 39,
   "metadata": {},
   "outputs": [
    {
     "data": {
      "text/html": [
       "<div>\n",
       "<style scoped>\n",
       "    .dataframe tbody tr th:only-of-type {\n",
       "        vertical-align: middle;\n",
       "    }\n",
       "\n",
       "    .dataframe tbody tr th {\n",
       "        vertical-align: top;\n",
       "    }\n",
       "\n",
       "    .dataframe thead th {\n",
       "        text-align: right;\n",
       "    }\n",
       "</style>\n",
       "<table border=\"1\" class=\"dataframe\">\n",
       "  <thead>\n",
       "    <tr style=\"text-align: right;\">\n",
       "      <th></th>\n",
       "      <th>Date of Demolition</th>\n",
       "      <th>Locality</th>\n",
       "      <th>District</th>\n",
       "      <th>Area</th>\n",
       "      <th>Housing Units</th>\n",
       "      <th>People left Homeless</th>\n",
       "      <th>Minors left Homeless</th>\n",
       "      <th>Type Of Sturcture</th>\n",
       "      <th>Year</th>\n",
       "      <th>Month</th>\n",
       "      <th>Day</th>\n",
       "      <th>Demolition Reason</th>\n",
       "    </tr>\n",
       "  </thead>\n",
       "  <tbody>\n",
       "    <tr>\n",
       "      <th>0</th>\n",
       "      <td>2022-04-13</td>\n",
       "      <td>al-Mughayir</td>\n",
       "      <td>Ramallah and al-Bira</td>\n",
       "      <td>west-bank</td>\n",
       "      <td>1</td>\n",
       "      <td>0</td>\n",
       "      <td>0</td>\n",
       "      <td>Non Resedential</td>\n",
       "      <td>2022</td>\n",
       "      <td>4</td>\n",
       "      <td>13</td>\n",
       "      <td>Demolition on the pretext of unlawful construc...</td>\n",
       "    </tr>\n",
       "    <tr>\n",
       "      <th>1</th>\n",
       "      <td>2022-04-13</td>\n",
       "      <td>al-Mughayir</td>\n",
       "      <td>Ramallah and al-Bira</td>\n",
       "      <td>west-bank</td>\n",
       "      <td>1</td>\n",
       "      <td>0</td>\n",
       "      <td>0</td>\n",
       "      <td>Non Resedential</td>\n",
       "      <td>2022</td>\n",
       "      <td>4</td>\n",
       "      <td>13</td>\n",
       "      <td>Demolition on the pretext of unlawful construc...</td>\n",
       "    </tr>\n",
       "    <tr>\n",
       "      <th>2</th>\n",
       "      <td>2022-04-12</td>\n",
       "      <td>'Ein Samia</td>\n",
       "      <td>Ramallah and al-Bira</td>\n",
       "      <td>west-bank</td>\n",
       "      <td>1</td>\n",
       "      <td>0</td>\n",
       "      <td>0</td>\n",
       "      <td>Non Resedential</td>\n",
       "      <td>2022</td>\n",
       "      <td>4</td>\n",
       "      <td>12</td>\n",
       "      <td>Demolition on the pretext of unlawful construc...</td>\n",
       "    </tr>\n",
       "    <tr>\n",
       "      <th>3</th>\n",
       "      <td>2022-03-23</td>\n",
       "      <td>al-Mughayir</td>\n",
       "      <td>Ramallah and al-Bira</td>\n",
       "      <td>west-bank</td>\n",
       "      <td>1</td>\n",
       "      <td>0</td>\n",
       "      <td>0</td>\n",
       "      <td>Non Resedential</td>\n",
       "      <td>2022</td>\n",
       "      <td>3</td>\n",
       "      <td>23</td>\n",
       "      <td>Demolition on the pretext of unlawful construc...</td>\n",
       "    </tr>\n",
       "    <tr>\n",
       "      <th>4</th>\n",
       "      <td>2022-03-23</td>\n",
       "      <td>al-Mughayir</td>\n",
       "      <td>Ramallah and al-Bira</td>\n",
       "      <td>west-bank</td>\n",
       "      <td>1</td>\n",
       "      <td>0</td>\n",
       "      <td>0</td>\n",
       "      <td>Non Resedential</td>\n",
       "      <td>2022</td>\n",
       "      <td>3</td>\n",
       "      <td>23</td>\n",
       "      <td>Demolition on the pretext of unlawful construc...</td>\n",
       "    </tr>\n",
       "    <tr>\n",
       "      <th>...</th>\n",
       "      <td>...</td>\n",
       "      <td>...</td>\n",
       "      <td>...</td>\n",
       "      <td>...</td>\n",
       "      <td>...</td>\n",
       "      <td>...</td>\n",
       "      <td>...</td>\n",
       "      <td>...</td>\n",
       "      <td>...</td>\n",
       "      <td>...</td>\n",
       "      <td>...</td>\n",
       "      <td>...</td>\n",
       "    </tr>\n",
       "    <tr>\n",
       "      <th>3235</th>\n",
       "      <td>2006-01-17</td>\n",
       "      <td>Bethlehem</td>\n",
       "      <td>Bethlehem</td>\n",
       "      <td>west-bank</td>\n",
       "      <td>1</td>\n",
       "      <td>10</td>\n",
       "      <td>7</td>\n",
       "      <td>Residental</td>\n",
       "      <td>2006</td>\n",
       "      <td>1</td>\n",
       "      <td>17</td>\n",
       "      <td>Demolition on the pretext of unlawful construc...</td>\n",
       "    </tr>\n",
       "    <tr>\n",
       "      <th>3236</th>\n",
       "      <td>2006-01-17</td>\n",
       "      <td>Bethlehem</td>\n",
       "      <td>Bethlehem</td>\n",
       "      <td>west-bank</td>\n",
       "      <td>1</td>\n",
       "      <td>7</td>\n",
       "      <td>5</td>\n",
       "      <td>Residental</td>\n",
       "      <td>2006</td>\n",
       "      <td>1</td>\n",
       "      <td>17</td>\n",
       "      <td>Demolition on the pretext of unlawful construc...</td>\n",
       "    </tr>\n",
       "    <tr>\n",
       "      <th>3237</th>\n",
       "      <td>2006-01-17</td>\n",
       "      <td>Beit Ta'mar</td>\n",
       "      <td>Bethlehem</td>\n",
       "      <td>west-bank</td>\n",
       "      <td>1</td>\n",
       "      <td>5</td>\n",
       "      <td>3</td>\n",
       "      <td>Residental</td>\n",
       "      <td>2006</td>\n",
       "      <td>1</td>\n",
       "      <td>17</td>\n",
       "      <td>Demolition on the pretext of unlawful construc...</td>\n",
       "    </tr>\n",
       "    <tr>\n",
       "      <th>3238</th>\n",
       "      <td>2006-01-17</td>\n",
       "      <td>Bethlehem</td>\n",
       "      <td>Bethlehem</td>\n",
       "      <td>west-bank</td>\n",
       "      <td>1</td>\n",
       "      <td>10</td>\n",
       "      <td>7</td>\n",
       "      <td>Residental</td>\n",
       "      <td>2006</td>\n",
       "      <td>1</td>\n",
       "      <td>17</td>\n",
       "      <td>Demolition on the pretext of unlawful construc...</td>\n",
       "    </tr>\n",
       "    <tr>\n",
       "      <th>3239</th>\n",
       "      <td>2006-01-04</td>\n",
       "      <td>al-Walajah</td>\n",
       "      <td>Bethlehem</td>\n",
       "      <td>west-bank</td>\n",
       "      <td>1</td>\n",
       "      <td>0</td>\n",
       "      <td>0</td>\n",
       "      <td>Residental</td>\n",
       "      <td>2006</td>\n",
       "      <td>1</td>\n",
       "      <td>4</td>\n",
       "      <td>Demolition on the pretext of unlawful construc...</td>\n",
       "    </tr>\n",
       "  </tbody>\n",
       "</table>\n",
       "<p>3240 rows × 12 columns</p>\n",
       "</div>"
      ],
      "text/plain": [
       "     Date of Demolition     Locality              District       Area  \\\n",
       "0            2022-04-13  al-Mughayir  Ramallah and al-Bira  west-bank   \n",
       "1            2022-04-13  al-Mughayir  Ramallah and al-Bira  west-bank   \n",
       "2            2022-04-12   'Ein Samia  Ramallah and al-Bira  west-bank   \n",
       "3            2022-03-23  al-Mughayir  Ramallah and al-Bira  west-bank   \n",
       "4            2022-03-23  al-Mughayir  Ramallah and al-Bira  west-bank   \n",
       "...                 ...          ...                   ...        ...   \n",
       "3235         2006-01-17    Bethlehem             Bethlehem  west-bank   \n",
       "3236         2006-01-17    Bethlehem             Bethlehem  west-bank   \n",
       "3237         2006-01-17  Beit Ta'mar             Bethlehem  west-bank   \n",
       "3238         2006-01-17    Bethlehem             Bethlehem  west-bank   \n",
       "3239         2006-01-04   al-Walajah             Bethlehem  west-bank   \n",
       "\n",
       "      Housing Units  People left Homeless  Minors left Homeless  \\\n",
       "0                 1                     0                     0   \n",
       "1                 1                     0                     0   \n",
       "2                 1                     0                     0   \n",
       "3                 1                     0                     0   \n",
       "4                 1                     0                     0   \n",
       "...             ...                   ...                   ...   \n",
       "3235              1                    10                     7   \n",
       "3236              1                     7                     5   \n",
       "3237              1                     5                     3   \n",
       "3238              1                    10                     7   \n",
       "3239              1                     0                     0   \n",
       "\n",
       "     Type Of Sturcture  Year  Month  Day  \\\n",
       "0      Non Resedential  2022      4   13   \n",
       "1      Non Resedential  2022      4   13   \n",
       "2      Non Resedential  2022      4   12   \n",
       "3      Non Resedential  2022      3   23   \n",
       "4      Non Resedential  2022      3   23   \n",
       "...                ...   ...    ...  ...   \n",
       "3235        Residental  2006      1   17   \n",
       "3236        Residental  2006      1   17   \n",
       "3237        Residental  2006      1   17   \n",
       "3238        Residental  2006      1   17   \n",
       "3239        Residental  2006      1    4   \n",
       "\n",
       "                                      Demolition Reason  \n",
       "0     Demolition on the pretext of unlawful construc...  \n",
       "1     Demolition on the pretext of unlawful construc...  \n",
       "2     Demolition on the pretext of unlawful construc...  \n",
       "3     Demolition on the pretext of unlawful construc...  \n",
       "4     Demolition on the pretext of unlawful construc...  \n",
       "...                                                 ...  \n",
       "3235  Demolition on the pretext of unlawful construc...  \n",
       "3236  Demolition on the pretext of unlawful construc...  \n",
       "3237  Demolition on the pretext of unlawful construc...  \n",
       "3238  Demolition on the pretext of unlawful construc...  \n",
       "3239  Demolition on the pretext of unlawful construc...  \n",
       "\n",
       "[3240 rows x 12 columns]"
      ]
     },
     "execution_count": 39,
     "metadata": {},
     "output_type": "execute_result"
    }
   ],
   "source": [
    "df2"
   ]
  },
  {
   "cell_type": "code",
   "execution_count": 40,
   "metadata": {},
   "outputs": [],
   "source": [
    "# idx1=list(df2[df2[\"Locality\"]=='non'].index)\n",
    "# idx1"
   ]
  },
  {
   "cell_type": "code",
   "execution_count": 41,
   "metadata": {},
   "outputs": [],
   "source": [
    "df3=pd.read_excel(r'D:\\extrnal hard\\ITI\\Data visual\\data_visual_project\\data\\raw_data\\new2.xlsx')"
   ]
  },
  {
   "cell_type": "code",
   "execution_count": 42,
   "metadata": {},
   "outputs": [
    {
     "data": {
      "text/html": [
       "<div>\n",
       "<style scoped>\n",
       "    .dataframe tbody tr th:only-of-type {\n",
       "        vertical-align: middle;\n",
       "    }\n",
       "\n",
       "    .dataframe tbody tr th {\n",
       "        vertical-align: top;\n",
       "    }\n",
       "\n",
       "    .dataframe thead th {\n",
       "        text-align: right;\n",
       "    }\n",
       "</style>\n",
       "<table border=\"1\" class=\"dataframe\">\n",
       "  <thead>\n",
       "    <tr style=\"text-align: right;\">\n",
       "      <th></th>\n",
       "      <th>Date of Demolition</th>\n",
       "      <th>Locality</th>\n",
       "      <th>District</th>\n",
       "      <th>Area</th>\n",
       "      <th>Housing Units</th>\n",
       "      <th>People left Homeless</th>\n",
       "      <th>Minors left Homeless</th>\n",
       "      <th>Type Of Sturcture</th>\n",
       "    </tr>\n",
       "  </thead>\n",
       "  <tbody>\n",
       "    <tr>\n",
       "      <th>0</th>\n",
       "      <td>2021-08-18</td>\n",
       "      <td>Ya'bad</td>\n",
       "      <td>Jenin</td>\n",
       "      <td>west-bank</td>\n",
       "      <td>1</td>\n",
       "      <td>0</td>\n",
       "      <td>0</td>\n",
       "      <td>Non Resedential</td>\n",
       "    </tr>\n",
       "    <tr>\n",
       "      <th>1</th>\n",
       "      <td>2018-02-03</td>\n",
       "      <td>Birqin</td>\n",
       "      <td>Jenin</td>\n",
       "      <td>west-bank</td>\n",
       "      <td>3</td>\n",
       "      <td>0</td>\n",
       "      <td>0</td>\n",
       "      <td>Non Resedential</td>\n",
       "    </tr>\n",
       "    <tr>\n",
       "      <th>2</th>\n",
       "      <td>2018-01-18</td>\n",
       "      <td>Jenin</td>\n",
       "      <td>Jenin</td>\n",
       "      <td>west-bank</td>\n",
       "      <td>2</td>\n",
       "      <td>5</td>\n",
       "      <td>1</td>\n",
       "      <td>Residental</td>\n",
       "    </tr>\n",
       "    <tr>\n",
       "      <th>3</th>\n",
       "      <td>2018-01-18</td>\n",
       "      <td>Jenin</td>\n",
       "      <td>Jenin</td>\n",
       "      <td>west-bank</td>\n",
       "      <td>1</td>\n",
       "      <td>6</td>\n",
       "      <td>2</td>\n",
       "      <td>Residental</td>\n",
       "    </tr>\n",
       "    <tr>\n",
       "      <th>4</th>\n",
       "      <td>2018-01-18</td>\n",
       "      <td>Jenin</td>\n",
       "      <td>Jenin</td>\n",
       "      <td>west-bank</td>\n",
       "      <td>1</td>\n",
       "      <td>5</td>\n",
       "      <td>0</td>\n",
       "      <td>Residental</td>\n",
       "    </tr>\n",
       "    <tr>\n",
       "      <th>...</th>\n",
       "      <td>...</td>\n",
       "      <td>...</td>\n",
       "      <td>...</td>\n",
       "      <td>...</td>\n",
       "      <td>...</td>\n",
       "      <td>...</td>\n",
       "      <td>...</td>\n",
       "      <td>...</td>\n",
       "    </tr>\n",
       "    <tr>\n",
       "      <th>1473</th>\n",
       "      <td>2004-01-01</td>\n",
       "      <td>Deir al-Balah</td>\n",
       "      <td>Deir al-Balah</td>\n",
       "      <td>gaza-strip</td>\n",
       "      <td>1</td>\n",
       "      <td>2</td>\n",
       "      <td>0</td>\n",
       "      <td>Residental</td>\n",
       "    </tr>\n",
       "    <tr>\n",
       "      <th>1474</th>\n",
       "      <td>2004-01-01</td>\n",
       "      <td>Deir al-Balah</td>\n",
       "      <td>Deir al-Balah</td>\n",
       "      <td>gaza-strip</td>\n",
       "      <td>1</td>\n",
       "      <td>10</td>\n",
       "      <td>0</td>\n",
       "      <td>Residental</td>\n",
       "    </tr>\n",
       "    <tr>\n",
       "      <th>1475</th>\n",
       "      <td>2004-01-01</td>\n",
       "      <td>Deir al-Balah</td>\n",
       "      <td>Deir al-Balah</td>\n",
       "      <td>gaza-strip</td>\n",
       "      <td>1</td>\n",
       "      <td>6</td>\n",
       "      <td>0</td>\n",
       "      <td>Residental</td>\n",
       "    </tr>\n",
       "    <tr>\n",
       "      <th>1476</th>\n",
       "      <td>2004-01-01</td>\n",
       "      <td>Deir al-Balah</td>\n",
       "      <td>Deir al-Balah</td>\n",
       "      <td>gaza-strip</td>\n",
       "      <td>1</td>\n",
       "      <td>10</td>\n",
       "      <td>0</td>\n",
       "      <td>Residental</td>\n",
       "    </tr>\n",
       "    <tr>\n",
       "      <th>1477</th>\n",
       "      <td>2004-01-01</td>\n",
       "      <td>Deir al-Balah</td>\n",
       "      <td>Deir al-Balah</td>\n",
       "      <td>gaza-strip</td>\n",
       "      <td>1</td>\n",
       "      <td>5</td>\n",
       "      <td>0</td>\n",
       "      <td>Residental</td>\n",
       "    </tr>\n",
       "  </tbody>\n",
       "</table>\n",
       "<p>1478 rows × 8 columns</p>\n",
       "</div>"
      ],
      "text/plain": [
       "     Date of Demolition       Locality       District        Area  \\\n",
       "0            2021-08-18         Ya'bad          Jenin   west-bank   \n",
       "1            2018-02-03         Birqin          Jenin   west-bank   \n",
       "2            2018-01-18          Jenin          Jenin   west-bank   \n",
       "3            2018-01-18          Jenin          Jenin   west-bank   \n",
       "4            2018-01-18          Jenin          Jenin   west-bank   \n",
       "...                 ...            ...            ...         ...   \n",
       "1473         2004-01-01  Deir al-Balah  Deir al-Balah  gaza-strip   \n",
       "1474         2004-01-01  Deir al-Balah  Deir al-Balah  gaza-strip   \n",
       "1475         2004-01-01  Deir al-Balah  Deir al-Balah  gaza-strip   \n",
       "1476         2004-01-01  Deir al-Balah  Deir al-Balah  gaza-strip   \n",
       "1477         2004-01-01  Deir al-Balah  Deir al-Balah  gaza-strip   \n",
       "\n",
       "      Housing Units  People left Homeless  Minors left Homeless  \\\n",
       "0                 1                     0                     0   \n",
       "1                 3                     0                     0   \n",
       "2                 2                     5                     1   \n",
       "3                 1                     6                     2   \n",
       "4                 1                     5                     0   \n",
       "...             ...                   ...                   ...   \n",
       "1473              1                     2                     0   \n",
       "1474              1                    10                     0   \n",
       "1475              1                     6                     0   \n",
       "1476              1                    10                     0   \n",
       "1477              1                     5                     0   \n",
       "\n",
       "     Type Of Sturcture  \n",
       "0      Non Resedential  \n",
       "1      Non Resedential  \n",
       "2           Residental  \n",
       "3           Residental  \n",
       "4           Residental  \n",
       "...                ...  \n",
       "1473        Residental  \n",
       "1474        Residental  \n",
       "1475        Residental  \n",
       "1476        Residental  \n",
       "1477        Residental  \n",
       "\n",
       "[1478 rows x 8 columns]"
      ]
     },
     "execution_count": 42,
     "metadata": {},
     "output_type": "execute_result"
    }
   ],
   "source": [
    "df3"
   ]
  },
  {
   "cell_type": "code",
   "execution_count": 43,
   "metadata": {},
   "outputs": [
    {
     "data": {
      "text/plain": [
       "Date of Demolition      0\n",
       "Locality                0\n",
       "District                0\n",
       "Area                    0\n",
       "Housing Units           0\n",
       "People left Homeless    0\n",
       "Minors left Homeless    0\n",
       "Type Of Sturcture       0\n",
       "dtype: int64"
      ]
     },
     "execution_count": 43,
     "metadata": {},
     "output_type": "execute_result"
    }
   ],
   "source": [
    "df3.isna().sum()"
   ]
  },
  {
   "cell_type": "code",
   "execution_count": 44,
   "metadata": {},
   "outputs": [],
   "source": [
    "df3['Year'] = pd.to_datetime(df3['Date of Demolition']).dt.year\n",
    "df3['Month'] = pd.to_datetime(df3['Date of Demolition']).dt.month\n",
    "df3['Day'] = pd.to_datetime(df3['Date of Demolition']).dt.day"
   ]
  },
  {
   "cell_type": "code",
   "execution_count": 45,
   "metadata": {},
   "outputs": [
    {
     "data": {
      "text/html": [
       "<div>\n",
       "<style scoped>\n",
       "    .dataframe tbody tr th:only-of-type {\n",
       "        vertical-align: middle;\n",
       "    }\n",
       "\n",
       "    .dataframe tbody tr th {\n",
       "        vertical-align: top;\n",
       "    }\n",
       "\n",
       "    .dataframe thead th {\n",
       "        text-align: right;\n",
       "    }\n",
       "</style>\n",
       "<table border=\"1\" class=\"dataframe\">\n",
       "  <thead>\n",
       "    <tr style=\"text-align: right;\">\n",
       "      <th></th>\n",
       "      <th>Date of Demolition</th>\n",
       "      <th>Locality</th>\n",
       "      <th>District</th>\n",
       "      <th>Area</th>\n",
       "      <th>Housing Units</th>\n",
       "      <th>People left Homeless</th>\n",
       "      <th>Minors left Homeless</th>\n",
       "      <th>Type Of Sturcture</th>\n",
       "      <th>Year</th>\n",
       "      <th>Month</th>\n",
       "      <th>Day</th>\n",
       "    </tr>\n",
       "  </thead>\n",
       "  <tbody>\n",
       "    <tr>\n",
       "      <th>0</th>\n",
       "      <td>2021-08-18</td>\n",
       "      <td>Ya'bad</td>\n",
       "      <td>Jenin</td>\n",
       "      <td>west-bank</td>\n",
       "      <td>1</td>\n",
       "      <td>0</td>\n",
       "      <td>0</td>\n",
       "      <td>Non Resedential</td>\n",
       "      <td>2021</td>\n",
       "      <td>8</td>\n",
       "      <td>18</td>\n",
       "    </tr>\n",
       "    <tr>\n",
       "      <th>1</th>\n",
       "      <td>2018-02-03</td>\n",
       "      <td>Birqin</td>\n",
       "      <td>Jenin</td>\n",
       "      <td>west-bank</td>\n",
       "      <td>3</td>\n",
       "      <td>0</td>\n",
       "      <td>0</td>\n",
       "      <td>Non Resedential</td>\n",
       "      <td>2018</td>\n",
       "      <td>2</td>\n",
       "      <td>3</td>\n",
       "    </tr>\n",
       "    <tr>\n",
       "      <th>2</th>\n",
       "      <td>2018-01-18</td>\n",
       "      <td>Jenin</td>\n",
       "      <td>Jenin</td>\n",
       "      <td>west-bank</td>\n",
       "      <td>2</td>\n",
       "      <td>5</td>\n",
       "      <td>1</td>\n",
       "      <td>Residental</td>\n",
       "      <td>2018</td>\n",
       "      <td>1</td>\n",
       "      <td>18</td>\n",
       "    </tr>\n",
       "    <tr>\n",
       "      <th>3</th>\n",
       "      <td>2018-01-18</td>\n",
       "      <td>Jenin</td>\n",
       "      <td>Jenin</td>\n",
       "      <td>west-bank</td>\n",
       "      <td>1</td>\n",
       "      <td>6</td>\n",
       "      <td>2</td>\n",
       "      <td>Residental</td>\n",
       "      <td>2018</td>\n",
       "      <td>1</td>\n",
       "      <td>18</td>\n",
       "    </tr>\n",
       "    <tr>\n",
       "      <th>4</th>\n",
       "      <td>2018-01-18</td>\n",
       "      <td>Jenin</td>\n",
       "      <td>Jenin</td>\n",
       "      <td>west-bank</td>\n",
       "      <td>1</td>\n",
       "      <td>5</td>\n",
       "      <td>0</td>\n",
       "      <td>Residental</td>\n",
       "      <td>2018</td>\n",
       "      <td>1</td>\n",
       "      <td>18</td>\n",
       "    </tr>\n",
       "    <tr>\n",
       "      <th>...</th>\n",
       "      <td>...</td>\n",
       "      <td>...</td>\n",
       "      <td>...</td>\n",
       "      <td>...</td>\n",
       "      <td>...</td>\n",
       "      <td>...</td>\n",
       "      <td>...</td>\n",
       "      <td>...</td>\n",
       "      <td>...</td>\n",
       "      <td>...</td>\n",
       "      <td>...</td>\n",
       "    </tr>\n",
       "    <tr>\n",
       "      <th>1473</th>\n",
       "      <td>2004-01-01</td>\n",
       "      <td>Deir al-Balah</td>\n",
       "      <td>Deir al-Balah</td>\n",
       "      <td>gaza-strip</td>\n",
       "      <td>1</td>\n",
       "      <td>2</td>\n",
       "      <td>0</td>\n",
       "      <td>Residental</td>\n",
       "      <td>2004</td>\n",
       "      <td>1</td>\n",
       "      <td>1</td>\n",
       "    </tr>\n",
       "    <tr>\n",
       "      <th>1474</th>\n",
       "      <td>2004-01-01</td>\n",
       "      <td>Deir al-Balah</td>\n",
       "      <td>Deir al-Balah</td>\n",
       "      <td>gaza-strip</td>\n",
       "      <td>1</td>\n",
       "      <td>10</td>\n",
       "      <td>0</td>\n",
       "      <td>Residental</td>\n",
       "      <td>2004</td>\n",
       "      <td>1</td>\n",
       "      <td>1</td>\n",
       "    </tr>\n",
       "    <tr>\n",
       "      <th>1475</th>\n",
       "      <td>2004-01-01</td>\n",
       "      <td>Deir al-Balah</td>\n",
       "      <td>Deir al-Balah</td>\n",
       "      <td>gaza-strip</td>\n",
       "      <td>1</td>\n",
       "      <td>6</td>\n",
       "      <td>0</td>\n",
       "      <td>Residental</td>\n",
       "      <td>2004</td>\n",
       "      <td>1</td>\n",
       "      <td>1</td>\n",
       "    </tr>\n",
       "    <tr>\n",
       "      <th>1476</th>\n",
       "      <td>2004-01-01</td>\n",
       "      <td>Deir al-Balah</td>\n",
       "      <td>Deir al-Balah</td>\n",
       "      <td>gaza-strip</td>\n",
       "      <td>1</td>\n",
       "      <td>10</td>\n",
       "      <td>0</td>\n",
       "      <td>Residental</td>\n",
       "      <td>2004</td>\n",
       "      <td>1</td>\n",
       "      <td>1</td>\n",
       "    </tr>\n",
       "    <tr>\n",
       "      <th>1477</th>\n",
       "      <td>2004-01-01</td>\n",
       "      <td>Deir al-Balah</td>\n",
       "      <td>Deir al-Balah</td>\n",
       "      <td>gaza-strip</td>\n",
       "      <td>1</td>\n",
       "      <td>5</td>\n",
       "      <td>0</td>\n",
       "      <td>Residental</td>\n",
       "      <td>2004</td>\n",
       "      <td>1</td>\n",
       "      <td>1</td>\n",
       "    </tr>\n",
       "  </tbody>\n",
       "</table>\n",
       "<p>1478 rows × 11 columns</p>\n",
       "</div>"
      ],
      "text/plain": [
       "     Date of Demolition       Locality       District        Area  \\\n",
       "0            2021-08-18         Ya'bad          Jenin   west-bank   \n",
       "1            2018-02-03         Birqin          Jenin   west-bank   \n",
       "2            2018-01-18          Jenin          Jenin   west-bank   \n",
       "3            2018-01-18          Jenin          Jenin   west-bank   \n",
       "4            2018-01-18          Jenin          Jenin   west-bank   \n",
       "...                 ...            ...            ...         ...   \n",
       "1473         2004-01-01  Deir al-Balah  Deir al-Balah  gaza-strip   \n",
       "1474         2004-01-01  Deir al-Balah  Deir al-Balah  gaza-strip   \n",
       "1475         2004-01-01  Deir al-Balah  Deir al-Balah  gaza-strip   \n",
       "1476         2004-01-01  Deir al-Balah  Deir al-Balah  gaza-strip   \n",
       "1477         2004-01-01  Deir al-Balah  Deir al-Balah  gaza-strip   \n",
       "\n",
       "      Housing Units  People left Homeless  Minors left Homeless  \\\n",
       "0                 1                     0                     0   \n",
       "1                 3                     0                     0   \n",
       "2                 2                     5                     1   \n",
       "3                 1                     6                     2   \n",
       "4                 1                     5                     0   \n",
       "...             ...                   ...                   ...   \n",
       "1473              1                     2                     0   \n",
       "1474              1                    10                     0   \n",
       "1475              1                     6                     0   \n",
       "1476              1                    10                     0   \n",
       "1477              1                     5                     0   \n",
       "\n",
       "     Type Of Sturcture  Year  Month  Day  \n",
       "0      Non Resedential  2021      8   18  \n",
       "1      Non Resedential  2018      2    3  \n",
       "2           Residental  2018      1   18  \n",
       "3           Residental  2018      1   18  \n",
       "4           Residental  2018      1   18  \n",
       "...                ...   ...    ...  ...  \n",
       "1473        Residental  2004      1    1  \n",
       "1474        Residental  2004      1    1  \n",
       "1475        Residental  2004      1    1  \n",
       "1476        Residental  2004      1    1  \n",
       "1477        Residental  2004      1    1  \n",
       "\n",
       "[1478 rows x 11 columns]"
      ]
     },
     "execution_count": 45,
     "metadata": {},
     "output_type": "execute_result"
    }
   ],
   "source": [
    "df3"
   ]
  },
  {
   "cell_type": "code",
   "execution_count": 46,
   "metadata": {},
   "outputs": [],
   "source": [
    "df3[\"Demolition Reason\"]=\"Demolition for alleged military purposes\""
   ]
  },
  {
   "cell_type": "code",
   "execution_count": 47,
   "metadata": {},
   "outputs": [
    {
     "data": {
      "text/html": [
       "<div>\n",
       "<style scoped>\n",
       "    .dataframe tbody tr th:only-of-type {\n",
       "        vertical-align: middle;\n",
       "    }\n",
       "\n",
       "    .dataframe tbody tr th {\n",
       "        vertical-align: top;\n",
       "    }\n",
       "\n",
       "    .dataframe thead th {\n",
       "        text-align: right;\n",
       "    }\n",
       "</style>\n",
       "<table border=\"1\" class=\"dataframe\">\n",
       "  <thead>\n",
       "    <tr style=\"text-align: right;\">\n",
       "      <th></th>\n",
       "      <th>Date of Demolition</th>\n",
       "      <th>Locality</th>\n",
       "      <th>District</th>\n",
       "      <th>Area</th>\n",
       "      <th>Housing Units</th>\n",
       "      <th>People left Homeless</th>\n",
       "      <th>Minors left Homeless</th>\n",
       "      <th>Type Of Sturcture</th>\n",
       "      <th>Year</th>\n",
       "      <th>Month</th>\n",
       "      <th>Day</th>\n",
       "      <th>Demolition Reason</th>\n",
       "    </tr>\n",
       "  </thead>\n",
       "  <tbody>\n",
       "    <tr>\n",
       "      <th>0</th>\n",
       "      <td>2021-08-18</td>\n",
       "      <td>Ya'bad</td>\n",
       "      <td>Jenin</td>\n",
       "      <td>west-bank</td>\n",
       "      <td>1</td>\n",
       "      <td>0</td>\n",
       "      <td>0</td>\n",
       "      <td>Non Resedential</td>\n",
       "      <td>2021</td>\n",
       "      <td>8</td>\n",
       "      <td>18</td>\n",
       "      <td>Demolition for alleged military purposes</td>\n",
       "    </tr>\n",
       "    <tr>\n",
       "      <th>1</th>\n",
       "      <td>2018-02-03</td>\n",
       "      <td>Birqin</td>\n",
       "      <td>Jenin</td>\n",
       "      <td>west-bank</td>\n",
       "      <td>3</td>\n",
       "      <td>0</td>\n",
       "      <td>0</td>\n",
       "      <td>Non Resedential</td>\n",
       "      <td>2018</td>\n",
       "      <td>2</td>\n",
       "      <td>3</td>\n",
       "      <td>Demolition for alleged military purposes</td>\n",
       "    </tr>\n",
       "    <tr>\n",
       "      <th>2</th>\n",
       "      <td>2018-01-18</td>\n",
       "      <td>Jenin</td>\n",
       "      <td>Jenin</td>\n",
       "      <td>west-bank</td>\n",
       "      <td>2</td>\n",
       "      <td>5</td>\n",
       "      <td>1</td>\n",
       "      <td>Residental</td>\n",
       "      <td>2018</td>\n",
       "      <td>1</td>\n",
       "      <td>18</td>\n",
       "      <td>Demolition for alleged military purposes</td>\n",
       "    </tr>\n",
       "    <tr>\n",
       "      <th>3</th>\n",
       "      <td>2018-01-18</td>\n",
       "      <td>Jenin</td>\n",
       "      <td>Jenin</td>\n",
       "      <td>west-bank</td>\n",
       "      <td>1</td>\n",
       "      <td>6</td>\n",
       "      <td>2</td>\n",
       "      <td>Residental</td>\n",
       "      <td>2018</td>\n",
       "      <td>1</td>\n",
       "      <td>18</td>\n",
       "      <td>Demolition for alleged military purposes</td>\n",
       "    </tr>\n",
       "    <tr>\n",
       "      <th>4</th>\n",
       "      <td>2018-01-18</td>\n",
       "      <td>Jenin</td>\n",
       "      <td>Jenin</td>\n",
       "      <td>west-bank</td>\n",
       "      <td>1</td>\n",
       "      <td>5</td>\n",
       "      <td>0</td>\n",
       "      <td>Residental</td>\n",
       "      <td>2018</td>\n",
       "      <td>1</td>\n",
       "      <td>18</td>\n",
       "      <td>Demolition for alleged military purposes</td>\n",
       "    </tr>\n",
       "    <tr>\n",
       "      <th>...</th>\n",
       "      <td>...</td>\n",
       "      <td>...</td>\n",
       "      <td>...</td>\n",
       "      <td>...</td>\n",
       "      <td>...</td>\n",
       "      <td>...</td>\n",
       "      <td>...</td>\n",
       "      <td>...</td>\n",
       "      <td>...</td>\n",
       "      <td>...</td>\n",
       "      <td>...</td>\n",
       "      <td>...</td>\n",
       "    </tr>\n",
       "    <tr>\n",
       "      <th>1473</th>\n",
       "      <td>2004-01-01</td>\n",
       "      <td>Deir al-Balah</td>\n",
       "      <td>Deir al-Balah</td>\n",
       "      <td>gaza-strip</td>\n",
       "      <td>1</td>\n",
       "      <td>2</td>\n",
       "      <td>0</td>\n",
       "      <td>Residental</td>\n",
       "      <td>2004</td>\n",
       "      <td>1</td>\n",
       "      <td>1</td>\n",
       "      <td>Demolition for alleged military purposes</td>\n",
       "    </tr>\n",
       "    <tr>\n",
       "      <th>1474</th>\n",
       "      <td>2004-01-01</td>\n",
       "      <td>Deir al-Balah</td>\n",
       "      <td>Deir al-Balah</td>\n",
       "      <td>gaza-strip</td>\n",
       "      <td>1</td>\n",
       "      <td>10</td>\n",
       "      <td>0</td>\n",
       "      <td>Residental</td>\n",
       "      <td>2004</td>\n",
       "      <td>1</td>\n",
       "      <td>1</td>\n",
       "      <td>Demolition for alleged military purposes</td>\n",
       "    </tr>\n",
       "    <tr>\n",
       "      <th>1475</th>\n",
       "      <td>2004-01-01</td>\n",
       "      <td>Deir al-Balah</td>\n",
       "      <td>Deir al-Balah</td>\n",
       "      <td>gaza-strip</td>\n",
       "      <td>1</td>\n",
       "      <td>6</td>\n",
       "      <td>0</td>\n",
       "      <td>Residental</td>\n",
       "      <td>2004</td>\n",
       "      <td>1</td>\n",
       "      <td>1</td>\n",
       "      <td>Demolition for alleged military purposes</td>\n",
       "    </tr>\n",
       "    <tr>\n",
       "      <th>1476</th>\n",
       "      <td>2004-01-01</td>\n",
       "      <td>Deir al-Balah</td>\n",
       "      <td>Deir al-Balah</td>\n",
       "      <td>gaza-strip</td>\n",
       "      <td>1</td>\n",
       "      <td>10</td>\n",
       "      <td>0</td>\n",
       "      <td>Residental</td>\n",
       "      <td>2004</td>\n",
       "      <td>1</td>\n",
       "      <td>1</td>\n",
       "      <td>Demolition for alleged military purposes</td>\n",
       "    </tr>\n",
       "    <tr>\n",
       "      <th>1477</th>\n",
       "      <td>2004-01-01</td>\n",
       "      <td>Deir al-Balah</td>\n",
       "      <td>Deir al-Balah</td>\n",
       "      <td>gaza-strip</td>\n",
       "      <td>1</td>\n",
       "      <td>5</td>\n",
       "      <td>0</td>\n",
       "      <td>Residental</td>\n",
       "      <td>2004</td>\n",
       "      <td>1</td>\n",
       "      <td>1</td>\n",
       "      <td>Demolition for alleged military purposes</td>\n",
       "    </tr>\n",
       "  </tbody>\n",
       "</table>\n",
       "<p>1478 rows × 12 columns</p>\n",
       "</div>"
      ],
      "text/plain": [
       "     Date of Demolition       Locality       District        Area  \\\n",
       "0            2021-08-18         Ya'bad          Jenin   west-bank   \n",
       "1            2018-02-03         Birqin          Jenin   west-bank   \n",
       "2            2018-01-18          Jenin          Jenin   west-bank   \n",
       "3            2018-01-18          Jenin          Jenin   west-bank   \n",
       "4            2018-01-18          Jenin          Jenin   west-bank   \n",
       "...                 ...            ...            ...         ...   \n",
       "1473         2004-01-01  Deir al-Balah  Deir al-Balah  gaza-strip   \n",
       "1474         2004-01-01  Deir al-Balah  Deir al-Balah  gaza-strip   \n",
       "1475         2004-01-01  Deir al-Balah  Deir al-Balah  gaza-strip   \n",
       "1476         2004-01-01  Deir al-Balah  Deir al-Balah  gaza-strip   \n",
       "1477         2004-01-01  Deir al-Balah  Deir al-Balah  gaza-strip   \n",
       "\n",
       "      Housing Units  People left Homeless  Minors left Homeless  \\\n",
       "0                 1                     0                     0   \n",
       "1                 3                     0                     0   \n",
       "2                 2                     5                     1   \n",
       "3                 1                     6                     2   \n",
       "4                 1                     5                     0   \n",
       "...             ...                   ...                   ...   \n",
       "1473              1                     2                     0   \n",
       "1474              1                    10                     0   \n",
       "1475              1                     6                     0   \n",
       "1476              1                    10                     0   \n",
       "1477              1                     5                     0   \n",
       "\n",
       "     Type Of Sturcture  Year  Month  Day  \\\n",
       "0      Non Resedential  2021      8   18   \n",
       "1      Non Resedential  2018      2    3   \n",
       "2           Residental  2018      1   18   \n",
       "3           Residental  2018      1   18   \n",
       "4           Residental  2018      1   18   \n",
       "...                ...   ...    ...  ...   \n",
       "1473        Residental  2004      1    1   \n",
       "1474        Residental  2004      1    1   \n",
       "1475        Residental  2004      1    1   \n",
       "1476        Residental  2004      1    1   \n",
       "1477        Residental  2004      1    1   \n",
       "\n",
       "                             Demolition Reason  \n",
       "0     Demolition for alleged military purposes  \n",
       "1     Demolition for alleged military purposes  \n",
       "2     Demolition for alleged military purposes  \n",
       "3     Demolition for alleged military purposes  \n",
       "4     Demolition for alleged military purposes  \n",
       "...                                        ...  \n",
       "1473  Demolition for alleged military purposes  \n",
       "1474  Demolition for alleged military purposes  \n",
       "1475  Demolition for alleged military purposes  \n",
       "1476  Demolition for alleged military purposes  \n",
       "1477  Demolition for alleged military purposes  \n",
       "\n",
       "[1478 rows x 12 columns]"
      ]
     },
     "execution_count": 47,
     "metadata": {},
     "output_type": "execute_result"
    }
   ],
   "source": [
    "df3"
   ]
  },
  {
   "cell_type": "code",
   "execution_count": 49,
   "metadata": {},
   "outputs": [],
   "source": [
    "df4=pd.read_excel(r'D:\\extrnal hard\\ITI\\Data visual\\data_visual_project\\data\\raw_data\\new3.xlsx')"
   ]
  },
  {
   "cell_type": "code",
   "execution_count": 50,
   "metadata": {},
   "outputs": [
    {
     "data": {
      "text/html": [
       "<div>\n",
       "<style scoped>\n",
       "    .dataframe tbody tr th:only-of-type {\n",
       "        vertical-align: middle;\n",
       "    }\n",
       "\n",
       "    .dataframe tbody tr th {\n",
       "        vertical-align: top;\n",
       "    }\n",
       "\n",
       "    .dataframe thead th {\n",
       "        text-align: right;\n",
       "    }\n",
       "</style>\n",
       "<table border=\"1\" class=\"dataframe\">\n",
       "  <thead>\n",
       "    <tr style=\"text-align: right;\">\n",
       "      <th></th>\n",
       "      <th>Date of Demolition</th>\n",
       "      <th>Locality</th>\n",
       "      <th>District</th>\n",
       "      <th>Area</th>\n",
       "      <th>Housing Units</th>\n",
       "      <th>People left Homeless</th>\n",
       "      <th>Minors left Homeless</th>\n",
       "      <th>Type Of Sturcture</th>\n",
       "    </tr>\n",
       "  </thead>\n",
       "  <tbody>\n",
       "    <tr>\n",
       "      <th>0</th>\n",
       "      <td>2022-03-08</td>\n",
       "      <td>Silat al-Harithiya</td>\n",
       "      <td>Jenin</td>\n",
       "      <td>west-bank</td>\n",
       "      <td>1</td>\n",
       "      <td>4</td>\n",
       "      <td>2</td>\n",
       "      <td>Residental</td>\n",
       "    </tr>\n",
       "    <tr>\n",
       "      <th>1</th>\n",
       "      <td>2022-03-08</td>\n",
       "      <td>Silat al-Harithiya</td>\n",
       "      <td>Jenin</td>\n",
       "      <td>west-bank</td>\n",
       "      <td>2</td>\n",
       "      <td>8</td>\n",
       "      <td>3</td>\n",
       "      <td>Residental</td>\n",
       "    </tr>\n",
       "    <tr>\n",
       "      <th>2</th>\n",
       "      <td>2022-02-14</td>\n",
       "      <td>Silat al-Harithiya</td>\n",
       "      <td>Jenin</td>\n",
       "      <td>west-bank</td>\n",
       "      <td>1</td>\n",
       "      <td>5</td>\n",
       "      <td>4</td>\n",
       "      <td>Residental</td>\n",
       "    </tr>\n",
       "    <tr>\n",
       "      <th>3</th>\n",
       "      <td>2022-02-01</td>\n",
       "      <td>Shu'fat R.C.</td>\n",
       "      <td>East Jerusalem</td>\n",
       "      <td>east-jerusalem</td>\n",
       "      <td>1</td>\n",
       "      <td>5</td>\n",
       "      <td>3</td>\n",
       "      <td>Residental</td>\n",
       "    </tr>\n",
       "    <tr>\n",
       "      <th>4</th>\n",
       "      <td>2021-07-08</td>\n",
       "      <td>Turmusaya</td>\n",
       "      <td>Ramallah and al-Bira</td>\n",
       "      <td>west-bank</td>\n",
       "      <td>1</td>\n",
       "      <td>7</td>\n",
       "      <td>2</td>\n",
       "      <td>Residental</td>\n",
       "    </tr>\n",
       "    <tr>\n",
       "      <th>...</th>\n",
       "      <td>...</td>\n",
       "      <td>...</td>\n",
       "      <td>...</td>\n",
       "      <td>...</td>\n",
       "      <td>...</td>\n",
       "      <td>...</td>\n",
       "      <td>...</td>\n",
       "      <td>...</td>\n",
       "    </tr>\n",
       "    <tr>\n",
       "      <th>242</th>\n",
       "      <td>2004-01-30</td>\n",
       "      <td>Silwad</td>\n",
       "      <td>Ramallah and al-Bira</td>\n",
       "      <td>west-bank</td>\n",
       "      <td>1</td>\n",
       "      <td>0</td>\n",
       "      <td>0</td>\n",
       "      <td>Residental</td>\n",
       "    </tr>\n",
       "    <tr>\n",
       "      <th>243</th>\n",
       "      <td>2004-01-18</td>\n",
       "      <td>Yatta</td>\n",
       "      <td>Hebron</td>\n",
       "      <td>west-bank</td>\n",
       "      <td>1</td>\n",
       "      <td>6</td>\n",
       "      <td>0</td>\n",
       "      <td>Residental</td>\n",
       "    </tr>\n",
       "    <tr>\n",
       "      <th>244</th>\n",
       "      <td>2004-01-15</td>\n",
       "      <td>Tulkarm R.C.</td>\n",
       "      <td>Tulkarm</td>\n",
       "      <td>west-bank</td>\n",
       "      <td>1</td>\n",
       "      <td>6</td>\n",
       "      <td>0</td>\n",
       "      <td>Residental</td>\n",
       "    </tr>\n",
       "    <tr>\n",
       "      <th>245</th>\n",
       "      <td>2004-01-15</td>\n",
       "      <td>Tulkarm R.C.</td>\n",
       "      <td>Tulkarm</td>\n",
       "      <td>west-bank</td>\n",
       "      <td>1</td>\n",
       "      <td>5</td>\n",
       "      <td>0</td>\n",
       "      <td>Residental</td>\n",
       "    </tr>\n",
       "    <tr>\n",
       "      <th>246</th>\n",
       "      <td>2004-01-15</td>\n",
       "      <td>Tulkarm R.C.</td>\n",
       "      <td>Tulkarm</td>\n",
       "      <td>west-bank</td>\n",
       "      <td>1</td>\n",
       "      <td>7</td>\n",
       "      <td>0</td>\n",
       "      <td>Residental</td>\n",
       "    </tr>\n",
       "  </tbody>\n",
       "</table>\n",
       "<p>247 rows × 8 columns</p>\n",
       "</div>"
      ],
      "text/plain": [
       "    Date of Demolition            Locality              District  \\\n",
       "0           2022-03-08  Silat al-Harithiya                 Jenin   \n",
       "1           2022-03-08  Silat al-Harithiya                 Jenin   \n",
       "2           2022-02-14  Silat al-Harithiya                 Jenin   \n",
       "3           2022-02-01        Shu'fat R.C.        East Jerusalem   \n",
       "4           2021-07-08           Turmusaya  Ramallah and al-Bira   \n",
       "..                 ...                 ...                   ...   \n",
       "242         2004-01-30              Silwad  Ramallah and al-Bira   \n",
       "243         2004-01-18               Yatta                Hebron   \n",
       "244         2004-01-15        Tulkarm R.C.               Tulkarm   \n",
       "245         2004-01-15        Tulkarm R.C.               Tulkarm   \n",
       "246         2004-01-15        Tulkarm R.C.               Tulkarm   \n",
       "\n",
       "               Area  Housing Units  People left Homeless  \\\n",
       "0         west-bank              1                     4   \n",
       "1         west-bank              2                     8   \n",
       "2         west-bank              1                     5   \n",
       "3    east-jerusalem              1                     5   \n",
       "4         west-bank              1                     7   \n",
       "..              ...            ...                   ...   \n",
       "242       west-bank              1                     0   \n",
       "243       west-bank              1                     6   \n",
       "244       west-bank              1                     6   \n",
       "245       west-bank              1                     5   \n",
       "246       west-bank              1                     7   \n",
       "\n",
       "     Minors left Homeless Type Of Sturcture  \n",
       "0                       2        Residental  \n",
       "1                       3        Residental  \n",
       "2                       4        Residental  \n",
       "3                       3        Residental  \n",
       "4                       2        Residental  \n",
       "..                    ...               ...  \n",
       "242                     0        Residental  \n",
       "243                     0        Residental  \n",
       "244                     0        Residental  \n",
       "245                     0        Residental  \n",
       "246                     0        Residental  \n",
       "\n",
       "[247 rows x 8 columns]"
      ]
     },
     "execution_count": 50,
     "metadata": {},
     "output_type": "execute_result"
    }
   ],
   "source": [
    "df4"
   ]
  },
  {
   "cell_type": "code",
   "execution_count": 51,
   "metadata": {},
   "outputs": [],
   "source": [
    "df4['Year'] = pd.to_datetime(df4['Date of Demolition']).dt.year\n",
    "df4['Month'] = pd.to_datetime(df4['Date of Demolition']).dt.month\n",
    "df4['Day'] = pd.to_datetime(df4['Date of Demolition']).dt.day\n",
    "df4[\"Demolition Reason\"]=\"Demolition of houses as punishment\""
   ]
  },
  {
   "cell_type": "code",
   "execution_count": 52,
   "metadata": {},
   "outputs": [
    {
     "data": {
      "text/html": [
       "<div>\n",
       "<style scoped>\n",
       "    .dataframe tbody tr th:only-of-type {\n",
       "        vertical-align: middle;\n",
       "    }\n",
       "\n",
       "    .dataframe tbody tr th {\n",
       "        vertical-align: top;\n",
       "    }\n",
       "\n",
       "    .dataframe thead th {\n",
       "        text-align: right;\n",
       "    }\n",
       "</style>\n",
       "<table border=\"1\" class=\"dataframe\">\n",
       "  <thead>\n",
       "    <tr style=\"text-align: right;\">\n",
       "      <th></th>\n",
       "      <th>Date of Demolition</th>\n",
       "      <th>Locality</th>\n",
       "      <th>District</th>\n",
       "      <th>Area</th>\n",
       "      <th>Housing Units</th>\n",
       "      <th>People left Homeless</th>\n",
       "      <th>Minors left Homeless</th>\n",
       "      <th>Type Of Sturcture</th>\n",
       "      <th>Year</th>\n",
       "      <th>Month</th>\n",
       "      <th>Day</th>\n",
       "      <th>Demolition Reason</th>\n",
       "    </tr>\n",
       "  </thead>\n",
       "  <tbody>\n",
       "    <tr>\n",
       "      <th>0</th>\n",
       "      <td>2022-03-08</td>\n",
       "      <td>Silat al-Harithiya</td>\n",
       "      <td>Jenin</td>\n",
       "      <td>west-bank</td>\n",
       "      <td>1</td>\n",
       "      <td>4</td>\n",
       "      <td>2</td>\n",
       "      <td>Residental</td>\n",
       "      <td>2022</td>\n",
       "      <td>3</td>\n",
       "      <td>8</td>\n",
       "      <td>Demolition of houses as punishment</td>\n",
       "    </tr>\n",
       "    <tr>\n",
       "      <th>1</th>\n",
       "      <td>2022-03-08</td>\n",
       "      <td>Silat al-Harithiya</td>\n",
       "      <td>Jenin</td>\n",
       "      <td>west-bank</td>\n",
       "      <td>2</td>\n",
       "      <td>8</td>\n",
       "      <td>3</td>\n",
       "      <td>Residental</td>\n",
       "      <td>2022</td>\n",
       "      <td>3</td>\n",
       "      <td>8</td>\n",
       "      <td>Demolition of houses as punishment</td>\n",
       "    </tr>\n",
       "    <tr>\n",
       "      <th>2</th>\n",
       "      <td>2022-02-14</td>\n",
       "      <td>Silat al-Harithiya</td>\n",
       "      <td>Jenin</td>\n",
       "      <td>west-bank</td>\n",
       "      <td>1</td>\n",
       "      <td>5</td>\n",
       "      <td>4</td>\n",
       "      <td>Residental</td>\n",
       "      <td>2022</td>\n",
       "      <td>2</td>\n",
       "      <td>14</td>\n",
       "      <td>Demolition of houses as punishment</td>\n",
       "    </tr>\n",
       "    <tr>\n",
       "      <th>3</th>\n",
       "      <td>2022-02-01</td>\n",
       "      <td>Shu'fat R.C.</td>\n",
       "      <td>East Jerusalem</td>\n",
       "      <td>east-jerusalem</td>\n",
       "      <td>1</td>\n",
       "      <td>5</td>\n",
       "      <td>3</td>\n",
       "      <td>Residental</td>\n",
       "      <td>2022</td>\n",
       "      <td>2</td>\n",
       "      <td>1</td>\n",
       "      <td>Demolition of houses as punishment</td>\n",
       "    </tr>\n",
       "    <tr>\n",
       "      <th>4</th>\n",
       "      <td>2021-07-08</td>\n",
       "      <td>Turmusaya</td>\n",
       "      <td>Ramallah and al-Bira</td>\n",
       "      <td>west-bank</td>\n",
       "      <td>1</td>\n",
       "      <td>7</td>\n",
       "      <td>2</td>\n",
       "      <td>Residental</td>\n",
       "      <td>2021</td>\n",
       "      <td>7</td>\n",
       "      <td>8</td>\n",
       "      <td>Demolition of houses as punishment</td>\n",
       "    </tr>\n",
       "    <tr>\n",
       "      <th>...</th>\n",
       "      <td>...</td>\n",
       "      <td>...</td>\n",
       "      <td>...</td>\n",
       "      <td>...</td>\n",
       "      <td>...</td>\n",
       "      <td>...</td>\n",
       "      <td>...</td>\n",
       "      <td>...</td>\n",
       "      <td>...</td>\n",
       "      <td>...</td>\n",
       "      <td>...</td>\n",
       "      <td>...</td>\n",
       "    </tr>\n",
       "    <tr>\n",
       "      <th>242</th>\n",
       "      <td>2004-01-30</td>\n",
       "      <td>Silwad</td>\n",
       "      <td>Ramallah and al-Bira</td>\n",
       "      <td>west-bank</td>\n",
       "      <td>1</td>\n",
       "      <td>0</td>\n",
       "      <td>0</td>\n",
       "      <td>Residental</td>\n",
       "      <td>2004</td>\n",
       "      <td>1</td>\n",
       "      <td>30</td>\n",
       "      <td>Demolition of houses as punishment</td>\n",
       "    </tr>\n",
       "    <tr>\n",
       "      <th>243</th>\n",
       "      <td>2004-01-18</td>\n",
       "      <td>Yatta</td>\n",
       "      <td>Hebron</td>\n",
       "      <td>west-bank</td>\n",
       "      <td>1</td>\n",
       "      <td>6</td>\n",
       "      <td>0</td>\n",
       "      <td>Residental</td>\n",
       "      <td>2004</td>\n",
       "      <td>1</td>\n",
       "      <td>18</td>\n",
       "      <td>Demolition of houses as punishment</td>\n",
       "    </tr>\n",
       "    <tr>\n",
       "      <th>244</th>\n",
       "      <td>2004-01-15</td>\n",
       "      <td>Tulkarm R.C.</td>\n",
       "      <td>Tulkarm</td>\n",
       "      <td>west-bank</td>\n",
       "      <td>1</td>\n",
       "      <td>6</td>\n",
       "      <td>0</td>\n",
       "      <td>Residental</td>\n",
       "      <td>2004</td>\n",
       "      <td>1</td>\n",
       "      <td>15</td>\n",
       "      <td>Demolition of houses as punishment</td>\n",
       "    </tr>\n",
       "    <tr>\n",
       "      <th>245</th>\n",
       "      <td>2004-01-15</td>\n",
       "      <td>Tulkarm R.C.</td>\n",
       "      <td>Tulkarm</td>\n",
       "      <td>west-bank</td>\n",
       "      <td>1</td>\n",
       "      <td>5</td>\n",
       "      <td>0</td>\n",
       "      <td>Residental</td>\n",
       "      <td>2004</td>\n",
       "      <td>1</td>\n",
       "      <td>15</td>\n",
       "      <td>Demolition of houses as punishment</td>\n",
       "    </tr>\n",
       "    <tr>\n",
       "      <th>246</th>\n",
       "      <td>2004-01-15</td>\n",
       "      <td>Tulkarm R.C.</td>\n",
       "      <td>Tulkarm</td>\n",
       "      <td>west-bank</td>\n",
       "      <td>1</td>\n",
       "      <td>7</td>\n",
       "      <td>0</td>\n",
       "      <td>Residental</td>\n",
       "      <td>2004</td>\n",
       "      <td>1</td>\n",
       "      <td>15</td>\n",
       "      <td>Demolition of houses as punishment</td>\n",
       "    </tr>\n",
       "  </tbody>\n",
       "</table>\n",
       "<p>247 rows × 12 columns</p>\n",
       "</div>"
      ],
      "text/plain": [
       "    Date of Demolition            Locality              District  \\\n",
       "0           2022-03-08  Silat al-Harithiya                 Jenin   \n",
       "1           2022-03-08  Silat al-Harithiya                 Jenin   \n",
       "2           2022-02-14  Silat al-Harithiya                 Jenin   \n",
       "3           2022-02-01        Shu'fat R.C.        East Jerusalem   \n",
       "4           2021-07-08           Turmusaya  Ramallah and al-Bira   \n",
       "..                 ...                 ...                   ...   \n",
       "242         2004-01-30              Silwad  Ramallah and al-Bira   \n",
       "243         2004-01-18               Yatta                Hebron   \n",
       "244         2004-01-15        Tulkarm R.C.               Tulkarm   \n",
       "245         2004-01-15        Tulkarm R.C.               Tulkarm   \n",
       "246         2004-01-15        Tulkarm R.C.               Tulkarm   \n",
       "\n",
       "               Area  Housing Units  People left Homeless  \\\n",
       "0         west-bank              1                     4   \n",
       "1         west-bank              2                     8   \n",
       "2         west-bank              1                     5   \n",
       "3    east-jerusalem              1                     5   \n",
       "4         west-bank              1                     7   \n",
       "..              ...            ...                   ...   \n",
       "242       west-bank              1                     0   \n",
       "243       west-bank              1                     6   \n",
       "244       west-bank              1                     6   \n",
       "245       west-bank              1                     5   \n",
       "246       west-bank              1                     7   \n",
       "\n",
       "     Minors left Homeless Type Of Sturcture  Year  Month  Day  \\\n",
       "0                       2        Residental  2022      3    8   \n",
       "1                       3        Residental  2022      3    8   \n",
       "2                       4        Residental  2022      2   14   \n",
       "3                       3        Residental  2022      2    1   \n",
       "4                       2        Residental  2021      7    8   \n",
       "..                    ...               ...   ...    ...  ...   \n",
       "242                     0        Residental  2004      1   30   \n",
       "243                     0        Residental  2004      1   18   \n",
       "244                     0        Residental  2004      1   15   \n",
       "245                     0        Residental  2004      1   15   \n",
       "246                     0        Residental  2004      1   15   \n",
       "\n",
       "                      Demolition Reason  \n",
       "0    Demolition of houses as punishment  \n",
       "1    Demolition of houses as punishment  \n",
       "2    Demolition of houses as punishment  \n",
       "3    Demolition of houses as punishment  \n",
       "4    Demolition of houses as punishment  \n",
       "..                                  ...  \n",
       "242  Demolition of houses as punishment  \n",
       "243  Demolition of houses as punishment  \n",
       "244  Demolition of houses as punishment  \n",
       "245  Demolition of houses as punishment  \n",
       "246  Demolition of houses as punishment  \n",
       "\n",
       "[247 rows x 12 columns]"
      ]
     },
     "execution_count": 52,
     "metadata": {},
     "output_type": "execute_result"
    }
   ],
   "source": [
    "df4"
   ]
  },
  {
   "cell_type": "code",
   "execution_count": 53,
   "metadata": {},
   "outputs": [],
   "source": [
    "all_data=pd.concat([df2,df3,df4],axis=0,sort=True,).reset_index(drop=True)"
   ]
  },
  {
   "cell_type": "code",
   "execution_count": 54,
   "metadata": {},
   "outputs": [
    {
     "data": {
      "text/html": [
       "<div>\n",
       "<style scoped>\n",
       "    .dataframe tbody tr th:only-of-type {\n",
       "        vertical-align: middle;\n",
       "    }\n",
       "\n",
       "    .dataframe tbody tr th {\n",
       "        vertical-align: top;\n",
       "    }\n",
       "\n",
       "    .dataframe thead th {\n",
       "        text-align: right;\n",
       "    }\n",
       "</style>\n",
       "<table border=\"1\" class=\"dataframe\">\n",
       "  <thead>\n",
       "    <tr style=\"text-align: right;\">\n",
       "      <th></th>\n",
       "      <th>Area</th>\n",
       "      <th>Date of Demolition</th>\n",
       "      <th>Day</th>\n",
       "      <th>Demolition Reason</th>\n",
       "      <th>District</th>\n",
       "      <th>Housing Units</th>\n",
       "      <th>Locality</th>\n",
       "      <th>Minors left Homeless</th>\n",
       "      <th>Month</th>\n",
       "      <th>People left Homeless</th>\n",
       "      <th>Type Of Sturcture</th>\n",
       "      <th>Year</th>\n",
       "    </tr>\n",
       "  </thead>\n",
       "  <tbody>\n",
       "    <tr>\n",
       "      <th>0</th>\n",
       "      <td>west-bank</td>\n",
       "      <td>2022-04-13</td>\n",
       "      <td>13</td>\n",
       "      <td>Demolition on the pretext of unlawful construc...</td>\n",
       "      <td>Ramallah and al-Bira</td>\n",
       "      <td>1</td>\n",
       "      <td>al-Mughayir</td>\n",
       "      <td>0</td>\n",
       "      <td>4</td>\n",
       "      <td>0</td>\n",
       "      <td>Non Resedential</td>\n",
       "      <td>2022</td>\n",
       "    </tr>\n",
       "    <tr>\n",
       "      <th>1</th>\n",
       "      <td>west-bank</td>\n",
       "      <td>2022-04-13</td>\n",
       "      <td>13</td>\n",
       "      <td>Demolition on the pretext of unlawful construc...</td>\n",
       "      <td>Ramallah and al-Bira</td>\n",
       "      <td>1</td>\n",
       "      <td>al-Mughayir</td>\n",
       "      <td>0</td>\n",
       "      <td>4</td>\n",
       "      <td>0</td>\n",
       "      <td>Non Resedential</td>\n",
       "      <td>2022</td>\n",
       "    </tr>\n",
       "    <tr>\n",
       "      <th>2</th>\n",
       "      <td>west-bank</td>\n",
       "      <td>2022-04-12</td>\n",
       "      <td>12</td>\n",
       "      <td>Demolition on the pretext of unlawful construc...</td>\n",
       "      <td>Ramallah and al-Bira</td>\n",
       "      <td>1</td>\n",
       "      <td>'Ein Samia</td>\n",
       "      <td>0</td>\n",
       "      <td>4</td>\n",
       "      <td>0</td>\n",
       "      <td>Non Resedential</td>\n",
       "      <td>2022</td>\n",
       "    </tr>\n",
       "    <tr>\n",
       "      <th>3</th>\n",
       "      <td>west-bank</td>\n",
       "      <td>2022-03-23</td>\n",
       "      <td>23</td>\n",
       "      <td>Demolition on the pretext of unlawful construc...</td>\n",
       "      <td>Ramallah and al-Bira</td>\n",
       "      <td>1</td>\n",
       "      <td>al-Mughayir</td>\n",
       "      <td>0</td>\n",
       "      <td>3</td>\n",
       "      <td>0</td>\n",
       "      <td>Non Resedential</td>\n",
       "      <td>2022</td>\n",
       "    </tr>\n",
       "    <tr>\n",
       "      <th>4</th>\n",
       "      <td>west-bank</td>\n",
       "      <td>2022-03-23</td>\n",
       "      <td>23</td>\n",
       "      <td>Demolition on the pretext of unlawful construc...</td>\n",
       "      <td>Ramallah and al-Bira</td>\n",
       "      <td>1</td>\n",
       "      <td>al-Mughayir</td>\n",
       "      <td>0</td>\n",
       "      <td>3</td>\n",
       "      <td>0</td>\n",
       "      <td>Non Resedential</td>\n",
       "      <td>2022</td>\n",
       "    </tr>\n",
       "    <tr>\n",
       "      <th>...</th>\n",
       "      <td>...</td>\n",
       "      <td>...</td>\n",
       "      <td>...</td>\n",
       "      <td>...</td>\n",
       "      <td>...</td>\n",
       "      <td>...</td>\n",
       "      <td>...</td>\n",
       "      <td>...</td>\n",
       "      <td>...</td>\n",
       "      <td>...</td>\n",
       "      <td>...</td>\n",
       "      <td>...</td>\n",
       "    </tr>\n",
       "    <tr>\n",
       "      <th>4960</th>\n",
       "      <td>west-bank</td>\n",
       "      <td>2004-01-30</td>\n",
       "      <td>30</td>\n",
       "      <td>Demolition of houses as punishment</td>\n",
       "      <td>Ramallah and al-Bira</td>\n",
       "      <td>1</td>\n",
       "      <td>Silwad</td>\n",
       "      <td>0</td>\n",
       "      <td>1</td>\n",
       "      <td>0</td>\n",
       "      <td>Residental</td>\n",
       "      <td>2004</td>\n",
       "    </tr>\n",
       "    <tr>\n",
       "      <th>4961</th>\n",
       "      <td>west-bank</td>\n",
       "      <td>2004-01-18</td>\n",
       "      <td>18</td>\n",
       "      <td>Demolition of houses as punishment</td>\n",
       "      <td>Hebron</td>\n",
       "      <td>1</td>\n",
       "      <td>Yatta</td>\n",
       "      <td>0</td>\n",
       "      <td>1</td>\n",
       "      <td>6</td>\n",
       "      <td>Residental</td>\n",
       "      <td>2004</td>\n",
       "    </tr>\n",
       "    <tr>\n",
       "      <th>4962</th>\n",
       "      <td>west-bank</td>\n",
       "      <td>2004-01-15</td>\n",
       "      <td>15</td>\n",
       "      <td>Demolition of houses as punishment</td>\n",
       "      <td>Tulkarm</td>\n",
       "      <td>1</td>\n",
       "      <td>Tulkarm R.C.</td>\n",
       "      <td>0</td>\n",
       "      <td>1</td>\n",
       "      <td>6</td>\n",
       "      <td>Residental</td>\n",
       "      <td>2004</td>\n",
       "    </tr>\n",
       "    <tr>\n",
       "      <th>4963</th>\n",
       "      <td>west-bank</td>\n",
       "      <td>2004-01-15</td>\n",
       "      <td>15</td>\n",
       "      <td>Demolition of houses as punishment</td>\n",
       "      <td>Tulkarm</td>\n",
       "      <td>1</td>\n",
       "      <td>Tulkarm R.C.</td>\n",
       "      <td>0</td>\n",
       "      <td>1</td>\n",
       "      <td>5</td>\n",
       "      <td>Residental</td>\n",
       "      <td>2004</td>\n",
       "    </tr>\n",
       "    <tr>\n",
       "      <th>4964</th>\n",
       "      <td>west-bank</td>\n",
       "      <td>2004-01-15</td>\n",
       "      <td>15</td>\n",
       "      <td>Demolition of houses as punishment</td>\n",
       "      <td>Tulkarm</td>\n",
       "      <td>1</td>\n",
       "      <td>Tulkarm R.C.</td>\n",
       "      <td>0</td>\n",
       "      <td>1</td>\n",
       "      <td>7</td>\n",
       "      <td>Residental</td>\n",
       "      <td>2004</td>\n",
       "    </tr>\n",
       "  </tbody>\n",
       "</table>\n",
       "<p>4965 rows × 12 columns</p>\n",
       "</div>"
      ],
      "text/plain": [
       "           Area Date of Demolition  Day  \\\n",
       "0     west-bank         2022-04-13   13   \n",
       "1     west-bank         2022-04-13   13   \n",
       "2     west-bank         2022-04-12   12   \n",
       "3     west-bank         2022-03-23   23   \n",
       "4     west-bank         2022-03-23   23   \n",
       "...         ...                ...  ...   \n",
       "4960  west-bank         2004-01-30   30   \n",
       "4961  west-bank         2004-01-18   18   \n",
       "4962  west-bank         2004-01-15   15   \n",
       "4963  west-bank         2004-01-15   15   \n",
       "4964  west-bank         2004-01-15   15   \n",
       "\n",
       "                                      Demolition Reason              District  \\\n",
       "0     Demolition on the pretext of unlawful construc...  Ramallah and al-Bira   \n",
       "1     Demolition on the pretext of unlawful construc...  Ramallah and al-Bira   \n",
       "2     Demolition on the pretext of unlawful construc...  Ramallah and al-Bira   \n",
       "3     Demolition on the pretext of unlawful construc...  Ramallah and al-Bira   \n",
       "4     Demolition on the pretext of unlawful construc...  Ramallah and al-Bira   \n",
       "...                                                 ...                   ...   \n",
       "4960                 Demolition of houses as punishment  Ramallah and al-Bira   \n",
       "4961                 Demolition of houses as punishment                Hebron   \n",
       "4962                 Demolition of houses as punishment               Tulkarm   \n",
       "4963                 Demolition of houses as punishment               Tulkarm   \n",
       "4964                 Demolition of houses as punishment               Tulkarm   \n",
       "\n",
       "      Housing Units      Locality  Minors left Homeless  Month  \\\n",
       "0                 1   al-Mughayir                     0      4   \n",
       "1                 1   al-Mughayir                     0      4   \n",
       "2                 1    'Ein Samia                     0      4   \n",
       "3                 1   al-Mughayir                     0      3   \n",
       "4                 1   al-Mughayir                     0      3   \n",
       "...             ...           ...                   ...    ...   \n",
       "4960              1        Silwad                     0      1   \n",
       "4961              1         Yatta                     0      1   \n",
       "4962              1  Tulkarm R.C.                     0      1   \n",
       "4963              1  Tulkarm R.C.                     0      1   \n",
       "4964              1  Tulkarm R.C.                     0      1   \n",
       "\n",
       "      People left Homeless Type Of Sturcture  Year  \n",
       "0                        0   Non Resedential  2022  \n",
       "1                        0   Non Resedential  2022  \n",
       "2                        0   Non Resedential  2022  \n",
       "3                        0   Non Resedential  2022  \n",
       "4                        0   Non Resedential  2022  \n",
       "...                    ...               ...   ...  \n",
       "4960                     0        Residental  2004  \n",
       "4961                     6        Residental  2004  \n",
       "4962                     6        Residental  2004  \n",
       "4963                     5        Residental  2004  \n",
       "4964                     7        Residental  2004  \n",
       "\n",
       "[4965 rows x 12 columns]"
      ]
     },
     "execution_count": 54,
     "metadata": {},
     "output_type": "execute_result"
    }
   ],
   "source": [
    "all_data"
   ]
  },
  {
   "cell_type": "code",
   "execution_count": 55,
   "metadata": {},
   "outputs": [],
   "source": [
    "all_data=all_data.sort_values(by=['Date of Demolition'],ascending=False)"
   ]
  },
  {
   "cell_type": "code",
   "execution_count": 56,
   "metadata": {},
   "outputs": [
    {
     "data": {
      "text/html": [
       "<div>\n",
       "<style scoped>\n",
       "    .dataframe tbody tr th:only-of-type {\n",
       "        vertical-align: middle;\n",
       "    }\n",
       "\n",
       "    .dataframe tbody tr th {\n",
       "        vertical-align: top;\n",
       "    }\n",
       "\n",
       "    .dataframe thead th {\n",
       "        text-align: right;\n",
       "    }\n",
       "</style>\n",
       "<table border=\"1\" class=\"dataframe\">\n",
       "  <thead>\n",
       "    <tr style=\"text-align: right;\">\n",
       "      <th></th>\n",
       "      <th>Area</th>\n",
       "      <th>Date of Demolition</th>\n",
       "      <th>Day</th>\n",
       "      <th>Demolition Reason</th>\n",
       "      <th>District</th>\n",
       "      <th>Housing Units</th>\n",
       "      <th>Locality</th>\n",
       "      <th>Minors left Homeless</th>\n",
       "      <th>Month</th>\n",
       "      <th>People left Homeless</th>\n",
       "      <th>Type Of Sturcture</th>\n",
       "      <th>Year</th>\n",
       "    </tr>\n",
       "  </thead>\n",
       "  <tbody>\n",
       "    <tr>\n",
       "      <th>0</th>\n",
       "      <td>west-bank</td>\n",
       "      <td>2022-04-13</td>\n",
       "      <td>13</td>\n",
       "      <td>Demolition on the pretext of unlawful construc...</td>\n",
       "      <td>Ramallah and al-Bira</td>\n",
       "      <td>1</td>\n",
       "      <td>al-Mughayir</td>\n",
       "      <td>0</td>\n",
       "      <td>4</td>\n",
       "      <td>0</td>\n",
       "      <td>Non Resedential</td>\n",
       "      <td>2022</td>\n",
       "    </tr>\n",
       "    <tr>\n",
       "      <th>1</th>\n",
       "      <td>west-bank</td>\n",
       "      <td>2022-04-13</td>\n",
       "      <td>13</td>\n",
       "      <td>Demolition on the pretext of unlawful construc...</td>\n",
       "      <td>Ramallah and al-Bira</td>\n",
       "      <td>1</td>\n",
       "      <td>al-Mughayir</td>\n",
       "      <td>0</td>\n",
       "      <td>4</td>\n",
       "      <td>0</td>\n",
       "      <td>Non Resedential</td>\n",
       "      <td>2022</td>\n",
       "    </tr>\n",
       "    <tr>\n",
       "      <th>2</th>\n",
       "      <td>west-bank</td>\n",
       "      <td>2022-04-12</td>\n",
       "      <td>12</td>\n",
       "      <td>Demolition on the pretext of unlawful construc...</td>\n",
       "      <td>Ramallah and al-Bira</td>\n",
       "      <td>1</td>\n",
       "      <td>'Ein Samia</td>\n",
       "      <td>0</td>\n",
       "      <td>4</td>\n",
       "      <td>0</td>\n",
       "      <td>Non Resedential</td>\n",
       "      <td>2022</td>\n",
       "    </tr>\n",
       "    <tr>\n",
       "      <th>11</th>\n",
       "      <td>west-bank</td>\n",
       "      <td>2022-03-23</td>\n",
       "      <td>23</td>\n",
       "      <td>Demolition on the pretext of unlawful construc...</td>\n",
       "      <td>Tulkarm</td>\n",
       "      <td>1</td>\n",
       "      <td>Tulkarm</td>\n",
       "      <td>0</td>\n",
       "      <td>3</td>\n",
       "      <td>0</td>\n",
       "      <td>Non Resedential</td>\n",
       "      <td>2022</td>\n",
       "    </tr>\n",
       "    <tr>\n",
       "      <th>18</th>\n",
       "      <td>west-bank</td>\n",
       "      <td>2022-03-23</td>\n",
       "      <td>23</td>\n",
       "      <td>Demolition on the pretext of unlawful construc...</td>\n",
       "      <td>Tulkarm</td>\n",
       "      <td>2</td>\n",
       "      <td>Tulkarm</td>\n",
       "      <td>0</td>\n",
       "      <td>3</td>\n",
       "      <td>0</td>\n",
       "      <td>Non Resedential</td>\n",
       "      <td>2022</td>\n",
       "    </tr>\n",
       "    <tr>\n",
       "      <th>...</th>\n",
       "      <td>...</td>\n",
       "      <td>...</td>\n",
       "      <td>...</td>\n",
       "      <td>...</td>\n",
       "      <td>...</td>\n",
       "      <td>...</td>\n",
       "      <td>...</td>\n",
       "      <td>...</td>\n",
       "      <td>...</td>\n",
       "      <td>...</td>\n",
       "      <td>...</td>\n",
       "      <td>...</td>\n",
       "    </tr>\n",
       "    <tr>\n",
       "      <th>4715</th>\n",
       "      <td>gaza-strip</td>\n",
       "      <td>2004-01-01</td>\n",
       "      <td>1</td>\n",
       "      <td>Demolition for alleged military purposes</td>\n",
       "      <td>Deir al-Balah</td>\n",
       "      <td>1</td>\n",
       "      <td>Deir al-Balah</td>\n",
       "      <td>0</td>\n",
       "      <td>1</td>\n",
       "      <td>6</td>\n",
       "      <td>Residental</td>\n",
       "      <td>2004</td>\n",
       "    </tr>\n",
       "    <tr>\n",
       "      <th>4716</th>\n",
       "      <td>gaza-strip</td>\n",
       "      <td>2004-01-01</td>\n",
       "      <td>1</td>\n",
       "      <td>Demolition for alleged military purposes</td>\n",
       "      <td>Deir al-Balah</td>\n",
       "      <td>1</td>\n",
       "      <td>Deir al-Balah</td>\n",
       "      <td>0</td>\n",
       "      <td>1</td>\n",
       "      <td>10</td>\n",
       "      <td>Residental</td>\n",
       "      <td>2004</td>\n",
       "    </tr>\n",
       "    <tr>\n",
       "      <th>4717</th>\n",
       "      <td>gaza-strip</td>\n",
       "      <td>2004-01-01</td>\n",
       "      <td>1</td>\n",
       "      <td>Demolition for alleged military purposes</td>\n",
       "      <td>Deir al-Balah</td>\n",
       "      <td>1</td>\n",
       "      <td>Deir al-Balah</td>\n",
       "      <td>0</td>\n",
       "      <td>1</td>\n",
       "      <td>5</td>\n",
       "      <td>Residental</td>\n",
       "      <td>2004</td>\n",
       "    </tr>\n",
       "    <tr>\n",
       "      <th>4708</th>\n",
       "      <td>gaza-strip</td>\n",
       "      <td>2004-01-01</td>\n",
       "      <td>1</td>\n",
       "      <td>Demolition for alleged military purposes</td>\n",
       "      <td>Deir al-Balah</td>\n",
       "      <td>1</td>\n",
       "      <td>Deir al-Balah</td>\n",
       "      <td>0</td>\n",
       "      <td>1</td>\n",
       "      <td>4</td>\n",
       "      <td>Residental</td>\n",
       "      <td>2004</td>\n",
       "    </tr>\n",
       "    <tr>\n",
       "      <th>4713</th>\n",
       "      <td>gaza-strip</td>\n",
       "      <td>2004-01-01</td>\n",
       "      <td>1</td>\n",
       "      <td>Demolition for alleged military purposes</td>\n",
       "      <td>Deir al-Balah</td>\n",
       "      <td>1</td>\n",
       "      <td>Deir al-Balah</td>\n",
       "      <td>0</td>\n",
       "      <td>1</td>\n",
       "      <td>2</td>\n",
       "      <td>Residental</td>\n",
       "      <td>2004</td>\n",
       "    </tr>\n",
       "  </tbody>\n",
       "</table>\n",
       "<p>4965 rows × 12 columns</p>\n",
       "</div>"
      ],
      "text/plain": [
       "            Area Date of Demolition  Day  \\\n",
       "0      west-bank         2022-04-13   13   \n",
       "1      west-bank         2022-04-13   13   \n",
       "2      west-bank         2022-04-12   12   \n",
       "11     west-bank         2022-03-23   23   \n",
       "18     west-bank         2022-03-23   23   \n",
       "...          ...                ...  ...   \n",
       "4715  gaza-strip         2004-01-01    1   \n",
       "4716  gaza-strip         2004-01-01    1   \n",
       "4717  gaza-strip         2004-01-01    1   \n",
       "4708  gaza-strip         2004-01-01    1   \n",
       "4713  gaza-strip         2004-01-01    1   \n",
       "\n",
       "                                      Demolition Reason              District  \\\n",
       "0     Demolition on the pretext of unlawful construc...  Ramallah and al-Bira   \n",
       "1     Demolition on the pretext of unlawful construc...  Ramallah and al-Bira   \n",
       "2     Demolition on the pretext of unlawful construc...  Ramallah and al-Bira   \n",
       "11    Demolition on the pretext of unlawful construc...               Tulkarm   \n",
       "18    Demolition on the pretext of unlawful construc...               Tulkarm   \n",
       "...                                                 ...                   ...   \n",
       "4715           Demolition for alleged military purposes         Deir al-Balah   \n",
       "4716           Demolition for alleged military purposes         Deir al-Balah   \n",
       "4717           Demolition for alleged military purposes         Deir al-Balah   \n",
       "4708           Demolition for alleged military purposes         Deir al-Balah   \n",
       "4713           Demolition for alleged military purposes         Deir al-Balah   \n",
       "\n",
       "      Housing Units       Locality  Minors left Homeless  Month  \\\n",
       "0                 1    al-Mughayir                     0      4   \n",
       "1                 1    al-Mughayir                     0      4   \n",
       "2                 1     'Ein Samia                     0      4   \n",
       "11                1        Tulkarm                     0      3   \n",
       "18                2        Tulkarm                     0      3   \n",
       "...             ...            ...                   ...    ...   \n",
       "4715              1  Deir al-Balah                     0      1   \n",
       "4716              1  Deir al-Balah                     0      1   \n",
       "4717              1  Deir al-Balah                     0      1   \n",
       "4708              1  Deir al-Balah                     0      1   \n",
       "4713              1  Deir al-Balah                     0      1   \n",
       "\n",
       "      People left Homeless Type Of Sturcture  Year  \n",
       "0                        0   Non Resedential  2022  \n",
       "1                        0   Non Resedential  2022  \n",
       "2                        0   Non Resedential  2022  \n",
       "11                       0   Non Resedential  2022  \n",
       "18                       0   Non Resedential  2022  \n",
       "...                    ...               ...   ...  \n",
       "4715                     6        Residental  2004  \n",
       "4716                    10        Residental  2004  \n",
       "4717                     5        Residental  2004  \n",
       "4708                     4        Residental  2004  \n",
       "4713                     2        Residental  2004  \n",
       "\n",
       "[4965 rows x 12 columns]"
      ]
     },
     "execution_count": 56,
     "metadata": {},
     "output_type": "execute_result"
    }
   ],
   "source": [
    "all_data"
   ]
  },
  {
   "cell_type": "code",
   "execution_count": 57,
   "metadata": {},
   "outputs": [
    {
     "data": {
      "text/plain": [
       "Area                    0\n",
       "Date of Demolition      0\n",
       "Day                     0\n",
       "Demolition Reason       0\n",
       "District                2\n",
       "Housing Units           0\n",
       "Locality                2\n",
       "Minors left Homeless    0\n",
       "Month                   0\n",
       "People left Homeless    0\n",
       "Type Of Sturcture       0\n",
       "Year                    0\n",
       "dtype: int64"
      ]
     },
     "execution_count": 57,
     "metadata": {},
     "output_type": "execute_result"
    }
   ],
   "source": [
    "all_data.isna().sum()"
   ]
  },
  {
   "cell_type": "code",
   "execution_count": 58,
   "metadata": {},
   "outputs": [],
   "source": [
    "all_data=all_data.dropna()"
   ]
  },
  {
   "cell_type": "code",
   "execution_count": 59,
   "metadata": {},
   "outputs": [
    {
     "data": {
      "text/plain": [
       "Area                    0\n",
       "Date of Demolition      0\n",
       "Day                     0\n",
       "Demolition Reason       0\n",
       "District                0\n",
       "Housing Units           0\n",
       "Locality                0\n",
       "Minors left Homeless    0\n",
       "Month                   0\n",
       "People left Homeless    0\n",
       "Type Of Sturcture       0\n",
       "Year                    0\n",
       "dtype: int64"
      ]
     },
     "execution_count": 59,
     "metadata": {},
     "output_type": "execute_result"
    }
   ],
   "source": [
    "all_data.isna().sum()"
   ]
  },
  {
   "cell_type": "code",
   "execution_count": 60,
   "metadata": {},
   "outputs": [
    {
     "data": {
      "text/html": [
       "<div>\n",
       "<style scoped>\n",
       "    .dataframe tbody tr th:only-of-type {\n",
       "        vertical-align: middle;\n",
       "    }\n",
       "\n",
       "    .dataframe tbody tr th {\n",
       "        vertical-align: top;\n",
       "    }\n",
       "\n",
       "    .dataframe thead th {\n",
       "        text-align: right;\n",
       "    }\n",
       "</style>\n",
       "<table border=\"1\" class=\"dataframe\">\n",
       "  <thead>\n",
       "    <tr style=\"text-align: right;\">\n",
       "      <th></th>\n",
       "      <th>Area</th>\n",
       "      <th>Date of Demolition</th>\n",
       "      <th>Day</th>\n",
       "      <th>Demolition Reason</th>\n",
       "      <th>District</th>\n",
       "      <th>Housing Units</th>\n",
       "      <th>Locality</th>\n",
       "      <th>Minors left Homeless</th>\n",
       "      <th>Month</th>\n",
       "      <th>People left Homeless</th>\n",
       "      <th>Type Of Sturcture</th>\n",
       "      <th>Year</th>\n",
       "    </tr>\n",
       "  </thead>\n",
       "  <tbody>\n",
       "    <tr>\n",
       "      <th>0</th>\n",
       "      <td>west-bank</td>\n",
       "      <td>2022-04-13</td>\n",
       "      <td>13</td>\n",
       "      <td>Demolition on the pretext of unlawful construc...</td>\n",
       "      <td>Ramallah and al-Bira</td>\n",
       "      <td>1</td>\n",
       "      <td>al-Mughayir</td>\n",
       "      <td>0</td>\n",
       "      <td>4</td>\n",
       "      <td>0</td>\n",
       "      <td>Non Resedential</td>\n",
       "      <td>2022</td>\n",
       "    </tr>\n",
       "    <tr>\n",
       "      <th>1</th>\n",
       "      <td>west-bank</td>\n",
       "      <td>2022-04-13</td>\n",
       "      <td>13</td>\n",
       "      <td>Demolition on the pretext of unlawful construc...</td>\n",
       "      <td>Ramallah and al-Bira</td>\n",
       "      <td>1</td>\n",
       "      <td>al-Mughayir</td>\n",
       "      <td>0</td>\n",
       "      <td>4</td>\n",
       "      <td>0</td>\n",
       "      <td>Non Resedential</td>\n",
       "      <td>2022</td>\n",
       "    </tr>\n",
       "    <tr>\n",
       "      <th>2</th>\n",
       "      <td>west-bank</td>\n",
       "      <td>2022-04-12</td>\n",
       "      <td>12</td>\n",
       "      <td>Demolition on the pretext of unlawful construc...</td>\n",
       "      <td>Ramallah and al-Bira</td>\n",
       "      <td>1</td>\n",
       "      <td>'Ein Samia</td>\n",
       "      <td>0</td>\n",
       "      <td>4</td>\n",
       "      <td>0</td>\n",
       "      <td>Non Resedential</td>\n",
       "      <td>2022</td>\n",
       "    </tr>\n",
       "    <tr>\n",
       "      <th>11</th>\n",
       "      <td>west-bank</td>\n",
       "      <td>2022-03-23</td>\n",
       "      <td>23</td>\n",
       "      <td>Demolition on the pretext of unlawful construc...</td>\n",
       "      <td>Tulkarm</td>\n",
       "      <td>1</td>\n",
       "      <td>Tulkarm</td>\n",
       "      <td>0</td>\n",
       "      <td>3</td>\n",
       "      <td>0</td>\n",
       "      <td>Non Resedential</td>\n",
       "      <td>2022</td>\n",
       "    </tr>\n",
       "    <tr>\n",
       "      <th>18</th>\n",
       "      <td>west-bank</td>\n",
       "      <td>2022-03-23</td>\n",
       "      <td>23</td>\n",
       "      <td>Demolition on the pretext of unlawful construc...</td>\n",
       "      <td>Tulkarm</td>\n",
       "      <td>2</td>\n",
       "      <td>Tulkarm</td>\n",
       "      <td>0</td>\n",
       "      <td>3</td>\n",
       "      <td>0</td>\n",
       "      <td>Non Resedential</td>\n",
       "      <td>2022</td>\n",
       "    </tr>\n",
       "    <tr>\n",
       "      <th>...</th>\n",
       "      <td>...</td>\n",
       "      <td>...</td>\n",
       "      <td>...</td>\n",
       "      <td>...</td>\n",
       "      <td>...</td>\n",
       "      <td>...</td>\n",
       "      <td>...</td>\n",
       "      <td>...</td>\n",
       "      <td>...</td>\n",
       "      <td>...</td>\n",
       "      <td>...</td>\n",
       "      <td>...</td>\n",
       "    </tr>\n",
       "    <tr>\n",
       "      <th>4715</th>\n",
       "      <td>gaza-strip</td>\n",
       "      <td>2004-01-01</td>\n",
       "      <td>1</td>\n",
       "      <td>Demolition for alleged military purposes</td>\n",
       "      <td>Deir al-Balah</td>\n",
       "      <td>1</td>\n",
       "      <td>Deir al-Balah</td>\n",
       "      <td>0</td>\n",
       "      <td>1</td>\n",
       "      <td>6</td>\n",
       "      <td>Residental</td>\n",
       "      <td>2004</td>\n",
       "    </tr>\n",
       "    <tr>\n",
       "      <th>4716</th>\n",
       "      <td>gaza-strip</td>\n",
       "      <td>2004-01-01</td>\n",
       "      <td>1</td>\n",
       "      <td>Demolition for alleged military purposes</td>\n",
       "      <td>Deir al-Balah</td>\n",
       "      <td>1</td>\n",
       "      <td>Deir al-Balah</td>\n",
       "      <td>0</td>\n",
       "      <td>1</td>\n",
       "      <td>10</td>\n",
       "      <td>Residental</td>\n",
       "      <td>2004</td>\n",
       "    </tr>\n",
       "    <tr>\n",
       "      <th>4717</th>\n",
       "      <td>gaza-strip</td>\n",
       "      <td>2004-01-01</td>\n",
       "      <td>1</td>\n",
       "      <td>Demolition for alleged military purposes</td>\n",
       "      <td>Deir al-Balah</td>\n",
       "      <td>1</td>\n",
       "      <td>Deir al-Balah</td>\n",
       "      <td>0</td>\n",
       "      <td>1</td>\n",
       "      <td>5</td>\n",
       "      <td>Residental</td>\n",
       "      <td>2004</td>\n",
       "    </tr>\n",
       "    <tr>\n",
       "      <th>4708</th>\n",
       "      <td>gaza-strip</td>\n",
       "      <td>2004-01-01</td>\n",
       "      <td>1</td>\n",
       "      <td>Demolition for alleged military purposes</td>\n",
       "      <td>Deir al-Balah</td>\n",
       "      <td>1</td>\n",
       "      <td>Deir al-Balah</td>\n",
       "      <td>0</td>\n",
       "      <td>1</td>\n",
       "      <td>4</td>\n",
       "      <td>Residental</td>\n",
       "      <td>2004</td>\n",
       "    </tr>\n",
       "    <tr>\n",
       "      <th>4713</th>\n",
       "      <td>gaza-strip</td>\n",
       "      <td>2004-01-01</td>\n",
       "      <td>1</td>\n",
       "      <td>Demolition for alleged military purposes</td>\n",
       "      <td>Deir al-Balah</td>\n",
       "      <td>1</td>\n",
       "      <td>Deir al-Balah</td>\n",
       "      <td>0</td>\n",
       "      <td>1</td>\n",
       "      <td>2</td>\n",
       "      <td>Residental</td>\n",
       "      <td>2004</td>\n",
       "    </tr>\n",
       "  </tbody>\n",
       "</table>\n",
       "<p>4963 rows × 12 columns</p>\n",
       "</div>"
      ],
      "text/plain": [
       "            Area Date of Demolition  Day  \\\n",
       "0      west-bank         2022-04-13   13   \n",
       "1      west-bank         2022-04-13   13   \n",
       "2      west-bank         2022-04-12   12   \n",
       "11     west-bank         2022-03-23   23   \n",
       "18     west-bank         2022-03-23   23   \n",
       "...          ...                ...  ...   \n",
       "4715  gaza-strip         2004-01-01    1   \n",
       "4716  gaza-strip         2004-01-01    1   \n",
       "4717  gaza-strip         2004-01-01    1   \n",
       "4708  gaza-strip         2004-01-01    1   \n",
       "4713  gaza-strip         2004-01-01    1   \n",
       "\n",
       "                                      Demolition Reason              District  \\\n",
       "0     Demolition on the pretext of unlawful construc...  Ramallah and al-Bira   \n",
       "1     Demolition on the pretext of unlawful construc...  Ramallah and al-Bira   \n",
       "2     Demolition on the pretext of unlawful construc...  Ramallah and al-Bira   \n",
       "11    Demolition on the pretext of unlawful construc...               Tulkarm   \n",
       "18    Demolition on the pretext of unlawful construc...               Tulkarm   \n",
       "...                                                 ...                   ...   \n",
       "4715           Demolition for alleged military purposes         Deir al-Balah   \n",
       "4716           Demolition for alleged military purposes         Deir al-Balah   \n",
       "4717           Demolition for alleged military purposes         Deir al-Balah   \n",
       "4708           Demolition for alleged military purposes         Deir al-Balah   \n",
       "4713           Demolition for alleged military purposes         Deir al-Balah   \n",
       "\n",
       "      Housing Units       Locality  Minors left Homeless  Month  \\\n",
       "0                 1    al-Mughayir                     0      4   \n",
       "1                 1    al-Mughayir                     0      4   \n",
       "2                 1     'Ein Samia                     0      4   \n",
       "11                1        Tulkarm                     0      3   \n",
       "18                2        Tulkarm                     0      3   \n",
       "...             ...            ...                   ...    ...   \n",
       "4715              1  Deir al-Balah                     0      1   \n",
       "4716              1  Deir al-Balah                     0      1   \n",
       "4717              1  Deir al-Balah                     0      1   \n",
       "4708              1  Deir al-Balah                     0      1   \n",
       "4713              1  Deir al-Balah                     0      1   \n",
       "\n",
       "      People left Homeless Type Of Sturcture  Year  \n",
       "0                        0   Non Resedential  2022  \n",
       "1                        0   Non Resedential  2022  \n",
       "2                        0   Non Resedential  2022  \n",
       "11                       0   Non Resedential  2022  \n",
       "18                       0   Non Resedential  2022  \n",
       "...                    ...               ...   ...  \n",
       "4715                     6        Residental  2004  \n",
       "4716                    10        Residental  2004  \n",
       "4717                     5        Residental  2004  \n",
       "4708                     4        Residental  2004  \n",
       "4713                     2        Residental  2004  \n",
       "\n",
       "[4963 rows x 12 columns]"
      ]
     },
     "execution_count": 60,
     "metadata": {},
     "output_type": "execute_result"
    }
   ],
   "source": [
    "all_data"
   ]
  },
  {
   "cell_type": "code",
   "execution_count": 61,
   "metadata": {},
   "outputs": [
    {
     "data": {
      "text/html": [
       "<div>\n",
       "<style scoped>\n",
       "    .dataframe tbody tr th:only-of-type {\n",
       "        vertical-align: middle;\n",
       "    }\n",
       "\n",
       "    .dataframe tbody tr th {\n",
       "        vertical-align: top;\n",
       "    }\n",
       "\n",
       "    .dataframe thead th {\n",
       "        text-align: right;\n",
       "    }\n",
       "</style>\n",
       "<table border=\"1\" class=\"dataframe\">\n",
       "  <thead>\n",
       "    <tr style=\"text-align: right;\">\n",
       "      <th></th>\n",
       "      <th>Area</th>\n",
       "      <th>Date of Demolition</th>\n",
       "      <th>Day</th>\n",
       "      <th>Demolition Reason</th>\n",
       "      <th>District</th>\n",
       "      <th>Housing Units</th>\n",
       "      <th>Locality</th>\n",
       "      <th>Minors left Homeless</th>\n",
       "      <th>Month</th>\n",
       "      <th>People left Homeless</th>\n",
       "      <th>Type Of Sturcture</th>\n",
       "      <th>Year</th>\n",
       "    </tr>\n",
       "  </thead>\n",
       "  <tbody>\n",
       "    <tr>\n",
       "      <th>134</th>\n",
       "      <td>west-bank</td>\n",
       "      <td>2021-12-28</td>\n",
       "      <td>28</td>\n",
       "      <td>Demolition on the pretext of unlawful construc...</td>\n",
       "      <td>Tubas</td>\n",
       "      <td>1</td>\n",
       "      <td>Kh.Ibziq</td>\n",
       "      <td>0</td>\n",
       "      <td>12</td>\n",
       "      <td>2</td>\n",
       "      <td>Residental</td>\n",
       "      <td>2021</td>\n",
       "    </tr>\n",
       "    <tr>\n",
       "      <th>137</th>\n",
       "      <td>west-bank</td>\n",
       "      <td>2021-12-28</td>\n",
       "      <td>28</td>\n",
       "      <td>Demolition on the pretext of unlawful construc...</td>\n",
       "      <td>Hebron</td>\n",
       "      <td>1</td>\n",
       "      <td>Qalqas</td>\n",
       "      <td>0</td>\n",
       "      <td>12</td>\n",
       "      <td>0</td>\n",
       "      <td>Non Resedential</td>\n",
       "      <td>2021</td>\n",
       "    </tr>\n",
       "    <tr>\n",
       "      <th>136</th>\n",
       "      <td>west-bank</td>\n",
       "      <td>2021-12-28</td>\n",
       "      <td>28</td>\n",
       "      <td>Demolition on the pretext of unlawful construc...</td>\n",
       "      <td>Hebron</td>\n",
       "      <td>1</td>\n",
       "      <td>Qalqas</td>\n",
       "      <td>0</td>\n",
       "      <td>12</td>\n",
       "      <td>0</td>\n",
       "      <td>Residental</td>\n",
       "      <td>2021</td>\n",
       "    </tr>\n",
       "    <tr>\n",
       "      <th>135</th>\n",
       "      <td>west-bank</td>\n",
       "      <td>2021-12-28</td>\n",
       "      <td>28</td>\n",
       "      <td>Demolition on the pretext of unlawful construc...</td>\n",
       "      <td>Tubas</td>\n",
       "      <td>2</td>\n",
       "      <td>Kh.Ibziq</td>\n",
       "      <td>0</td>\n",
       "      <td>12</td>\n",
       "      <td>0</td>\n",
       "      <td>Non Resedential</td>\n",
       "      <td>2021</td>\n",
       "    </tr>\n",
       "    <tr>\n",
       "      <th>129</th>\n",
       "      <td>west-bank</td>\n",
       "      <td>2021-12-28</td>\n",
       "      <td>28</td>\n",
       "      <td>Demolition on the pretext of unlawful construc...</td>\n",
       "      <td>Qalqiliya</td>\n",
       "      <td>1</td>\n",
       "      <td>Hablah</td>\n",
       "      <td>0</td>\n",
       "      <td>12</td>\n",
       "      <td>0</td>\n",
       "      <td>Non Resedential</td>\n",
       "      <td>2021</td>\n",
       "    </tr>\n",
       "    <tr>\n",
       "      <th>...</th>\n",
       "      <td>...</td>\n",
       "      <td>...</td>\n",
       "      <td>...</td>\n",
       "      <td>...</td>\n",
       "      <td>...</td>\n",
       "      <td>...</td>\n",
       "      <td>...</td>\n",
       "      <td>...</td>\n",
       "      <td>...</td>\n",
       "      <td>...</td>\n",
       "      <td>...</td>\n",
       "      <td>...</td>\n",
       "    </tr>\n",
       "    <tr>\n",
       "      <th>615</th>\n",
       "      <td>west-bank</td>\n",
       "      <td>2021-01-04</td>\n",
       "      <td>4</td>\n",
       "      <td>Demolition on the pretext of unlawful construc...</td>\n",
       "      <td>al-Quds</td>\n",
       "      <td>1</td>\n",
       "      <td>'Anata</td>\n",
       "      <td>0</td>\n",
       "      <td>1</td>\n",
       "      <td>0</td>\n",
       "      <td>Non Resedential</td>\n",
       "      <td>2021</td>\n",
       "    </tr>\n",
       "    <tr>\n",
       "      <th>616</th>\n",
       "      <td>west-bank</td>\n",
       "      <td>2021-01-04</td>\n",
       "      <td>4</td>\n",
       "      <td>Demolition on the pretext of unlawful construc...</td>\n",
       "      <td>al-Quds</td>\n",
       "      <td>1</td>\n",
       "      <td>'Anata</td>\n",
       "      <td>0</td>\n",
       "      <td>1</td>\n",
       "      <td>0</td>\n",
       "      <td>Non Resedential</td>\n",
       "      <td>2021</td>\n",
       "    </tr>\n",
       "    <tr>\n",
       "      <th>617</th>\n",
       "      <td>west-bank</td>\n",
       "      <td>2021-01-04</td>\n",
       "      <td>4</td>\n",
       "      <td>Demolition on the pretext of unlawful construc...</td>\n",
       "      <td>al-Quds</td>\n",
       "      <td>1</td>\n",
       "      <td>'Anata</td>\n",
       "      <td>0</td>\n",
       "      <td>1</td>\n",
       "      <td>0</td>\n",
       "      <td>Non Resedential</td>\n",
       "      <td>2021</td>\n",
       "    </tr>\n",
       "    <tr>\n",
       "      <th>619</th>\n",
       "      <td>west-bank</td>\n",
       "      <td>2021-01-04</td>\n",
       "      <td>4</td>\n",
       "      <td>Demolition on the pretext of unlawful construc...</td>\n",
       "      <td>al-Quds</td>\n",
       "      <td>1</td>\n",
       "      <td>'Anata</td>\n",
       "      <td>1</td>\n",
       "      <td>1</td>\n",
       "      <td>3</td>\n",
       "      <td>Residental</td>\n",
       "      <td>2021</td>\n",
       "    </tr>\n",
       "    <tr>\n",
       "      <th>620</th>\n",
       "      <td>west-bank</td>\n",
       "      <td>2021-01-04</td>\n",
       "      <td>4</td>\n",
       "      <td>Demolition on the pretext of unlawful construc...</td>\n",
       "      <td>Bethlehem</td>\n",
       "      <td>1</td>\n",
       "      <td>al-Khader</td>\n",
       "      <td>0</td>\n",
       "      <td>1</td>\n",
       "      <td>0</td>\n",
       "      <td>Non Resedential</td>\n",
       "      <td>2021</td>\n",
       "    </tr>\n",
       "  </tbody>\n",
       "</table>\n",
       "<p>499 rows × 12 columns</p>\n",
       "</div>"
      ],
      "text/plain": [
       "          Area Date of Demolition  Day  \\\n",
       "134  west-bank         2021-12-28   28   \n",
       "137  west-bank         2021-12-28   28   \n",
       "136  west-bank         2021-12-28   28   \n",
       "135  west-bank         2021-12-28   28   \n",
       "129  west-bank         2021-12-28   28   \n",
       "..         ...                ...  ...   \n",
       "615  west-bank         2021-01-04    4   \n",
       "616  west-bank         2021-01-04    4   \n",
       "617  west-bank         2021-01-04    4   \n",
       "619  west-bank         2021-01-04    4   \n",
       "620  west-bank         2021-01-04    4   \n",
       "\n",
       "                                     Demolition Reason   District  \\\n",
       "134  Demolition on the pretext of unlawful construc...      Tubas   \n",
       "137  Demolition on the pretext of unlawful construc...     Hebron   \n",
       "136  Demolition on the pretext of unlawful construc...     Hebron   \n",
       "135  Demolition on the pretext of unlawful construc...      Tubas   \n",
       "129  Demolition on the pretext of unlawful construc...  Qalqiliya   \n",
       "..                                                 ...        ...   \n",
       "615  Demolition on the pretext of unlawful construc...    al-Quds   \n",
       "616  Demolition on the pretext of unlawful construc...    al-Quds   \n",
       "617  Demolition on the pretext of unlawful construc...    al-Quds   \n",
       "619  Demolition on the pretext of unlawful construc...    al-Quds   \n",
       "620  Demolition on the pretext of unlawful construc...  Bethlehem   \n",
       "\n",
       "     Housing Units   Locality  Minors left Homeless  Month  \\\n",
       "134              1   Kh.Ibziq                     0     12   \n",
       "137              1     Qalqas                     0     12   \n",
       "136              1     Qalqas                     0     12   \n",
       "135              2   Kh.Ibziq                     0     12   \n",
       "129              1     Hablah                     0     12   \n",
       "..             ...        ...                   ...    ...   \n",
       "615              1     'Anata                     0      1   \n",
       "616              1     'Anata                     0      1   \n",
       "617              1     'Anata                     0      1   \n",
       "619              1     'Anata                     1      1   \n",
       "620              1  al-Khader                     0      1   \n",
       "\n",
       "     People left Homeless Type Of Sturcture  Year  \n",
       "134                     2        Residental  2021  \n",
       "137                     0   Non Resedential  2021  \n",
       "136                     0        Residental  2021  \n",
       "135                     0   Non Resedential  2021  \n",
       "129                     0   Non Resedential  2021  \n",
       "..                    ...               ...   ...  \n",
       "615                     0   Non Resedential  2021  \n",
       "616                     0   Non Resedential  2021  \n",
       "617                     0   Non Resedential  2021  \n",
       "619                     3        Residental  2021  \n",
       "620                     0   Non Resedential  2021  \n",
       "\n",
       "[499 rows x 12 columns]"
      ]
     },
     "execution_count": 61,
     "metadata": {},
     "output_type": "execute_result"
    }
   ],
   "source": [
    "all_data[all_data['Year']==2021]"
   ]
  },
  {
   "cell_type": "code",
   "execution_count": 62,
   "metadata": {},
   "outputs": [
    {
     "name": "stderr",
     "output_type": "stream",
     "text": [
      "c:\\Users\\abohassan\\anaconda3\\lib\\site-packages\\ipykernel_launcher.py:1: SettingWithCopyWarning: \n",
      "A value is trying to be set on a copy of a slice from a DataFrame.\n",
      "Try using .loc[row_indexer,col_indexer] = value instead\n",
      "\n",
      "See the caveats in the documentation: https://pandas.pydata.org/pandas-docs/stable/user_guide/indexing.html#returning-a-view-versus-a-copy\n",
      "  \"\"\"Entry point for launching an IPython kernel.\n"
     ]
    }
   ],
   "source": [
    "all_data[\"total_Homeless\"]=all_data['People left Homeless']+all_data['Minors left Homeless']"
   ]
  },
  {
   "cell_type": "code",
   "execution_count": 63,
   "metadata": {},
   "outputs": [
    {
     "data": {
      "text/html": [
       "<div>\n",
       "<style scoped>\n",
       "    .dataframe tbody tr th:only-of-type {\n",
       "        vertical-align: middle;\n",
       "    }\n",
       "\n",
       "    .dataframe tbody tr th {\n",
       "        vertical-align: top;\n",
       "    }\n",
       "\n",
       "    .dataframe thead th {\n",
       "        text-align: right;\n",
       "    }\n",
       "</style>\n",
       "<table border=\"1\" class=\"dataframe\">\n",
       "  <thead>\n",
       "    <tr style=\"text-align: right;\">\n",
       "      <th></th>\n",
       "      <th>Area</th>\n",
       "      <th>Date of Demolition</th>\n",
       "      <th>Day</th>\n",
       "      <th>Demolition Reason</th>\n",
       "      <th>District</th>\n",
       "      <th>Housing Units</th>\n",
       "      <th>Locality</th>\n",
       "      <th>Minors left Homeless</th>\n",
       "      <th>Month</th>\n",
       "      <th>People left Homeless</th>\n",
       "      <th>Type Of Sturcture</th>\n",
       "      <th>Year</th>\n",
       "      <th>total_Homeless</th>\n",
       "    </tr>\n",
       "  </thead>\n",
       "  <tbody>\n",
       "    <tr>\n",
       "      <th>0</th>\n",
       "      <td>west-bank</td>\n",
       "      <td>2022-04-13</td>\n",
       "      <td>13</td>\n",
       "      <td>Demolition on the pretext of unlawful construc...</td>\n",
       "      <td>Ramallah and al-Bira</td>\n",
       "      <td>1</td>\n",
       "      <td>al-Mughayir</td>\n",
       "      <td>0</td>\n",
       "      <td>4</td>\n",
       "      <td>0</td>\n",
       "      <td>Non Resedential</td>\n",
       "      <td>2022</td>\n",
       "      <td>0</td>\n",
       "    </tr>\n",
       "    <tr>\n",
       "      <th>1</th>\n",
       "      <td>west-bank</td>\n",
       "      <td>2022-04-13</td>\n",
       "      <td>13</td>\n",
       "      <td>Demolition on the pretext of unlawful construc...</td>\n",
       "      <td>Ramallah and al-Bira</td>\n",
       "      <td>1</td>\n",
       "      <td>al-Mughayir</td>\n",
       "      <td>0</td>\n",
       "      <td>4</td>\n",
       "      <td>0</td>\n",
       "      <td>Non Resedential</td>\n",
       "      <td>2022</td>\n",
       "      <td>0</td>\n",
       "    </tr>\n",
       "    <tr>\n",
       "      <th>2</th>\n",
       "      <td>west-bank</td>\n",
       "      <td>2022-04-12</td>\n",
       "      <td>12</td>\n",
       "      <td>Demolition on the pretext of unlawful construc...</td>\n",
       "      <td>Ramallah and al-Bira</td>\n",
       "      <td>1</td>\n",
       "      <td>'Ein Samia</td>\n",
       "      <td>0</td>\n",
       "      <td>4</td>\n",
       "      <td>0</td>\n",
       "      <td>Non Resedential</td>\n",
       "      <td>2022</td>\n",
       "      <td>0</td>\n",
       "    </tr>\n",
       "    <tr>\n",
       "      <th>11</th>\n",
       "      <td>west-bank</td>\n",
       "      <td>2022-03-23</td>\n",
       "      <td>23</td>\n",
       "      <td>Demolition on the pretext of unlawful construc...</td>\n",
       "      <td>Tulkarm</td>\n",
       "      <td>1</td>\n",
       "      <td>Tulkarm</td>\n",
       "      <td>0</td>\n",
       "      <td>3</td>\n",
       "      <td>0</td>\n",
       "      <td>Non Resedential</td>\n",
       "      <td>2022</td>\n",
       "      <td>0</td>\n",
       "    </tr>\n",
       "    <tr>\n",
       "      <th>18</th>\n",
       "      <td>west-bank</td>\n",
       "      <td>2022-03-23</td>\n",
       "      <td>23</td>\n",
       "      <td>Demolition on the pretext of unlawful construc...</td>\n",
       "      <td>Tulkarm</td>\n",
       "      <td>2</td>\n",
       "      <td>Tulkarm</td>\n",
       "      <td>0</td>\n",
       "      <td>3</td>\n",
       "      <td>0</td>\n",
       "      <td>Non Resedential</td>\n",
       "      <td>2022</td>\n",
       "      <td>0</td>\n",
       "    </tr>\n",
       "    <tr>\n",
       "      <th>...</th>\n",
       "      <td>...</td>\n",
       "      <td>...</td>\n",
       "      <td>...</td>\n",
       "      <td>...</td>\n",
       "      <td>...</td>\n",
       "      <td>...</td>\n",
       "      <td>...</td>\n",
       "      <td>...</td>\n",
       "      <td>...</td>\n",
       "      <td>...</td>\n",
       "      <td>...</td>\n",
       "      <td>...</td>\n",
       "      <td>...</td>\n",
       "    </tr>\n",
       "    <tr>\n",
       "      <th>4715</th>\n",
       "      <td>gaza-strip</td>\n",
       "      <td>2004-01-01</td>\n",
       "      <td>1</td>\n",
       "      <td>Demolition for alleged military purposes</td>\n",
       "      <td>Deir al-Balah</td>\n",
       "      <td>1</td>\n",
       "      <td>Deir al-Balah</td>\n",
       "      <td>0</td>\n",
       "      <td>1</td>\n",
       "      <td>6</td>\n",
       "      <td>Residental</td>\n",
       "      <td>2004</td>\n",
       "      <td>6</td>\n",
       "    </tr>\n",
       "    <tr>\n",
       "      <th>4716</th>\n",
       "      <td>gaza-strip</td>\n",
       "      <td>2004-01-01</td>\n",
       "      <td>1</td>\n",
       "      <td>Demolition for alleged military purposes</td>\n",
       "      <td>Deir al-Balah</td>\n",
       "      <td>1</td>\n",
       "      <td>Deir al-Balah</td>\n",
       "      <td>0</td>\n",
       "      <td>1</td>\n",
       "      <td>10</td>\n",
       "      <td>Residental</td>\n",
       "      <td>2004</td>\n",
       "      <td>10</td>\n",
       "    </tr>\n",
       "    <tr>\n",
       "      <th>4717</th>\n",
       "      <td>gaza-strip</td>\n",
       "      <td>2004-01-01</td>\n",
       "      <td>1</td>\n",
       "      <td>Demolition for alleged military purposes</td>\n",
       "      <td>Deir al-Balah</td>\n",
       "      <td>1</td>\n",
       "      <td>Deir al-Balah</td>\n",
       "      <td>0</td>\n",
       "      <td>1</td>\n",
       "      <td>5</td>\n",
       "      <td>Residental</td>\n",
       "      <td>2004</td>\n",
       "      <td>5</td>\n",
       "    </tr>\n",
       "    <tr>\n",
       "      <th>4708</th>\n",
       "      <td>gaza-strip</td>\n",
       "      <td>2004-01-01</td>\n",
       "      <td>1</td>\n",
       "      <td>Demolition for alleged military purposes</td>\n",
       "      <td>Deir al-Balah</td>\n",
       "      <td>1</td>\n",
       "      <td>Deir al-Balah</td>\n",
       "      <td>0</td>\n",
       "      <td>1</td>\n",
       "      <td>4</td>\n",
       "      <td>Residental</td>\n",
       "      <td>2004</td>\n",
       "      <td>4</td>\n",
       "    </tr>\n",
       "    <tr>\n",
       "      <th>4713</th>\n",
       "      <td>gaza-strip</td>\n",
       "      <td>2004-01-01</td>\n",
       "      <td>1</td>\n",
       "      <td>Demolition for alleged military purposes</td>\n",
       "      <td>Deir al-Balah</td>\n",
       "      <td>1</td>\n",
       "      <td>Deir al-Balah</td>\n",
       "      <td>0</td>\n",
       "      <td>1</td>\n",
       "      <td>2</td>\n",
       "      <td>Residental</td>\n",
       "      <td>2004</td>\n",
       "      <td>2</td>\n",
       "    </tr>\n",
       "  </tbody>\n",
       "</table>\n",
       "<p>4963 rows × 13 columns</p>\n",
       "</div>"
      ],
      "text/plain": [
       "            Area Date of Demolition  Day  \\\n",
       "0      west-bank         2022-04-13   13   \n",
       "1      west-bank         2022-04-13   13   \n",
       "2      west-bank         2022-04-12   12   \n",
       "11     west-bank         2022-03-23   23   \n",
       "18     west-bank         2022-03-23   23   \n",
       "...          ...                ...  ...   \n",
       "4715  gaza-strip         2004-01-01    1   \n",
       "4716  gaza-strip         2004-01-01    1   \n",
       "4717  gaza-strip         2004-01-01    1   \n",
       "4708  gaza-strip         2004-01-01    1   \n",
       "4713  gaza-strip         2004-01-01    1   \n",
       "\n",
       "                                      Demolition Reason              District  \\\n",
       "0     Demolition on the pretext of unlawful construc...  Ramallah and al-Bira   \n",
       "1     Demolition on the pretext of unlawful construc...  Ramallah and al-Bira   \n",
       "2     Demolition on the pretext of unlawful construc...  Ramallah and al-Bira   \n",
       "11    Demolition on the pretext of unlawful construc...               Tulkarm   \n",
       "18    Demolition on the pretext of unlawful construc...               Tulkarm   \n",
       "...                                                 ...                   ...   \n",
       "4715           Demolition for alleged military purposes         Deir al-Balah   \n",
       "4716           Demolition for alleged military purposes         Deir al-Balah   \n",
       "4717           Demolition for alleged military purposes         Deir al-Balah   \n",
       "4708           Demolition for alleged military purposes         Deir al-Balah   \n",
       "4713           Demolition for alleged military purposes         Deir al-Balah   \n",
       "\n",
       "      Housing Units       Locality  Minors left Homeless  Month  \\\n",
       "0                 1    al-Mughayir                     0      4   \n",
       "1                 1    al-Mughayir                     0      4   \n",
       "2                 1     'Ein Samia                     0      4   \n",
       "11                1        Tulkarm                     0      3   \n",
       "18                2        Tulkarm                     0      3   \n",
       "...             ...            ...                   ...    ...   \n",
       "4715              1  Deir al-Balah                     0      1   \n",
       "4716              1  Deir al-Balah                     0      1   \n",
       "4717              1  Deir al-Balah                     0      1   \n",
       "4708              1  Deir al-Balah                     0      1   \n",
       "4713              1  Deir al-Balah                     0      1   \n",
       "\n",
       "      People left Homeless Type Of Sturcture  Year  total_Homeless  \n",
       "0                        0   Non Resedential  2022               0  \n",
       "1                        0   Non Resedential  2022               0  \n",
       "2                        0   Non Resedential  2022               0  \n",
       "11                       0   Non Resedential  2022               0  \n",
       "18                       0   Non Resedential  2022               0  \n",
       "...                    ...               ...   ...             ...  \n",
       "4715                     6        Residental  2004               6  \n",
       "4716                    10        Residental  2004              10  \n",
       "4717                     5        Residental  2004               5  \n",
       "4708                     4        Residental  2004               4  \n",
       "4713                     2        Residental  2004               2  \n",
       "\n",
       "[4963 rows x 13 columns]"
      ]
     },
     "execution_count": 63,
     "metadata": {},
     "output_type": "execute_result"
    }
   ],
   "source": [
    "all_data"
   ]
  },
  {
   "cell_type": "code",
   "execution_count": 64,
   "metadata": {},
   "outputs": [
    {
     "data": {
      "text/plain": [
       "Index(['Area', 'Date of Demolition', 'Day', 'Demolition Reason', 'District',\n",
       "       'Housing Units', 'Locality', 'Minors left Homeless', 'Month',\n",
       "       'People left Homeless', 'Type Of Sturcture', 'Year', 'total_Homeless'],\n",
       "      dtype='object')"
      ]
     },
     "execution_count": 64,
     "metadata": {},
     "output_type": "execute_result"
    }
   ],
   "source": [
    "all_data.columns"
   ]
  },
  {
   "cell_type": "code",
   "execution_count": 65,
   "metadata": {},
   "outputs": [],
   "source": [
    "all_data=all_data.reindex(columns=['Date of Demolition','Year','Month','Day','Housing Units','Minors left Homeless','People left Homeless','total_Homeless','District','Area','Locality','Type Of Sturcture','Demolition Reason'])"
   ]
  },
  {
   "cell_type": "code",
   "execution_count": 66,
   "metadata": {},
   "outputs": [
    {
     "data": {
      "text/html": [
       "<div>\n",
       "<style scoped>\n",
       "    .dataframe tbody tr th:only-of-type {\n",
       "        vertical-align: middle;\n",
       "    }\n",
       "\n",
       "    .dataframe tbody tr th {\n",
       "        vertical-align: top;\n",
       "    }\n",
       "\n",
       "    .dataframe thead th {\n",
       "        text-align: right;\n",
       "    }\n",
       "</style>\n",
       "<table border=\"1\" class=\"dataframe\">\n",
       "  <thead>\n",
       "    <tr style=\"text-align: right;\">\n",
       "      <th></th>\n",
       "      <th>Date of Demolition</th>\n",
       "      <th>Year</th>\n",
       "      <th>Month</th>\n",
       "      <th>Day</th>\n",
       "      <th>Housing Units</th>\n",
       "      <th>Minors left Homeless</th>\n",
       "      <th>People left Homeless</th>\n",
       "      <th>total_Homeless</th>\n",
       "      <th>District</th>\n",
       "      <th>Area</th>\n",
       "      <th>Locality</th>\n",
       "      <th>Type Of Sturcture</th>\n",
       "      <th>Demolition Reason</th>\n",
       "    </tr>\n",
       "  </thead>\n",
       "  <tbody>\n",
       "    <tr>\n",
       "      <th>0</th>\n",
       "      <td>2022-04-13</td>\n",
       "      <td>2022</td>\n",
       "      <td>4</td>\n",
       "      <td>13</td>\n",
       "      <td>1</td>\n",
       "      <td>0</td>\n",
       "      <td>0</td>\n",
       "      <td>0</td>\n",
       "      <td>Ramallah and al-Bira</td>\n",
       "      <td>west-bank</td>\n",
       "      <td>al-Mughayir</td>\n",
       "      <td>Non Resedential</td>\n",
       "      <td>Demolition on the pretext of unlawful construc...</td>\n",
       "    </tr>\n",
       "    <tr>\n",
       "      <th>1</th>\n",
       "      <td>2022-04-13</td>\n",
       "      <td>2022</td>\n",
       "      <td>4</td>\n",
       "      <td>13</td>\n",
       "      <td>1</td>\n",
       "      <td>0</td>\n",
       "      <td>0</td>\n",
       "      <td>0</td>\n",
       "      <td>Ramallah and al-Bira</td>\n",
       "      <td>west-bank</td>\n",
       "      <td>al-Mughayir</td>\n",
       "      <td>Non Resedential</td>\n",
       "      <td>Demolition on the pretext of unlawful construc...</td>\n",
       "    </tr>\n",
       "    <tr>\n",
       "      <th>2</th>\n",
       "      <td>2022-04-12</td>\n",
       "      <td>2022</td>\n",
       "      <td>4</td>\n",
       "      <td>12</td>\n",
       "      <td>1</td>\n",
       "      <td>0</td>\n",
       "      <td>0</td>\n",
       "      <td>0</td>\n",
       "      <td>Ramallah and al-Bira</td>\n",
       "      <td>west-bank</td>\n",
       "      <td>'Ein Samia</td>\n",
       "      <td>Non Resedential</td>\n",
       "      <td>Demolition on the pretext of unlawful construc...</td>\n",
       "    </tr>\n",
       "    <tr>\n",
       "      <th>11</th>\n",
       "      <td>2022-03-23</td>\n",
       "      <td>2022</td>\n",
       "      <td>3</td>\n",
       "      <td>23</td>\n",
       "      <td>1</td>\n",
       "      <td>0</td>\n",
       "      <td>0</td>\n",
       "      <td>0</td>\n",
       "      <td>Tulkarm</td>\n",
       "      <td>west-bank</td>\n",
       "      <td>Tulkarm</td>\n",
       "      <td>Non Resedential</td>\n",
       "      <td>Demolition on the pretext of unlawful construc...</td>\n",
       "    </tr>\n",
       "    <tr>\n",
       "      <th>18</th>\n",
       "      <td>2022-03-23</td>\n",
       "      <td>2022</td>\n",
       "      <td>3</td>\n",
       "      <td>23</td>\n",
       "      <td>2</td>\n",
       "      <td>0</td>\n",
       "      <td>0</td>\n",
       "      <td>0</td>\n",
       "      <td>Tulkarm</td>\n",
       "      <td>west-bank</td>\n",
       "      <td>Tulkarm</td>\n",
       "      <td>Non Resedential</td>\n",
       "      <td>Demolition on the pretext of unlawful construc...</td>\n",
       "    </tr>\n",
       "    <tr>\n",
       "      <th>...</th>\n",
       "      <td>...</td>\n",
       "      <td>...</td>\n",
       "      <td>...</td>\n",
       "      <td>...</td>\n",
       "      <td>...</td>\n",
       "      <td>...</td>\n",
       "      <td>...</td>\n",
       "      <td>...</td>\n",
       "      <td>...</td>\n",
       "      <td>...</td>\n",
       "      <td>...</td>\n",
       "      <td>...</td>\n",
       "      <td>...</td>\n",
       "    </tr>\n",
       "    <tr>\n",
       "      <th>4715</th>\n",
       "      <td>2004-01-01</td>\n",
       "      <td>2004</td>\n",
       "      <td>1</td>\n",
       "      <td>1</td>\n",
       "      <td>1</td>\n",
       "      <td>0</td>\n",
       "      <td>6</td>\n",
       "      <td>6</td>\n",
       "      <td>Deir al-Balah</td>\n",
       "      <td>gaza-strip</td>\n",
       "      <td>Deir al-Balah</td>\n",
       "      <td>Residental</td>\n",
       "      <td>Demolition for alleged military purposes</td>\n",
       "    </tr>\n",
       "    <tr>\n",
       "      <th>4716</th>\n",
       "      <td>2004-01-01</td>\n",
       "      <td>2004</td>\n",
       "      <td>1</td>\n",
       "      <td>1</td>\n",
       "      <td>1</td>\n",
       "      <td>0</td>\n",
       "      <td>10</td>\n",
       "      <td>10</td>\n",
       "      <td>Deir al-Balah</td>\n",
       "      <td>gaza-strip</td>\n",
       "      <td>Deir al-Balah</td>\n",
       "      <td>Residental</td>\n",
       "      <td>Demolition for alleged military purposes</td>\n",
       "    </tr>\n",
       "    <tr>\n",
       "      <th>4717</th>\n",
       "      <td>2004-01-01</td>\n",
       "      <td>2004</td>\n",
       "      <td>1</td>\n",
       "      <td>1</td>\n",
       "      <td>1</td>\n",
       "      <td>0</td>\n",
       "      <td>5</td>\n",
       "      <td>5</td>\n",
       "      <td>Deir al-Balah</td>\n",
       "      <td>gaza-strip</td>\n",
       "      <td>Deir al-Balah</td>\n",
       "      <td>Residental</td>\n",
       "      <td>Demolition for alleged military purposes</td>\n",
       "    </tr>\n",
       "    <tr>\n",
       "      <th>4708</th>\n",
       "      <td>2004-01-01</td>\n",
       "      <td>2004</td>\n",
       "      <td>1</td>\n",
       "      <td>1</td>\n",
       "      <td>1</td>\n",
       "      <td>0</td>\n",
       "      <td>4</td>\n",
       "      <td>4</td>\n",
       "      <td>Deir al-Balah</td>\n",
       "      <td>gaza-strip</td>\n",
       "      <td>Deir al-Balah</td>\n",
       "      <td>Residental</td>\n",
       "      <td>Demolition for alleged military purposes</td>\n",
       "    </tr>\n",
       "    <tr>\n",
       "      <th>4713</th>\n",
       "      <td>2004-01-01</td>\n",
       "      <td>2004</td>\n",
       "      <td>1</td>\n",
       "      <td>1</td>\n",
       "      <td>1</td>\n",
       "      <td>0</td>\n",
       "      <td>2</td>\n",
       "      <td>2</td>\n",
       "      <td>Deir al-Balah</td>\n",
       "      <td>gaza-strip</td>\n",
       "      <td>Deir al-Balah</td>\n",
       "      <td>Residental</td>\n",
       "      <td>Demolition for alleged military purposes</td>\n",
       "    </tr>\n",
       "  </tbody>\n",
       "</table>\n",
       "<p>4963 rows × 13 columns</p>\n",
       "</div>"
      ],
      "text/plain": [
       "     Date of Demolition  Year  Month  Day  Housing Units  \\\n",
       "0            2022-04-13  2022      4   13              1   \n",
       "1            2022-04-13  2022      4   13              1   \n",
       "2            2022-04-12  2022      4   12              1   \n",
       "11           2022-03-23  2022      3   23              1   \n",
       "18           2022-03-23  2022      3   23              2   \n",
       "...                 ...   ...    ...  ...            ...   \n",
       "4715         2004-01-01  2004      1    1              1   \n",
       "4716         2004-01-01  2004      1    1              1   \n",
       "4717         2004-01-01  2004      1    1              1   \n",
       "4708         2004-01-01  2004      1    1              1   \n",
       "4713         2004-01-01  2004      1    1              1   \n",
       "\n",
       "      Minors left Homeless  People left Homeless  total_Homeless  \\\n",
       "0                        0                     0               0   \n",
       "1                        0                     0               0   \n",
       "2                        0                     0               0   \n",
       "11                       0                     0               0   \n",
       "18                       0                     0               0   \n",
       "...                    ...                   ...             ...   \n",
       "4715                     0                     6               6   \n",
       "4716                     0                    10              10   \n",
       "4717                     0                     5               5   \n",
       "4708                     0                     4               4   \n",
       "4713                     0                     2               2   \n",
       "\n",
       "                  District        Area       Locality Type Of Sturcture  \\\n",
       "0     Ramallah and al-Bira   west-bank    al-Mughayir   Non Resedential   \n",
       "1     Ramallah and al-Bira   west-bank    al-Mughayir   Non Resedential   \n",
       "2     Ramallah and al-Bira   west-bank     'Ein Samia   Non Resedential   \n",
       "11                 Tulkarm   west-bank        Tulkarm   Non Resedential   \n",
       "18                 Tulkarm   west-bank        Tulkarm   Non Resedential   \n",
       "...                    ...         ...            ...               ...   \n",
       "4715         Deir al-Balah  gaza-strip  Deir al-Balah        Residental   \n",
       "4716         Deir al-Balah  gaza-strip  Deir al-Balah        Residental   \n",
       "4717         Deir al-Balah  gaza-strip  Deir al-Balah        Residental   \n",
       "4708         Deir al-Balah  gaza-strip  Deir al-Balah        Residental   \n",
       "4713         Deir al-Balah  gaza-strip  Deir al-Balah        Residental   \n",
       "\n",
       "                                      Demolition Reason  \n",
       "0     Demolition on the pretext of unlawful construc...  \n",
       "1     Demolition on the pretext of unlawful construc...  \n",
       "2     Demolition on the pretext of unlawful construc...  \n",
       "11    Demolition on the pretext of unlawful construc...  \n",
       "18    Demolition on the pretext of unlawful construc...  \n",
       "...                                                 ...  \n",
       "4715           Demolition for alleged military purposes  \n",
       "4716           Demolition for alleged military purposes  \n",
       "4717           Demolition for alleged military purposes  \n",
       "4708           Demolition for alleged military purposes  \n",
       "4713           Demolition for alleged military purposes  \n",
       "\n",
       "[4963 rows x 13 columns]"
      ]
     },
     "execution_count": 66,
     "metadata": {},
     "output_type": "execute_result"
    }
   ],
   "source": [
    "all_data"
   ]
  },
  {
   "cell_type": "code",
   "execution_count": 67,
   "metadata": {},
   "outputs": [],
   "source": [
    "all_data.to_csv('D:\\extrnal hard\\ITI\\Data visual\\data_visual_project\\data\\demo_data_fulldate.csv',index=False)"
   ]
  },
  {
   "cell_type": "code",
   "execution_count": 60,
   "metadata": {},
   "outputs": [],
   "source": [
    "all_data=all_data.drop(columns=[\"Date of Demolition\"]).reset_index(drop=True)"
   ]
  },
  {
   "cell_type": "code",
   "execution_count": 61,
   "metadata": {},
   "outputs": [
    {
     "data": {
      "text/html": [
       "<div>\n",
       "<style scoped>\n",
       "    .dataframe tbody tr th:only-of-type {\n",
       "        vertical-align: middle;\n",
       "    }\n",
       "\n",
       "    .dataframe tbody tr th {\n",
       "        vertical-align: top;\n",
       "    }\n",
       "\n",
       "    .dataframe thead th {\n",
       "        text-align: right;\n",
       "    }\n",
       "</style>\n",
       "<table border=\"1\" class=\"dataframe\">\n",
       "  <thead>\n",
       "    <tr style=\"text-align: right;\">\n",
       "      <th></th>\n",
       "      <th>Year</th>\n",
       "      <th>Month</th>\n",
       "      <th>Day</th>\n",
       "      <th>Housing Units</th>\n",
       "      <th>Minors left Homeless</th>\n",
       "      <th>People left Homeless</th>\n",
       "      <th>total_Homeless</th>\n",
       "      <th>District</th>\n",
       "      <th>Area</th>\n",
       "      <th>Locality</th>\n",
       "      <th>Type Of Sturcture</th>\n",
       "      <th>Demolition Reason</th>\n",
       "    </tr>\n",
       "  </thead>\n",
       "  <tbody>\n",
       "    <tr>\n",
       "      <th>0</th>\n",
       "      <td>2022</td>\n",
       "      <td>4</td>\n",
       "      <td>13</td>\n",
       "      <td>1</td>\n",
       "      <td>0</td>\n",
       "      <td>0</td>\n",
       "      <td>0</td>\n",
       "      <td>Ramallah and al-Bira</td>\n",
       "      <td>west-bank</td>\n",
       "      <td>al-Mughayir</td>\n",
       "      <td>Non Resedential</td>\n",
       "      <td>Demolition on the pretext of unlawful construc...</td>\n",
       "    </tr>\n",
       "    <tr>\n",
       "      <th>1</th>\n",
       "      <td>2022</td>\n",
       "      <td>4</td>\n",
       "      <td>13</td>\n",
       "      <td>1</td>\n",
       "      <td>0</td>\n",
       "      <td>0</td>\n",
       "      <td>0</td>\n",
       "      <td>Ramallah and al-Bira</td>\n",
       "      <td>west-bank</td>\n",
       "      <td>al-Mughayir</td>\n",
       "      <td>Non Resedential</td>\n",
       "      <td>Demolition on the pretext of unlawful construc...</td>\n",
       "    </tr>\n",
       "    <tr>\n",
       "      <th>2</th>\n",
       "      <td>2022</td>\n",
       "      <td>4</td>\n",
       "      <td>12</td>\n",
       "      <td>1</td>\n",
       "      <td>0</td>\n",
       "      <td>0</td>\n",
       "      <td>0</td>\n",
       "      <td>Ramallah and al-Bira</td>\n",
       "      <td>west-bank</td>\n",
       "      <td>'Ein Samia</td>\n",
       "      <td>Non Resedential</td>\n",
       "      <td>Demolition on the pretext of unlawful construc...</td>\n",
       "    </tr>\n",
       "    <tr>\n",
       "      <th>3</th>\n",
       "      <td>2022</td>\n",
       "      <td>3</td>\n",
       "      <td>23</td>\n",
       "      <td>1</td>\n",
       "      <td>0</td>\n",
       "      <td>0</td>\n",
       "      <td>0</td>\n",
       "      <td>Tulkarm</td>\n",
       "      <td>west-bank</td>\n",
       "      <td>Tulkarm</td>\n",
       "      <td>Non Resedential</td>\n",
       "      <td>Demolition on the pretext of unlawful construc...</td>\n",
       "    </tr>\n",
       "    <tr>\n",
       "      <th>4</th>\n",
       "      <td>2022</td>\n",
       "      <td>3</td>\n",
       "      <td>23</td>\n",
       "      <td>2</td>\n",
       "      <td>0</td>\n",
       "      <td>0</td>\n",
       "      <td>0</td>\n",
       "      <td>Tulkarm</td>\n",
       "      <td>west-bank</td>\n",
       "      <td>Tulkarm</td>\n",
       "      <td>Non Resedential</td>\n",
       "      <td>Demolition on the pretext of unlawful construc...</td>\n",
       "    </tr>\n",
       "    <tr>\n",
       "      <th>...</th>\n",
       "      <td>...</td>\n",
       "      <td>...</td>\n",
       "      <td>...</td>\n",
       "      <td>...</td>\n",
       "      <td>...</td>\n",
       "      <td>...</td>\n",
       "      <td>...</td>\n",
       "      <td>...</td>\n",
       "      <td>...</td>\n",
       "      <td>...</td>\n",
       "      <td>...</td>\n",
       "      <td>...</td>\n",
       "    </tr>\n",
       "    <tr>\n",
       "      <th>4958</th>\n",
       "      <td>2004</td>\n",
       "      <td>1</td>\n",
       "      <td>1</td>\n",
       "      <td>1</td>\n",
       "      <td>0</td>\n",
       "      <td>6</td>\n",
       "      <td>6</td>\n",
       "      <td>Deir al-Balah</td>\n",
       "      <td>gaza-strip</td>\n",
       "      <td>Deir al-Balah</td>\n",
       "      <td>Residental</td>\n",
       "      <td>Demolition for alleged military purposes</td>\n",
       "    </tr>\n",
       "    <tr>\n",
       "      <th>4959</th>\n",
       "      <td>2004</td>\n",
       "      <td>1</td>\n",
       "      <td>1</td>\n",
       "      <td>1</td>\n",
       "      <td>0</td>\n",
       "      <td>10</td>\n",
       "      <td>10</td>\n",
       "      <td>Deir al-Balah</td>\n",
       "      <td>gaza-strip</td>\n",
       "      <td>Deir al-Balah</td>\n",
       "      <td>Residental</td>\n",
       "      <td>Demolition for alleged military purposes</td>\n",
       "    </tr>\n",
       "    <tr>\n",
       "      <th>4960</th>\n",
       "      <td>2004</td>\n",
       "      <td>1</td>\n",
       "      <td>1</td>\n",
       "      <td>1</td>\n",
       "      <td>0</td>\n",
       "      <td>5</td>\n",
       "      <td>5</td>\n",
       "      <td>Deir al-Balah</td>\n",
       "      <td>gaza-strip</td>\n",
       "      <td>Deir al-Balah</td>\n",
       "      <td>Residental</td>\n",
       "      <td>Demolition for alleged military purposes</td>\n",
       "    </tr>\n",
       "    <tr>\n",
       "      <th>4961</th>\n",
       "      <td>2004</td>\n",
       "      <td>1</td>\n",
       "      <td>1</td>\n",
       "      <td>1</td>\n",
       "      <td>0</td>\n",
       "      <td>4</td>\n",
       "      <td>4</td>\n",
       "      <td>Deir al-Balah</td>\n",
       "      <td>gaza-strip</td>\n",
       "      <td>Deir al-Balah</td>\n",
       "      <td>Residental</td>\n",
       "      <td>Demolition for alleged military purposes</td>\n",
       "    </tr>\n",
       "    <tr>\n",
       "      <th>4962</th>\n",
       "      <td>2004</td>\n",
       "      <td>1</td>\n",
       "      <td>1</td>\n",
       "      <td>1</td>\n",
       "      <td>0</td>\n",
       "      <td>2</td>\n",
       "      <td>2</td>\n",
       "      <td>Deir al-Balah</td>\n",
       "      <td>gaza-strip</td>\n",
       "      <td>Deir al-Balah</td>\n",
       "      <td>Residental</td>\n",
       "      <td>Demolition for alleged military purposes</td>\n",
       "    </tr>\n",
       "  </tbody>\n",
       "</table>\n",
       "<p>4963 rows × 12 columns</p>\n",
       "</div>"
      ],
      "text/plain": [
       "      Year  Month  Day  Housing Units  Minors left Homeless  \\\n",
       "0     2022      4   13              1                     0   \n",
       "1     2022      4   13              1                     0   \n",
       "2     2022      4   12              1                     0   \n",
       "3     2022      3   23              1                     0   \n",
       "4     2022      3   23              2                     0   \n",
       "...    ...    ...  ...            ...                   ...   \n",
       "4958  2004      1    1              1                     0   \n",
       "4959  2004      1    1              1                     0   \n",
       "4960  2004      1    1              1                     0   \n",
       "4961  2004      1    1              1                     0   \n",
       "4962  2004      1    1              1                     0   \n",
       "\n",
       "      People left Homeless  total_Homeless              District        Area  \\\n",
       "0                        0               0  Ramallah and al-Bira   west-bank   \n",
       "1                        0               0  Ramallah and al-Bira   west-bank   \n",
       "2                        0               0  Ramallah and al-Bira   west-bank   \n",
       "3                        0               0               Tulkarm   west-bank   \n",
       "4                        0               0               Tulkarm   west-bank   \n",
       "...                    ...             ...                   ...         ...   \n",
       "4958                     6               6         Deir al-Balah  gaza-strip   \n",
       "4959                    10              10         Deir al-Balah  gaza-strip   \n",
       "4960                     5               5         Deir al-Balah  gaza-strip   \n",
       "4961                     4               4         Deir al-Balah  gaza-strip   \n",
       "4962                     2               2         Deir al-Balah  gaza-strip   \n",
       "\n",
       "           Locality Type Of Sturcture  \\\n",
       "0       al-Mughayir   Non Resedential   \n",
       "1       al-Mughayir   Non Resedential   \n",
       "2        'Ein Samia   Non Resedential   \n",
       "3           Tulkarm   Non Resedential   \n",
       "4           Tulkarm   Non Resedential   \n",
       "...             ...               ...   \n",
       "4958  Deir al-Balah        Residental   \n",
       "4959  Deir al-Balah        Residental   \n",
       "4960  Deir al-Balah        Residental   \n",
       "4961  Deir al-Balah        Residental   \n",
       "4962  Deir al-Balah        Residental   \n",
       "\n",
       "                                      Demolition Reason  \n",
       "0     Demolition on the pretext of unlawful construc...  \n",
       "1     Demolition on the pretext of unlawful construc...  \n",
       "2     Demolition on the pretext of unlawful construc...  \n",
       "3     Demolition on the pretext of unlawful construc...  \n",
       "4     Demolition on the pretext of unlawful construc...  \n",
       "...                                                 ...  \n",
       "4958           Demolition for alleged military purposes  \n",
       "4959           Demolition for alleged military purposes  \n",
       "4960           Demolition for alleged military purposes  \n",
       "4961           Demolition for alleged military purposes  \n",
       "4962           Demolition for alleged military purposes  \n",
       "\n",
       "[4963 rows x 12 columns]"
      ]
     },
     "execution_count": 61,
     "metadata": {},
     "output_type": "execute_result"
    }
   ],
   "source": [
    "all_data"
   ]
  },
  {
   "cell_type": "code",
   "execution_count": 62,
   "metadata": {},
   "outputs": [
    {
     "data": {
      "text/html": [
       "<div>\n",
       "<style scoped>\n",
       "    .dataframe tbody tr th:only-of-type {\n",
       "        vertical-align: middle;\n",
       "    }\n",
       "\n",
       "    .dataframe tbody tr th {\n",
       "        vertical-align: top;\n",
       "    }\n",
       "\n",
       "    .dataframe thead th {\n",
       "        text-align: right;\n",
       "    }\n",
       "</style>\n",
       "<table border=\"1\" class=\"dataframe\">\n",
       "  <thead>\n",
       "    <tr style=\"text-align: right;\">\n",
       "      <th></th>\n",
       "      <th>Year</th>\n",
       "      <th>Month</th>\n",
       "      <th>Day</th>\n",
       "      <th>Housing Units</th>\n",
       "      <th>Minors left Homeless</th>\n",
       "      <th>People left Homeless</th>\n",
       "      <th>total_Homeless</th>\n",
       "      <th>District</th>\n",
       "      <th>Area</th>\n",
       "      <th>Locality</th>\n",
       "      <th>Type Of Sturcture</th>\n",
       "      <th>Demolition Reason</th>\n",
       "    </tr>\n",
       "  </thead>\n",
       "  <tbody>\n",
       "    <tr>\n",
       "      <th>0</th>\n",
       "      <td>2022</td>\n",
       "      <td>4</td>\n",
       "      <td>13</td>\n",
       "      <td>1</td>\n",
       "      <td>0</td>\n",
       "      <td>0</td>\n",
       "      <td>0</td>\n",
       "      <td>Ramallah and al-Bira</td>\n",
       "      <td>west-bank</td>\n",
       "      <td>al-Mughayir</td>\n",
       "      <td>Non Resedential</td>\n",
       "      <td>Demolition on the pretext of unlawful construc...</td>\n",
       "    </tr>\n",
       "    <tr>\n",
       "      <th>1</th>\n",
       "      <td>2022</td>\n",
       "      <td>4</td>\n",
       "      <td>13</td>\n",
       "      <td>1</td>\n",
       "      <td>0</td>\n",
       "      <td>0</td>\n",
       "      <td>0</td>\n",
       "      <td>Ramallah and al-Bira</td>\n",
       "      <td>west-bank</td>\n",
       "      <td>al-Mughayir</td>\n",
       "      <td>Non Resedential</td>\n",
       "      <td>Demolition on the pretext of unlawful construc...</td>\n",
       "    </tr>\n",
       "  </tbody>\n",
       "</table>\n",
       "</div>"
      ],
      "text/plain": [
       "   Year  Month  Day  Housing Units  Minors left Homeless  \\\n",
       "0  2022      4   13              1                     0   \n",
       "1  2022      4   13              1                     0   \n",
       "\n",
       "   People left Homeless  total_Homeless              District       Area  \\\n",
       "0                     0               0  Ramallah and al-Bira  west-bank   \n",
       "1                     0               0  Ramallah and al-Bira  west-bank   \n",
       "\n",
       "      Locality Type Of Sturcture  \\\n",
       "0  al-Mughayir   Non Resedential   \n",
       "1  al-Mughayir   Non Resedential   \n",
       "\n",
       "                                   Demolition Reason  \n",
       "0  Demolition on the pretext of unlawful construc...  \n",
       "1  Demolition on the pretext of unlawful construc...  "
      ]
     },
     "execution_count": 62,
     "metadata": {},
     "output_type": "execute_result"
    }
   ],
   "source": [
    "all_data[  (all_data.Year==2022) & (all_data.Month==4) & (all_data.Area=='west-bank') & (all_data.Day==13) ]"
   ]
  },
  {
   "cell_type": "code",
   "execution_count": 63,
   "metadata": {},
   "outputs": [],
   "source": [
    "year_moth_data=all_data.groupby([\"Year\",\"Month\"],as_index=False).sum().drop(columns=['Day'])"
   ]
  },
  {
   "cell_type": "code",
   "execution_count": 64,
   "metadata": {},
   "outputs": [
    {
     "data": {
      "text/html": [
       "<div>\n",
       "<style scoped>\n",
       "    .dataframe tbody tr th:only-of-type {\n",
       "        vertical-align: middle;\n",
       "    }\n",
       "\n",
       "    .dataframe tbody tr th {\n",
       "        vertical-align: top;\n",
       "    }\n",
       "\n",
       "    .dataframe thead th {\n",
       "        text-align: right;\n",
       "    }\n",
       "</style>\n",
       "<table border=\"1\" class=\"dataframe\">\n",
       "  <thead>\n",
       "    <tr style=\"text-align: right;\">\n",
       "      <th></th>\n",
       "      <th>Year</th>\n",
       "      <th>Month</th>\n",
       "      <th>Housing Units</th>\n",
       "      <th>Minors left Homeless</th>\n",
       "      <th>People left Homeless</th>\n",
       "      <th>total_Homeless</th>\n",
       "    </tr>\n",
       "  </thead>\n",
       "  <tbody>\n",
       "    <tr>\n",
       "      <th>193</th>\n",
       "      <td>2022</td>\n",
       "      <td>3</td>\n",
       "      <td>39</td>\n",
       "      <td>17</td>\n",
       "      <td>41</td>\n",
       "      <td>58</td>\n",
       "    </tr>\n",
       "  </tbody>\n",
       "</table>\n",
       "</div>"
      ],
      "text/plain": [
       "     Year  Month  Housing Units  Minors left Homeless  People left Homeless  \\\n",
       "193  2022      3             39                    17                    41   \n",
       "\n",
       "     total_Homeless  \n",
       "193              58  "
      ]
     },
     "execution_count": 64,
     "metadata": {},
     "output_type": "execute_result"
    }
   ],
   "source": [
    "year_moth_data[  (year_moth_data.Year==2022) & (year_moth_data.Month==3) ]"
   ]
  },
  {
   "cell_type": "code",
   "execution_count": 65,
   "metadata": {},
   "outputs": [
    {
     "data": {
      "text/html": [
       "<div>\n",
       "<style scoped>\n",
       "    .dataframe tbody tr th:only-of-type {\n",
       "        vertical-align: middle;\n",
       "    }\n",
       "\n",
       "    .dataframe tbody tr th {\n",
       "        vertical-align: top;\n",
       "    }\n",
       "\n",
       "    .dataframe thead th {\n",
       "        text-align: right;\n",
       "    }\n",
       "</style>\n",
       "<table border=\"1\" class=\"dataframe\">\n",
       "  <thead>\n",
       "    <tr style=\"text-align: right;\">\n",
       "      <th></th>\n",
       "      <th>Year</th>\n",
       "      <th>Housing Units</th>\n",
       "      <th>Minors left Homeless</th>\n",
       "      <th>People left Homeless</th>\n",
       "      <th>total_Homeless</th>\n",
       "    </tr>\n",
       "  </thead>\n",
       "  <tbody>\n",
       "    <tr>\n",
       "      <th>0</th>\n",
       "      <td>2004</td>\n",
       "      <td>1581</td>\n",
       "      <td>0</td>\n",
       "      <td>11613</td>\n",
       "      <td>11613</td>\n",
       "    </tr>\n",
       "    <tr>\n",
       "      <th>1</th>\n",
       "      <td>2005</td>\n",
       "      <td>17</td>\n",
       "      <td>0</td>\n",
       "      <td>74</td>\n",
       "      <td>74</td>\n",
       "    </tr>\n",
       "    <tr>\n",
       "      <th>2</th>\n",
       "      <td>2006</td>\n",
       "      <td>404</td>\n",
       "      <td>78</td>\n",
       "      <td>2375</td>\n",
       "      <td>2453</td>\n",
       "    </tr>\n",
       "    <tr>\n",
       "      <th>3</th>\n",
       "      <td>2007</td>\n",
       "      <td>90</td>\n",
       "      <td>191</td>\n",
       "      <td>449</td>\n",
       "      <td>640</td>\n",
       "    </tr>\n",
       "    <tr>\n",
       "      <th>4</th>\n",
       "      <td>2008</td>\n",
       "      <td>84</td>\n",
       "      <td>234</td>\n",
       "      <td>432</td>\n",
       "      <td>666</td>\n",
       "    </tr>\n",
       "    <tr>\n",
       "      <th>5</th>\n",
       "      <td>2009</td>\n",
       "      <td>31</td>\n",
       "      <td>62</td>\n",
       "      <td>246</td>\n",
       "      <td>308</td>\n",
       "    </tr>\n",
       "    <tr>\n",
       "      <th>6</th>\n",
       "      <td>2010</td>\n",
       "      <td>98</td>\n",
       "      <td>211</td>\n",
       "      <td>431</td>\n",
       "      <td>642</td>\n",
       "    </tr>\n",
       "    <tr>\n",
       "      <th>7</th>\n",
       "      <td>2011</td>\n",
       "      <td>159</td>\n",
       "      <td>407</td>\n",
       "      <td>865</td>\n",
       "      <td>1272</td>\n",
       "    </tr>\n",
       "    <tr>\n",
       "      <th>8</th>\n",
       "      <td>2012</td>\n",
       "      <td>272</td>\n",
       "      <td>274</td>\n",
       "      <td>526</td>\n",
       "      <td>800</td>\n",
       "    </tr>\n",
       "    <tr>\n",
       "      <th>9</th>\n",
       "      <td>2013</td>\n",
       "      <td>419</td>\n",
       "      <td>272</td>\n",
       "      <td>532</td>\n",
       "      <td>804</td>\n",
       "    </tr>\n",
       "    <tr>\n",
       "      <th>10</th>\n",
       "      <td>2014</td>\n",
       "      <td>349</td>\n",
       "      <td>411</td>\n",
       "      <td>758</td>\n",
       "      <td>1169</td>\n",
       "    </tr>\n",
       "    <tr>\n",
       "      <th>11</th>\n",
       "      <td>2015</td>\n",
       "      <td>344</td>\n",
       "      <td>316</td>\n",
       "      <td>560</td>\n",
       "      <td>876</td>\n",
       "    </tr>\n",
       "    <tr>\n",
       "      <th>12</th>\n",
       "      <td>2016</td>\n",
       "      <td>678</td>\n",
       "      <td>656</td>\n",
       "      <td>1318</td>\n",
       "      <td>1974</td>\n",
       "    </tr>\n",
       "    <tr>\n",
       "      <th>13</th>\n",
       "      <td>2017</td>\n",
       "      <td>216</td>\n",
       "      <td>222</td>\n",
       "      <td>402</td>\n",
       "      <td>624</td>\n",
       "    </tr>\n",
       "    <tr>\n",
       "      <th>14</th>\n",
       "      <td>2018</td>\n",
       "      <td>210</td>\n",
       "      <td>133</td>\n",
       "      <td>288</td>\n",
       "      <td>421</td>\n",
       "    </tr>\n",
       "    <tr>\n",
       "      <th>15</th>\n",
       "      <td>2019</td>\n",
       "      <td>275</td>\n",
       "      <td>175</td>\n",
       "      <td>385</td>\n",
       "      <td>560</td>\n",
       "    </tr>\n",
       "    <tr>\n",
       "      <th>16</th>\n",
       "      <td>2020</td>\n",
       "      <td>572</td>\n",
       "      <td>318</td>\n",
       "      <td>632</td>\n",
       "      <td>950</td>\n",
       "    </tr>\n",
       "    <tr>\n",
       "      <th>17</th>\n",
       "      <td>2021</td>\n",
       "      <td>687</td>\n",
       "      <td>322</td>\n",
       "      <td>606</td>\n",
       "      <td>928</td>\n",
       "    </tr>\n",
       "    <tr>\n",
       "      <th>18</th>\n",
       "      <td>2022</td>\n",
       "      <td>166</td>\n",
       "      <td>52</td>\n",
       "      <td>116</td>\n",
       "      <td>168</td>\n",
       "    </tr>\n",
       "  </tbody>\n",
       "</table>\n",
       "</div>"
      ],
      "text/plain": [
       "    Year  Housing Units  Minors left Homeless  People left Homeless  \\\n",
       "0   2004           1581                     0                 11613   \n",
       "1   2005             17                     0                    74   \n",
       "2   2006            404                    78                  2375   \n",
       "3   2007             90                   191                   449   \n",
       "4   2008             84                   234                   432   \n",
       "5   2009             31                    62                   246   \n",
       "6   2010             98                   211                   431   \n",
       "7   2011            159                   407                   865   \n",
       "8   2012            272                   274                   526   \n",
       "9   2013            419                   272                   532   \n",
       "10  2014            349                   411                   758   \n",
       "11  2015            344                   316                   560   \n",
       "12  2016            678                   656                  1318   \n",
       "13  2017            216                   222                   402   \n",
       "14  2018            210                   133                   288   \n",
       "15  2019            275                   175                   385   \n",
       "16  2020            572                   318                   632   \n",
       "17  2021            687                   322                   606   \n",
       "18  2022            166                    52                   116   \n",
       "\n",
       "    total_Homeless  \n",
       "0            11613  \n",
       "1               74  \n",
       "2             2453  \n",
       "3              640  \n",
       "4              666  \n",
       "5              308  \n",
       "6              642  \n",
       "7             1272  \n",
       "8              800  \n",
       "9              804  \n",
       "10            1169  \n",
       "11             876  \n",
       "12            1974  \n",
       "13             624  \n",
       "14             421  \n",
       "15             560  \n",
       "16             950  \n",
       "17             928  \n",
       "18             168  "
      ]
     },
     "execution_count": 65,
     "metadata": {},
     "output_type": "execute_result"
    }
   ],
   "source": [
    "year_data=all_data.groupby([\"Year\"],as_index=False).sum().drop(columns=['Month','Day'])\n",
    "year_data"
   ]
  },
  {
   "cell_type": "code",
   "execution_count": 66,
   "metadata": {},
   "outputs": [
    {
     "data": {
      "text/plain": [
       "total_Homeless    26942\n",
       "dtype: int64"
      ]
     },
     "execution_count": 66,
     "metadata": {},
     "output_type": "execute_result"
    }
   ],
   "source": [
    "year_data[['total_Homeless']].sum()"
   ]
  },
  {
   "cell_type": "code",
   "execution_count": 67,
   "metadata": {},
   "outputs": [
    {
     "data": {
      "text/plain": [
       "Housing Units    6652\n",
       "dtype: int64"
      ]
     },
     "execution_count": 67,
     "metadata": {},
     "output_type": "execute_result"
    }
   ],
   "source": [
    "year_data[['Housing Units']].sum()"
   ]
  },
  {
   "cell_type": "code",
   "execution_count": 68,
   "metadata": {},
   "outputs": [
    {
     "data": {
      "text/html": [
       "<div>\n",
       "<style scoped>\n",
       "    .dataframe tbody tr th:only-of-type {\n",
       "        vertical-align: middle;\n",
       "    }\n",
       "\n",
       "    .dataframe tbody tr th {\n",
       "        vertical-align: top;\n",
       "    }\n",
       "\n",
       "    .dataframe thead th {\n",
       "        text-align: right;\n",
       "    }\n",
       "</style>\n",
       "<table border=\"1\" class=\"dataframe\">\n",
       "  <thead>\n",
       "    <tr style=\"text-align: right;\">\n",
       "      <th></th>\n",
       "      <th>Area</th>\n",
       "      <th>Housing Units</th>\n",
       "      <th>Minors left Homeless</th>\n",
       "      <th>People left Homeless</th>\n",
       "      <th>total_Homeless</th>\n",
       "    </tr>\n",
       "  </thead>\n",
       "  <tbody>\n",
       "    <tr>\n",
       "      <th>0</th>\n",
       "      <td>east-jerusalem</td>\n",
       "      <td>14</td>\n",
       "      <td>21</td>\n",
       "      <td>75</td>\n",
       "      <td>96</td>\n",
       "    </tr>\n",
       "    <tr>\n",
       "      <th>1</th>\n",
       "      <td>gaza-strip</td>\n",
       "      <td>1782</td>\n",
       "      <td>98</td>\n",
       "      <td>13000</td>\n",
       "      <td>13098</td>\n",
       "    </tr>\n",
       "    <tr>\n",
       "      <th>2</th>\n",
       "      <td>west-bank</td>\n",
       "      <td>4856</td>\n",
       "      <td>4215</td>\n",
       "      <td>9533</td>\n",
       "      <td>13748</td>\n",
       "    </tr>\n",
       "  </tbody>\n",
       "</table>\n",
       "</div>"
      ],
      "text/plain": [
       "             Area  Housing Units  Minors left Homeless  People left Homeless  \\\n",
       "0  east-jerusalem             14                    21                    75   \n",
       "1      gaza-strip           1782                    98                 13000   \n",
       "2       west-bank           4856                  4215                  9533   \n",
       "\n",
       "   total_Homeless  \n",
       "0              96  \n",
       "1           13098  \n",
       "2           13748  "
      ]
     },
     "execution_count": 68,
     "metadata": {},
     "output_type": "execute_result"
    }
   ],
   "source": [
    "all_data.groupby([\"Area\"],as_index=False).sum().drop(columns=['Year','Month','Day'])"
   ]
  },
  {
   "cell_type": "markdown",
   "metadata": {},
   "source": [
    "### `test`"
   ]
  },
  {
   "cell_type": "code",
   "execution_count": 69,
   "metadata": {},
   "outputs": [],
   "source": [
    "import plotly.express as px\n"
   ]
  },
  {
   "cell_type": "code",
   "execution_count": 70,
   "metadata": {},
   "outputs": [
    {
     "data": {
      "application/vnd.plotly.v1+json": {
       "config": {
        "plotlyServerURL": "https://plot.ly"
       },
       "data": [
        {
         "customdata": [
          [
           14
          ],
          [
           1782
          ],
          [
           4856
          ]
         ],
         "domain": {
          "x": [
           0,
           1
          ],
          "y": [
           0,
           1
          ]
         },
         "hole": 0.3,
         "hovertemplate": "Area=%{label}<br>total_Homeless=%{value}<br>Housing Units=%{customdata[0]}<extra></extra>",
         "labels": [
          "east-jerusalem",
          "gaza-strip",
          "west-bank"
         ],
         "legendgroup": "",
         "name": "",
         "showlegend": true,
         "type": "pie",
         "values": [
          96,
          13098,
          13748
         ]
        }
       ],
       "layout": {
        "legend": {
         "tracegroupgap": 0
        },
        "margin": {
         "t": 60
        },
        "template": {
         "data": {
          "bar": [
           {
            "error_x": {
             "color": "#2a3f5f"
            },
            "error_y": {
             "color": "#2a3f5f"
            },
            "marker": {
             "line": {
              "color": "#E5ECF6",
              "width": 0.5
             },
             "pattern": {
              "fillmode": "overlay",
              "size": 10,
              "solidity": 0.2
             }
            },
            "type": "bar"
           }
          ],
          "barpolar": [
           {
            "marker": {
             "line": {
              "color": "#E5ECF6",
              "width": 0.5
             },
             "pattern": {
              "fillmode": "overlay",
              "size": 10,
              "solidity": 0.2
             }
            },
            "type": "barpolar"
           }
          ],
          "carpet": [
           {
            "aaxis": {
             "endlinecolor": "#2a3f5f",
             "gridcolor": "white",
             "linecolor": "white",
             "minorgridcolor": "white",
             "startlinecolor": "#2a3f5f"
            },
            "baxis": {
             "endlinecolor": "#2a3f5f",
             "gridcolor": "white",
             "linecolor": "white",
             "minorgridcolor": "white",
             "startlinecolor": "#2a3f5f"
            },
            "type": "carpet"
           }
          ],
          "choropleth": [
           {
            "colorbar": {
             "outlinewidth": 0,
             "ticks": ""
            },
            "type": "choropleth"
           }
          ],
          "contour": [
           {
            "colorbar": {
             "outlinewidth": 0,
             "ticks": ""
            },
            "colorscale": [
             [
              0,
              "#0d0887"
             ],
             [
              0.1111111111111111,
              "#46039f"
             ],
             [
              0.2222222222222222,
              "#7201a8"
             ],
             [
              0.3333333333333333,
              "#9c179e"
             ],
             [
              0.4444444444444444,
              "#bd3786"
             ],
             [
              0.5555555555555556,
              "#d8576b"
             ],
             [
              0.6666666666666666,
              "#ed7953"
             ],
             [
              0.7777777777777778,
              "#fb9f3a"
             ],
             [
              0.8888888888888888,
              "#fdca26"
             ],
             [
              1,
              "#f0f921"
             ]
            ],
            "type": "contour"
           }
          ],
          "contourcarpet": [
           {
            "colorbar": {
             "outlinewidth": 0,
             "ticks": ""
            },
            "type": "contourcarpet"
           }
          ],
          "heatmap": [
           {
            "colorbar": {
             "outlinewidth": 0,
             "ticks": ""
            },
            "colorscale": [
             [
              0,
              "#0d0887"
             ],
             [
              0.1111111111111111,
              "#46039f"
             ],
             [
              0.2222222222222222,
              "#7201a8"
             ],
             [
              0.3333333333333333,
              "#9c179e"
             ],
             [
              0.4444444444444444,
              "#bd3786"
             ],
             [
              0.5555555555555556,
              "#d8576b"
             ],
             [
              0.6666666666666666,
              "#ed7953"
             ],
             [
              0.7777777777777778,
              "#fb9f3a"
             ],
             [
              0.8888888888888888,
              "#fdca26"
             ],
             [
              1,
              "#f0f921"
             ]
            ],
            "type": "heatmap"
           }
          ],
          "heatmapgl": [
           {
            "colorbar": {
             "outlinewidth": 0,
             "ticks": ""
            },
            "colorscale": [
             [
              0,
              "#0d0887"
             ],
             [
              0.1111111111111111,
              "#46039f"
             ],
             [
              0.2222222222222222,
              "#7201a8"
             ],
             [
              0.3333333333333333,
              "#9c179e"
             ],
             [
              0.4444444444444444,
              "#bd3786"
             ],
             [
              0.5555555555555556,
              "#d8576b"
             ],
             [
              0.6666666666666666,
              "#ed7953"
             ],
             [
              0.7777777777777778,
              "#fb9f3a"
             ],
             [
              0.8888888888888888,
              "#fdca26"
             ],
             [
              1,
              "#f0f921"
             ]
            ],
            "type": "heatmapgl"
           }
          ],
          "histogram": [
           {
            "marker": {
             "pattern": {
              "fillmode": "overlay",
              "size": 10,
              "solidity": 0.2
             }
            },
            "type": "histogram"
           }
          ],
          "histogram2d": [
           {
            "colorbar": {
             "outlinewidth": 0,
             "ticks": ""
            },
            "colorscale": [
             [
              0,
              "#0d0887"
             ],
             [
              0.1111111111111111,
              "#46039f"
             ],
             [
              0.2222222222222222,
              "#7201a8"
             ],
             [
              0.3333333333333333,
              "#9c179e"
             ],
             [
              0.4444444444444444,
              "#bd3786"
             ],
             [
              0.5555555555555556,
              "#d8576b"
             ],
             [
              0.6666666666666666,
              "#ed7953"
             ],
             [
              0.7777777777777778,
              "#fb9f3a"
             ],
             [
              0.8888888888888888,
              "#fdca26"
             ],
             [
              1,
              "#f0f921"
             ]
            ],
            "type": "histogram2d"
           }
          ],
          "histogram2dcontour": [
           {
            "colorbar": {
             "outlinewidth": 0,
             "ticks": ""
            },
            "colorscale": [
             [
              0,
              "#0d0887"
             ],
             [
              0.1111111111111111,
              "#46039f"
             ],
             [
              0.2222222222222222,
              "#7201a8"
             ],
             [
              0.3333333333333333,
              "#9c179e"
             ],
             [
              0.4444444444444444,
              "#bd3786"
             ],
             [
              0.5555555555555556,
              "#d8576b"
             ],
             [
              0.6666666666666666,
              "#ed7953"
             ],
             [
              0.7777777777777778,
              "#fb9f3a"
             ],
             [
              0.8888888888888888,
              "#fdca26"
             ],
             [
              1,
              "#f0f921"
             ]
            ],
            "type": "histogram2dcontour"
           }
          ],
          "mesh3d": [
           {
            "colorbar": {
             "outlinewidth": 0,
             "ticks": ""
            },
            "type": "mesh3d"
           }
          ],
          "parcoords": [
           {
            "line": {
             "colorbar": {
              "outlinewidth": 0,
              "ticks": ""
             }
            },
            "type": "parcoords"
           }
          ],
          "pie": [
           {
            "automargin": true,
            "type": "pie"
           }
          ],
          "scatter": [
           {
            "fillpattern": {
             "fillmode": "overlay",
             "size": 10,
             "solidity": 0.2
            },
            "type": "scatter"
           }
          ],
          "scatter3d": [
           {
            "line": {
             "colorbar": {
              "outlinewidth": 0,
              "ticks": ""
             }
            },
            "marker": {
             "colorbar": {
              "outlinewidth": 0,
              "ticks": ""
             }
            },
            "type": "scatter3d"
           }
          ],
          "scattercarpet": [
           {
            "marker": {
             "colorbar": {
              "outlinewidth": 0,
              "ticks": ""
             }
            },
            "type": "scattercarpet"
           }
          ],
          "scattergeo": [
           {
            "marker": {
             "colorbar": {
              "outlinewidth": 0,
              "ticks": ""
             }
            },
            "type": "scattergeo"
           }
          ],
          "scattergl": [
           {
            "marker": {
             "colorbar": {
              "outlinewidth": 0,
              "ticks": ""
             }
            },
            "type": "scattergl"
           }
          ],
          "scattermapbox": [
           {
            "marker": {
             "colorbar": {
              "outlinewidth": 0,
              "ticks": ""
             }
            },
            "type": "scattermapbox"
           }
          ],
          "scatterpolar": [
           {
            "marker": {
             "colorbar": {
              "outlinewidth": 0,
              "ticks": ""
             }
            },
            "type": "scatterpolar"
           }
          ],
          "scatterpolargl": [
           {
            "marker": {
             "colorbar": {
              "outlinewidth": 0,
              "ticks": ""
             }
            },
            "type": "scatterpolargl"
           }
          ],
          "scatterternary": [
           {
            "marker": {
             "colorbar": {
              "outlinewidth": 0,
              "ticks": ""
             }
            },
            "type": "scatterternary"
           }
          ],
          "surface": [
           {
            "colorbar": {
             "outlinewidth": 0,
             "ticks": ""
            },
            "colorscale": [
             [
              0,
              "#0d0887"
             ],
             [
              0.1111111111111111,
              "#46039f"
             ],
             [
              0.2222222222222222,
              "#7201a8"
             ],
             [
              0.3333333333333333,
              "#9c179e"
             ],
             [
              0.4444444444444444,
              "#bd3786"
             ],
             [
              0.5555555555555556,
              "#d8576b"
             ],
             [
              0.6666666666666666,
              "#ed7953"
             ],
             [
              0.7777777777777778,
              "#fb9f3a"
             ],
             [
              0.8888888888888888,
              "#fdca26"
             ],
             [
              1,
              "#f0f921"
             ]
            ],
            "type": "surface"
           }
          ],
          "table": [
           {
            "cells": {
             "fill": {
              "color": "#EBF0F8"
             },
             "line": {
              "color": "white"
             }
            },
            "header": {
             "fill": {
              "color": "#C8D4E3"
             },
             "line": {
              "color": "white"
             }
            },
            "type": "table"
           }
          ]
         },
         "layout": {
          "annotationdefaults": {
           "arrowcolor": "#2a3f5f",
           "arrowhead": 0,
           "arrowwidth": 1
          },
          "autotypenumbers": "strict",
          "coloraxis": {
           "colorbar": {
            "outlinewidth": 0,
            "ticks": ""
           }
          },
          "colorscale": {
           "diverging": [
            [
             0,
             "#8e0152"
            ],
            [
             0.1,
             "#c51b7d"
            ],
            [
             0.2,
             "#de77ae"
            ],
            [
             0.3,
             "#f1b6da"
            ],
            [
             0.4,
             "#fde0ef"
            ],
            [
             0.5,
             "#f7f7f7"
            ],
            [
             0.6,
             "#e6f5d0"
            ],
            [
             0.7,
             "#b8e186"
            ],
            [
             0.8,
             "#7fbc41"
            ],
            [
             0.9,
             "#4d9221"
            ],
            [
             1,
             "#276419"
            ]
           ],
           "sequential": [
            [
             0,
             "#0d0887"
            ],
            [
             0.1111111111111111,
             "#46039f"
            ],
            [
             0.2222222222222222,
             "#7201a8"
            ],
            [
             0.3333333333333333,
             "#9c179e"
            ],
            [
             0.4444444444444444,
             "#bd3786"
            ],
            [
             0.5555555555555556,
             "#d8576b"
            ],
            [
             0.6666666666666666,
             "#ed7953"
            ],
            [
             0.7777777777777778,
             "#fb9f3a"
            ],
            [
             0.8888888888888888,
             "#fdca26"
            ],
            [
             1,
             "#f0f921"
            ]
           ],
           "sequentialminus": [
            [
             0,
             "#0d0887"
            ],
            [
             0.1111111111111111,
             "#46039f"
            ],
            [
             0.2222222222222222,
             "#7201a8"
            ],
            [
             0.3333333333333333,
             "#9c179e"
            ],
            [
             0.4444444444444444,
             "#bd3786"
            ],
            [
             0.5555555555555556,
             "#d8576b"
            ],
            [
             0.6666666666666666,
             "#ed7953"
            ],
            [
             0.7777777777777778,
             "#fb9f3a"
            ],
            [
             0.8888888888888888,
             "#fdca26"
            ],
            [
             1,
             "#f0f921"
            ]
           ]
          },
          "colorway": [
           "#636efa",
           "#EF553B",
           "#00cc96",
           "#ab63fa",
           "#FFA15A",
           "#19d3f3",
           "#FF6692",
           "#B6E880",
           "#FF97FF",
           "#FECB52"
          ],
          "font": {
           "color": "#2a3f5f"
          },
          "geo": {
           "bgcolor": "white",
           "lakecolor": "white",
           "landcolor": "#E5ECF6",
           "showlakes": true,
           "showland": true,
           "subunitcolor": "white"
          },
          "hoverlabel": {
           "align": "left"
          },
          "hovermode": "closest",
          "mapbox": {
           "style": "light"
          },
          "paper_bgcolor": "white",
          "plot_bgcolor": "#E5ECF6",
          "polar": {
           "angularaxis": {
            "gridcolor": "white",
            "linecolor": "white",
            "ticks": ""
           },
           "bgcolor": "#E5ECF6",
           "radialaxis": {
            "gridcolor": "white",
            "linecolor": "white",
            "ticks": ""
           }
          },
          "scene": {
           "xaxis": {
            "backgroundcolor": "#E5ECF6",
            "gridcolor": "white",
            "gridwidth": 2,
            "linecolor": "white",
            "showbackground": true,
            "ticks": "",
            "zerolinecolor": "white"
           },
           "yaxis": {
            "backgroundcolor": "#E5ECF6",
            "gridcolor": "white",
            "gridwidth": 2,
            "linecolor": "white",
            "showbackground": true,
            "ticks": "",
            "zerolinecolor": "white"
           },
           "zaxis": {
            "backgroundcolor": "#E5ECF6",
            "gridcolor": "white",
            "gridwidth": 2,
            "linecolor": "white",
            "showbackground": true,
            "ticks": "",
            "zerolinecolor": "white"
           }
          },
          "shapedefaults": {
           "line": {
            "color": "#2a3f5f"
           }
          },
          "ternary": {
           "aaxis": {
            "gridcolor": "white",
            "linecolor": "white",
            "ticks": ""
           },
           "baxis": {
            "gridcolor": "white",
            "linecolor": "white",
            "ticks": ""
           },
           "bgcolor": "#E5ECF6",
           "caxis": {
            "gridcolor": "white",
            "linecolor": "white",
            "ticks": ""
           }
          },
          "title": {
           "x": 0.05
          },
          "xaxis": {
           "automargin": true,
           "gridcolor": "white",
           "linecolor": "white",
           "ticks": "",
           "title": {
            "standoff": 15
           },
           "zerolinecolor": "white",
           "zerolinewidth": 2
          },
          "yaxis": {
           "automargin": true,
           "gridcolor": "white",
           "linecolor": "white",
           "ticks": "",
           "title": {
            "standoff": 15
           },
           "zerolinecolor": "white",
           "zerolinewidth": 2
          }
         }
        }
       }
      }
     },
     "metadata": {},
     "output_type": "display_data"
    }
   ],
   "source": [
    "px.pie(all_data.groupby([\"Area\"],as_index=False).sum().drop(columns=['Year','Month','Day']),values='total_Homeless',names='Area',hole=.3,hover_data=['Housing Units'])"
   ]
  },
  {
   "cell_type": "code",
   "execution_count": 71,
   "metadata": {},
   "outputs": [
    {
     "data": {
      "application/vnd.plotly.v1+json": {
       "config": {
        "plotlyServerURL": "https://plot.ly"
       },
       "data": [
        {
         "customdata": [
          [
           11613,
           11613,
           0
          ],
          [
           74,
           74,
           0
          ],
          [
           2453,
           2375,
           78
          ],
          [
           640,
           449,
           191
          ],
          [
           666,
           432,
           234
          ],
          [
           308,
           246,
           62
          ],
          [
           642,
           431,
           211
          ],
          [
           1272,
           865,
           407
          ],
          [
           800,
           526,
           274
          ],
          [
           804,
           532,
           272
          ],
          [
           1169,
           758,
           411
          ],
          [
           876,
           560,
           316
          ],
          [
           1974,
           1318,
           656
          ],
          [
           624,
           402,
           222
          ],
          [
           421,
           288,
           133
          ],
          [
           560,
           385,
           175
          ],
          [
           950,
           632,
           318
          ],
          [
           928,
           606,
           322
          ],
          [
           168,
           116,
           52
          ]
         ],
         "hovertemplate": "Year=%{x}<br>Housing Units=%{y}<br>total_Homeless=%{customdata[0]}<br>People left Homeless=%{customdata[1]}<br>Minors left Homeless=%{customdata[2]}<extra></extra>",
         "legendgroup": "",
         "line": {
          "color": "#636efa",
          "dash": "solid"
         },
         "marker": {
          "symbol": "circle"
         },
         "mode": "lines",
         "name": "",
         "orientation": "v",
         "showlegend": false,
         "type": "scatter",
         "x": [
          2004,
          2005,
          2006,
          2007,
          2008,
          2009,
          2010,
          2011,
          2012,
          2013,
          2014,
          2015,
          2016,
          2017,
          2018,
          2019,
          2020,
          2021,
          2022
         ],
         "xaxis": "x",
         "y": [
          1581,
          17,
          404,
          90,
          84,
          31,
          98,
          159,
          272,
          419,
          349,
          344,
          678,
          216,
          210,
          275,
          572,
          687,
          166
         ],
         "yaxis": "y"
        }
       ],
       "layout": {
        "legend": {
         "tracegroupgap": 0
        },
        "margin": {
         "t": 60
        },
        "template": {
         "data": {
          "bar": [
           {
            "error_x": {
             "color": "#2a3f5f"
            },
            "error_y": {
             "color": "#2a3f5f"
            },
            "marker": {
             "line": {
              "color": "#E5ECF6",
              "width": 0.5
             },
             "pattern": {
              "fillmode": "overlay",
              "size": 10,
              "solidity": 0.2
             }
            },
            "type": "bar"
           }
          ],
          "barpolar": [
           {
            "marker": {
             "line": {
              "color": "#E5ECF6",
              "width": 0.5
             },
             "pattern": {
              "fillmode": "overlay",
              "size": 10,
              "solidity": 0.2
             }
            },
            "type": "barpolar"
           }
          ],
          "carpet": [
           {
            "aaxis": {
             "endlinecolor": "#2a3f5f",
             "gridcolor": "white",
             "linecolor": "white",
             "minorgridcolor": "white",
             "startlinecolor": "#2a3f5f"
            },
            "baxis": {
             "endlinecolor": "#2a3f5f",
             "gridcolor": "white",
             "linecolor": "white",
             "minorgridcolor": "white",
             "startlinecolor": "#2a3f5f"
            },
            "type": "carpet"
           }
          ],
          "choropleth": [
           {
            "colorbar": {
             "outlinewidth": 0,
             "ticks": ""
            },
            "type": "choropleth"
           }
          ],
          "contour": [
           {
            "colorbar": {
             "outlinewidth": 0,
             "ticks": ""
            },
            "colorscale": [
             [
              0,
              "#0d0887"
             ],
             [
              0.1111111111111111,
              "#46039f"
             ],
             [
              0.2222222222222222,
              "#7201a8"
             ],
             [
              0.3333333333333333,
              "#9c179e"
             ],
             [
              0.4444444444444444,
              "#bd3786"
             ],
             [
              0.5555555555555556,
              "#d8576b"
             ],
             [
              0.6666666666666666,
              "#ed7953"
             ],
             [
              0.7777777777777778,
              "#fb9f3a"
             ],
             [
              0.8888888888888888,
              "#fdca26"
             ],
             [
              1,
              "#f0f921"
             ]
            ],
            "type": "contour"
           }
          ],
          "contourcarpet": [
           {
            "colorbar": {
             "outlinewidth": 0,
             "ticks": ""
            },
            "type": "contourcarpet"
           }
          ],
          "heatmap": [
           {
            "colorbar": {
             "outlinewidth": 0,
             "ticks": ""
            },
            "colorscale": [
             [
              0,
              "#0d0887"
             ],
             [
              0.1111111111111111,
              "#46039f"
             ],
             [
              0.2222222222222222,
              "#7201a8"
             ],
             [
              0.3333333333333333,
              "#9c179e"
             ],
             [
              0.4444444444444444,
              "#bd3786"
             ],
             [
              0.5555555555555556,
              "#d8576b"
             ],
             [
              0.6666666666666666,
              "#ed7953"
             ],
             [
              0.7777777777777778,
              "#fb9f3a"
             ],
             [
              0.8888888888888888,
              "#fdca26"
             ],
             [
              1,
              "#f0f921"
             ]
            ],
            "type": "heatmap"
           }
          ],
          "heatmapgl": [
           {
            "colorbar": {
             "outlinewidth": 0,
             "ticks": ""
            },
            "colorscale": [
             [
              0,
              "#0d0887"
             ],
             [
              0.1111111111111111,
              "#46039f"
             ],
             [
              0.2222222222222222,
              "#7201a8"
             ],
             [
              0.3333333333333333,
              "#9c179e"
             ],
             [
              0.4444444444444444,
              "#bd3786"
             ],
             [
              0.5555555555555556,
              "#d8576b"
             ],
             [
              0.6666666666666666,
              "#ed7953"
             ],
             [
              0.7777777777777778,
              "#fb9f3a"
             ],
             [
              0.8888888888888888,
              "#fdca26"
             ],
             [
              1,
              "#f0f921"
             ]
            ],
            "type": "heatmapgl"
           }
          ],
          "histogram": [
           {
            "marker": {
             "pattern": {
              "fillmode": "overlay",
              "size": 10,
              "solidity": 0.2
             }
            },
            "type": "histogram"
           }
          ],
          "histogram2d": [
           {
            "colorbar": {
             "outlinewidth": 0,
             "ticks": ""
            },
            "colorscale": [
             [
              0,
              "#0d0887"
             ],
             [
              0.1111111111111111,
              "#46039f"
             ],
             [
              0.2222222222222222,
              "#7201a8"
             ],
             [
              0.3333333333333333,
              "#9c179e"
             ],
             [
              0.4444444444444444,
              "#bd3786"
             ],
             [
              0.5555555555555556,
              "#d8576b"
             ],
             [
              0.6666666666666666,
              "#ed7953"
             ],
             [
              0.7777777777777778,
              "#fb9f3a"
             ],
             [
              0.8888888888888888,
              "#fdca26"
             ],
             [
              1,
              "#f0f921"
             ]
            ],
            "type": "histogram2d"
           }
          ],
          "histogram2dcontour": [
           {
            "colorbar": {
             "outlinewidth": 0,
             "ticks": ""
            },
            "colorscale": [
             [
              0,
              "#0d0887"
             ],
             [
              0.1111111111111111,
              "#46039f"
             ],
             [
              0.2222222222222222,
              "#7201a8"
             ],
             [
              0.3333333333333333,
              "#9c179e"
             ],
             [
              0.4444444444444444,
              "#bd3786"
             ],
             [
              0.5555555555555556,
              "#d8576b"
             ],
             [
              0.6666666666666666,
              "#ed7953"
             ],
             [
              0.7777777777777778,
              "#fb9f3a"
             ],
             [
              0.8888888888888888,
              "#fdca26"
             ],
             [
              1,
              "#f0f921"
             ]
            ],
            "type": "histogram2dcontour"
           }
          ],
          "mesh3d": [
           {
            "colorbar": {
             "outlinewidth": 0,
             "ticks": ""
            },
            "type": "mesh3d"
           }
          ],
          "parcoords": [
           {
            "line": {
             "colorbar": {
              "outlinewidth": 0,
              "ticks": ""
             }
            },
            "type": "parcoords"
           }
          ],
          "pie": [
           {
            "automargin": true,
            "type": "pie"
           }
          ],
          "scatter": [
           {
            "fillpattern": {
             "fillmode": "overlay",
             "size": 10,
             "solidity": 0.2
            },
            "type": "scatter"
           }
          ],
          "scatter3d": [
           {
            "line": {
             "colorbar": {
              "outlinewidth": 0,
              "ticks": ""
             }
            },
            "marker": {
             "colorbar": {
              "outlinewidth": 0,
              "ticks": ""
             }
            },
            "type": "scatter3d"
           }
          ],
          "scattercarpet": [
           {
            "marker": {
             "colorbar": {
              "outlinewidth": 0,
              "ticks": ""
             }
            },
            "type": "scattercarpet"
           }
          ],
          "scattergeo": [
           {
            "marker": {
             "colorbar": {
              "outlinewidth": 0,
              "ticks": ""
             }
            },
            "type": "scattergeo"
           }
          ],
          "scattergl": [
           {
            "marker": {
             "colorbar": {
              "outlinewidth": 0,
              "ticks": ""
             }
            },
            "type": "scattergl"
           }
          ],
          "scattermapbox": [
           {
            "marker": {
             "colorbar": {
              "outlinewidth": 0,
              "ticks": ""
             }
            },
            "type": "scattermapbox"
           }
          ],
          "scatterpolar": [
           {
            "marker": {
             "colorbar": {
              "outlinewidth": 0,
              "ticks": ""
             }
            },
            "type": "scatterpolar"
           }
          ],
          "scatterpolargl": [
           {
            "marker": {
             "colorbar": {
              "outlinewidth": 0,
              "ticks": ""
             }
            },
            "type": "scatterpolargl"
           }
          ],
          "scatterternary": [
           {
            "marker": {
             "colorbar": {
              "outlinewidth": 0,
              "ticks": ""
             }
            },
            "type": "scatterternary"
           }
          ],
          "surface": [
           {
            "colorbar": {
             "outlinewidth": 0,
             "ticks": ""
            },
            "colorscale": [
             [
              0,
              "#0d0887"
             ],
             [
              0.1111111111111111,
              "#46039f"
             ],
             [
              0.2222222222222222,
              "#7201a8"
             ],
             [
              0.3333333333333333,
              "#9c179e"
             ],
             [
              0.4444444444444444,
              "#bd3786"
             ],
             [
              0.5555555555555556,
              "#d8576b"
             ],
             [
              0.6666666666666666,
              "#ed7953"
             ],
             [
              0.7777777777777778,
              "#fb9f3a"
             ],
             [
              0.8888888888888888,
              "#fdca26"
             ],
             [
              1,
              "#f0f921"
             ]
            ],
            "type": "surface"
           }
          ],
          "table": [
           {
            "cells": {
             "fill": {
              "color": "#EBF0F8"
             },
             "line": {
              "color": "white"
             }
            },
            "header": {
             "fill": {
              "color": "#C8D4E3"
             },
             "line": {
              "color": "white"
             }
            },
            "type": "table"
           }
          ]
         },
         "layout": {
          "annotationdefaults": {
           "arrowcolor": "#2a3f5f",
           "arrowhead": 0,
           "arrowwidth": 1
          },
          "autotypenumbers": "strict",
          "coloraxis": {
           "colorbar": {
            "outlinewidth": 0,
            "ticks": ""
           }
          },
          "colorscale": {
           "diverging": [
            [
             0,
             "#8e0152"
            ],
            [
             0.1,
             "#c51b7d"
            ],
            [
             0.2,
             "#de77ae"
            ],
            [
             0.3,
             "#f1b6da"
            ],
            [
             0.4,
             "#fde0ef"
            ],
            [
             0.5,
             "#f7f7f7"
            ],
            [
             0.6,
             "#e6f5d0"
            ],
            [
             0.7,
             "#b8e186"
            ],
            [
             0.8,
             "#7fbc41"
            ],
            [
             0.9,
             "#4d9221"
            ],
            [
             1,
             "#276419"
            ]
           ],
           "sequential": [
            [
             0,
             "#0d0887"
            ],
            [
             0.1111111111111111,
             "#46039f"
            ],
            [
             0.2222222222222222,
             "#7201a8"
            ],
            [
             0.3333333333333333,
             "#9c179e"
            ],
            [
             0.4444444444444444,
             "#bd3786"
            ],
            [
             0.5555555555555556,
             "#d8576b"
            ],
            [
             0.6666666666666666,
             "#ed7953"
            ],
            [
             0.7777777777777778,
             "#fb9f3a"
            ],
            [
             0.8888888888888888,
             "#fdca26"
            ],
            [
             1,
             "#f0f921"
            ]
           ],
           "sequentialminus": [
            [
             0,
             "#0d0887"
            ],
            [
             0.1111111111111111,
             "#46039f"
            ],
            [
             0.2222222222222222,
             "#7201a8"
            ],
            [
             0.3333333333333333,
             "#9c179e"
            ],
            [
             0.4444444444444444,
             "#bd3786"
            ],
            [
             0.5555555555555556,
             "#d8576b"
            ],
            [
             0.6666666666666666,
             "#ed7953"
            ],
            [
             0.7777777777777778,
             "#fb9f3a"
            ],
            [
             0.8888888888888888,
             "#fdca26"
            ],
            [
             1,
             "#f0f921"
            ]
           ]
          },
          "colorway": [
           "#636efa",
           "#EF553B",
           "#00cc96",
           "#ab63fa",
           "#FFA15A",
           "#19d3f3",
           "#FF6692",
           "#B6E880",
           "#FF97FF",
           "#FECB52"
          ],
          "font": {
           "color": "#2a3f5f"
          },
          "geo": {
           "bgcolor": "white",
           "lakecolor": "white",
           "landcolor": "#E5ECF6",
           "showlakes": true,
           "showland": true,
           "subunitcolor": "white"
          },
          "hoverlabel": {
           "align": "left"
          },
          "hovermode": "closest",
          "mapbox": {
           "style": "light"
          },
          "paper_bgcolor": "white",
          "plot_bgcolor": "#E5ECF6",
          "polar": {
           "angularaxis": {
            "gridcolor": "white",
            "linecolor": "white",
            "ticks": ""
           },
           "bgcolor": "#E5ECF6",
           "radialaxis": {
            "gridcolor": "white",
            "linecolor": "white",
            "ticks": ""
           }
          },
          "scene": {
           "xaxis": {
            "backgroundcolor": "#E5ECF6",
            "gridcolor": "white",
            "gridwidth": 2,
            "linecolor": "white",
            "showbackground": true,
            "ticks": "",
            "zerolinecolor": "white"
           },
           "yaxis": {
            "backgroundcolor": "#E5ECF6",
            "gridcolor": "white",
            "gridwidth": 2,
            "linecolor": "white",
            "showbackground": true,
            "ticks": "",
            "zerolinecolor": "white"
           },
           "zaxis": {
            "backgroundcolor": "#E5ECF6",
            "gridcolor": "white",
            "gridwidth": 2,
            "linecolor": "white",
            "showbackground": true,
            "ticks": "",
            "zerolinecolor": "white"
           }
          },
          "shapedefaults": {
           "line": {
            "color": "#2a3f5f"
           }
          },
          "ternary": {
           "aaxis": {
            "gridcolor": "white",
            "linecolor": "white",
            "ticks": ""
           },
           "baxis": {
            "gridcolor": "white",
            "linecolor": "white",
            "ticks": ""
           },
           "bgcolor": "#E5ECF6",
           "caxis": {
            "gridcolor": "white",
            "linecolor": "white",
            "ticks": ""
           }
          },
          "title": {
           "x": 0.05
          },
          "xaxis": {
           "automargin": true,
           "gridcolor": "white",
           "linecolor": "white",
           "ticks": "",
           "title": {
            "standoff": 15
           },
           "zerolinecolor": "white",
           "zerolinewidth": 2
          },
          "yaxis": {
           "automargin": true,
           "gridcolor": "white",
           "linecolor": "white",
           "ticks": "",
           "title": {
            "standoff": 15
           },
           "zerolinecolor": "white",
           "zerolinewidth": 2
          }
         }
        },
        "xaxis": {
         "anchor": "y",
         "domain": [
          0,
          1
         ],
         "title": {
          "text": "Year"
         }
        },
        "yaxis": {
         "anchor": "x",
         "domain": [
          0,
          1
         ],
         "title": {
          "text": "Housing Units"
         }
        }
       }
      }
     },
     "metadata": {},
     "output_type": "display_data"
    }
   ],
   "source": [
    "px.line(year_data,x=\"Year\", y=\"Housing Units\",hover_data =['total_Homeless','People left Homeless','Minors left Homeless'])"
   ]
  },
  {
   "cell_type": "markdown",
   "metadata": {},
   "source": [
    "### `final data` "
   ]
  },
  {
   "cell_type": "code",
   "execution_count": 72,
   "metadata": {},
   "outputs": [],
   "source": [
    "months= {1:\"January\",2:\"February\",3:\"March \",4:\"April\",5:\"May\",6:\"June \",7:\"July\",8:\"August\",9:\"September\",10:\"October\",11:\"November\",12:\"December\"}"
   ]
  },
  {
   "cell_type": "code",
   "execution_count": 74,
   "metadata": {},
   "outputs": [],
   "source": [
    "all_data[['Month']]=all_data[['Month']].replace(months)"
   ]
  },
  {
   "cell_type": "code",
   "execution_count": 76,
   "metadata": {},
   "outputs": [],
   "source": [
    "year_moth_data[['Month']]=year_moth_data[['Month']].replace(months)"
   ]
  },
  {
   "cell_type": "code",
   "execution_count": 78,
   "metadata": {},
   "outputs": [
    {
     "data": {
      "text/html": [
       "<div>\n",
       "<style scoped>\n",
       "    .dataframe tbody tr th:only-of-type {\n",
       "        vertical-align: middle;\n",
       "    }\n",
       "\n",
       "    .dataframe tbody tr th {\n",
       "        vertical-align: top;\n",
       "    }\n",
       "\n",
       "    .dataframe thead th {\n",
       "        text-align: right;\n",
       "    }\n",
       "</style>\n",
       "<table border=\"1\" class=\"dataframe\">\n",
       "  <thead>\n",
       "    <tr style=\"text-align: right;\">\n",
       "      <th></th>\n",
       "      <th>Year</th>\n",
       "      <th>Housing Units</th>\n",
       "      <th>Minors left Homeless</th>\n",
       "      <th>People left Homeless</th>\n",
       "      <th>total_Homeless</th>\n",
       "    </tr>\n",
       "  </thead>\n",
       "  <tbody>\n",
       "    <tr>\n",
       "      <th>0</th>\n",
       "      <td>2004</td>\n",
       "      <td>1581</td>\n",
       "      <td>0</td>\n",
       "      <td>11613</td>\n",
       "      <td>11613</td>\n",
       "    </tr>\n",
       "    <tr>\n",
       "      <th>1</th>\n",
       "      <td>2005</td>\n",
       "      <td>17</td>\n",
       "      <td>0</td>\n",
       "      <td>74</td>\n",
       "      <td>74</td>\n",
       "    </tr>\n",
       "    <tr>\n",
       "      <th>2</th>\n",
       "      <td>2006</td>\n",
       "      <td>404</td>\n",
       "      <td>78</td>\n",
       "      <td>2375</td>\n",
       "      <td>2453</td>\n",
       "    </tr>\n",
       "    <tr>\n",
       "      <th>3</th>\n",
       "      <td>2007</td>\n",
       "      <td>90</td>\n",
       "      <td>191</td>\n",
       "      <td>449</td>\n",
       "      <td>640</td>\n",
       "    </tr>\n",
       "    <tr>\n",
       "      <th>4</th>\n",
       "      <td>2008</td>\n",
       "      <td>84</td>\n",
       "      <td>234</td>\n",
       "      <td>432</td>\n",
       "      <td>666</td>\n",
       "    </tr>\n",
       "    <tr>\n",
       "      <th>5</th>\n",
       "      <td>2009</td>\n",
       "      <td>31</td>\n",
       "      <td>62</td>\n",
       "      <td>246</td>\n",
       "      <td>308</td>\n",
       "    </tr>\n",
       "    <tr>\n",
       "      <th>6</th>\n",
       "      <td>2010</td>\n",
       "      <td>98</td>\n",
       "      <td>211</td>\n",
       "      <td>431</td>\n",
       "      <td>642</td>\n",
       "    </tr>\n",
       "    <tr>\n",
       "      <th>7</th>\n",
       "      <td>2011</td>\n",
       "      <td>159</td>\n",
       "      <td>407</td>\n",
       "      <td>865</td>\n",
       "      <td>1272</td>\n",
       "    </tr>\n",
       "    <tr>\n",
       "      <th>8</th>\n",
       "      <td>2012</td>\n",
       "      <td>272</td>\n",
       "      <td>274</td>\n",
       "      <td>526</td>\n",
       "      <td>800</td>\n",
       "    </tr>\n",
       "    <tr>\n",
       "      <th>9</th>\n",
       "      <td>2013</td>\n",
       "      <td>419</td>\n",
       "      <td>272</td>\n",
       "      <td>532</td>\n",
       "      <td>804</td>\n",
       "    </tr>\n",
       "    <tr>\n",
       "      <th>10</th>\n",
       "      <td>2014</td>\n",
       "      <td>349</td>\n",
       "      <td>411</td>\n",
       "      <td>758</td>\n",
       "      <td>1169</td>\n",
       "    </tr>\n",
       "    <tr>\n",
       "      <th>11</th>\n",
       "      <td>2015</td>\n",
       "      <td>344</td>\n",
       "      <td>316</td>\n",
       "      <td>560</td>\n",
       "      <td>876</td>\n",
       "    </tr>\n",
       "    <tr>\n",
       "      <th>12</th>\n",
       "      <td>2016</td>\n",
       "      <td>678</td>\n",
       "      <td>656</td>\n",
       "      <td>1318</td>\n",
       "      <td>1974</td>\n",
       "    </tr>\n",
       "    <tr>\n",
       "      <th>13</th>\n",
       "      <td>2017</td>\n",
       "      <td>216</td>\n",
       "      <td>222</td>\n",
       "      <td>402</td>\n",
       "      <td>624</td>\n",
       "    </tr>\n",
       "    <tr>\n",
       "      <th>14</th>\n",
       "      <td>2018</td>\n",
       "      <td>210</td>\n",
       "      <td>133</td>\n",
       "      <td>288</td>\n",
       "      <td>421</td>\n",
       "    </tr>\n",
       "    <tr>\n",
       "      <th>15</th>\n",
       "      <td>2019</td>\n",
       "      <td>275</td>\n",
       "      <td>175</td>\n",
       "      <td>385</td>\n",
       "      <td>560</td>\n",
       "    </tr>\n",
       "    <tr>\n",
       "      <th>16</th>\n",
       "      <td>2020</td>\n",
       "      <td>572</td>\n",
       "      <td>318</td>\n",
       "      <td>632</td>\n",
       "      <td>950</td>\n",
       "    </tr>\n",
       "    <tr>\n",
       "      <th>17</th>\n",
       "      <td>2021</td>\n",
       "      <td>687</td>\n",
       "      <td>322</td>\n",
       "      <td>606</td>\n",
       "      <td>928</td>\n",
       "    </tr>\n",
       "    <tr>\n",
       "      <th>18</th>\n",
       "      <td>2022</td>\n",
       "      <td>166</td>\n",
       "      <td>52</td>\n",
       "      <td>116</td>\n",
       "      <td>168</td>\n",
       "    </tr>\n",
       "  </tbody>\n",
       "</table>\n",
       "</div>"
      ],
      "text/plain": [
       "    Year  Housing Units  Minors left Homeless  People left Homeless  \\\n",
       "0   2004           1581                     0                 11613   \n",
       "1   2005             17                     0                    74   \n",
       "2   2006            404                    78                  2375   \n",
       "3   2007             90                   191                   449   \n",
       "4   2008             84                   234                   432   \n",
       "5   2009             31                    62                   246   \n",
       "6   2010             98                   211                   431   \n",
       "7   2011            159                   407                   865   \n",
       "8   2012            272                   274                   526   \n",
       "9   2013            419                   272                   532   \n",
       "10  2014            349                   411                   758   \n",
       "11  2015            344                   316                   560   \n",
       "12  2016            678                   656                  1318   \n",
       "13  2017            216                   222                   402   \n",
       "14  2018            210                   133                   288   \n",
       "15  2019            275                   175                   385   \n",
       "16  2020            572                   318                   632   \n",
       "17  2021            687                   322                   606   \n",
       "18  2022            166                    52                   116   \n",
       "\n",
       "    total_Homeless  \n",
       "0            11613  \n",
       "1               74  \n",
       "2             2453  \n",
       "3              640  \n",
       "4              666  \n",
       "5              308  \n",
       "6              642  \n",
       "7             1272  \n",
       "8              800  \n",
       "9              804  \n",
       "10            1169  \n",
       "11             876  \n",
       "12            1974  \n",
       "13             624  \n",
       "14             421  \n",
       "15             560  \n",
       "16             950  \n",
       "17             928  \n",
       "18             168  "
      ]
     },
     "execution_count": 78,
     "metadata": {},
     "output_type": "execute_result"
    }
   ],
   "source": [
    "year_data"
   ]
  },
  {
   "cell_type": "code",
   "execution_count": 79,
   "metadata": {},
   "outputs": [],
   "source": [
    "year_data.to_csv('D:\\\\extrnal hard\\\\ITI\\Data visual\\\\data_visual_project\\\\data\\\\year_demolitions.csv',index=False)"
   ]
  },
  {
   "cell_type": "code",
   "execution_count": 80,
   "metadata": {},
   "outputs": [],
   "source": [
    "year_moth_data.to_csv('D:\\\\extrnal hard\\\\ITI\\Data visual\\\\data_visual_project\\\\data\\\\year_month_demolitions.csv',index=False)"
   ]
  },
  {
   "cell_type": "code",
   "execution_count": 81,
   "metadata": {},
   "outputs": [],
   "source": [
    "all_data.to_csv('D:\\\\extrnal hard\\\\ITI\\Data visual\\\\data_visual_project\\\\data\\\\new_demolitions_data.csv',index=False)"
   ]
  },
  {
   "cell_type": "code",
   "execution_count": null,
   "metadata": {},
   "outputs": [],
   "source": []
  }
 ],
 "metadata": {
  "interpreter": {
   "hash": "98637b40af13a3b0febed2a68b14729a431d5fc1fe8e9140a474894a246ad01c"
  },
  "kernelspec": {
   "display_name": "Python 3.7.6 ('base')",
   "language": "python",
   "name": "python3"
  },
  "language_info": {
   "codemirror_mode": {
    "name": "ipython",
    "version": 3
   },
   "file_extension": ".py",
   "mimetype": "text/x-python",
   "name": "python",
   "nbconvert_exporter": "python",
   "pygments_lexer": "ipython3",
   "version": "3.7.6"
  },
  "orig_nbformat": 4
 },
 "nbformat": 4,
 "nbformat_minor": 2
}
